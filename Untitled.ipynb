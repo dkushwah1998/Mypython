{
 "cells": [
  {
   "cell_type": "code",
   "execution_count": 2,
   "id": "0bd84f1a",
   "metadata": {},
   "outputs": [],
   "source": [
    "#import libraries\n",
    "import numpy as np\n",
    "import pandas as pd\n",
    "import matplotlib.pyplot as plt"
   ]
  },
  {
   "cell_type": "code",
   "execution_count": 14,
   "id": "dba4f791",
   "metadata": {},
   "outputs": [],
   "source": [
    "df = pd.read_csv(r\"C:\\Users\\HP\\Desktop\\Projects\\Movie Rating\\Trandingmovies.csv\",index_col = 0)"
   ]
  },
  {
   "cell_type": "code",
   "execution_count": 15,
   "id": "8c647e8e",
   "metadata": {},
   "outputs": [
    {
     "data": {
      "text/html": [
       "<div>\n",
       "<style scoped>\n",
       "    .dataframe tbody tr th:only-of-type {\n",
       "        vertical-align: middle;\n",
       "    }\n",
       "\n",
       "    .dataframe tbody tr th {\n",
       "        vertical-align: top;\n",
       "    }\n",
       "\n",
       "    .dataframe thead th {\n",
       "        text-align: right;\n",
       "    }\n",
       "</style>\n",
       "<table border=\"1\" class=\"dataframe\">\n",
       "  <thead>\n",
       "    <tr style=\"text-align: right;\">\n",
       "      <th></th>\n",
       "      <th>id</th>\n",
       "      <th>title</th>\n",
       "      <th>overview</th>\n",
       "      <th>popularity</th>\n",
       "      <th>release_date</th>\n",
       "      <th>vote_average</th>\n",
       "      <th>vote_count</th>\n",
       "    </tr>\n",
       "  </thead>\n",
       "  <tbody>\n",
       "    <tr>\n",
       "      <th>0</th>\n",
       "      <td>881164</td>\n",
       "      <td>Boston Strangler</td>\n",
       "      <td>Reporters Loretta McLaughlin and Jean Cole bra...</td>\n",
       "      <td>92.814</td>\n",
       "      <td>2023-03-17</td>\n",
       "      <td>6.700</td>\n",
       "      <td>43</td>\n",
       "    </tr>\n",
       "    <tr>\n",
       "      <th>1</th>\n",
       "      <td>776835</td>\n",
       "      <td>The Magician's Elephant</td>\n",
       "      <td>Peter is searching for his long-lost sister wh...</td>\n",
       "      <td>39.777</td>\n",
       "      <td>2023-03-10</td>\n",
       "      <td>7.500</td>\n",
       "      <td>18</td>\n",
       "    </tr>\n",
       "    <tr>\n",
       "      <th>2</th>\n",
       "      <td>594767</td>\n",
       "      <td>Shazam! Fury of the Gods</td>\n",
       "      <td>Billy Batson and his foster siblings, who tran...</td>\n",
       "      <td>1403.993</td>\n",
       "      <td>2023-03-15</td>\n",
       "      <td>7.540</td>\n",
       "      <td>89</td>\n",
       "    </tr>\n",
       "    <tr>\n",
       "      <th>3</th>\n",
       "      <td>804150</td>\n",
       "      <td>Cocaine Bear</td>\n",
       "      <td>Inspired by a true story, an oddball group of ...</td>\n",
       "      <td>992.677</td>\n",
       "      <td>2023-02-22</td>\n",
       "      <td>6.706</td>\n",
       "      <td>260</td>\n",
       "    </tr>\n",
       "    <tr>\n",
       "      <th>4</th>\n",
       "      <td>1057577</td>\n",
       "      <td>Noise</td>\n",
       "      <td>Matt, an influencer and young parent to newbor...</td>\n",
       "      <td>61.501</td>\n",
       "      <td>2023-03-17</td>\n",
       "      <td>6.100</td>\n",
       "      <td>13</td>\n",
       "    </tr>\n",
       "    <tr>\n",
       "      <th>...</th>\n",
       "      <td>...</td>\n",
       "      <td>...</td>\n",
       "      <td>...</td>\n",
       "      <td>...</td>\n",
       "      <td>...</td>\n",
       "      <td>...</td>\n",
       "      <td>...</td>\n",
       "    </tr>\n",
       "    <tr>\n",
       "      <th>19995</th>\n",
       "      <td>110126</td>\n",
       "      <td>NaN</td>\n",
       "      <td>Elvis Presley trades in his white jumpsuit for...</td>\n",
       "      <td>71.730</td>\n",
       "      <td>NaN</td>\n",
       "      <td>8.500</td>\n",
       "      <td>4</td>\n",
       "    </tr>\n",
       "    <tr>\n",
       "      <th>19996</th>\n",
       "      <td>1087040</td>\n",
       "      <td>Money Shot: The Pornhub Story</td>\n",
       "      <td>Featuring interviews with performers, activist...</td>\n",
       "      <td>348.453</td>\n",
       "      <td>2023-03-15</td>\n",
       "      <td>5.278</td>\n",
       "      <td>27</td>\n",
       "    </tr>\n",
       "    <tr>\n",
       "      <th>19997</th>\n",
       "      <td>603692</td>\n",
       "      <td>John Wick: Chapter 4</td>\n",
       "      <td>With the price on his head ever increasing, Jo...</td>\n",
       "      <td>530.197</td>\n",
       "      <td>2023-03-22</td>\n",
       "      <td>9.094</td>\n",
       "      <td>16</td>\n",
       "    </tr>\n",
       "    <tr>\n",
       "      <th>19998</th>\n",
       "      <td>934433</td>\n",
       "      <td>Scream VI</td>\n",
       "      <td>Following the latest Ghostface killings, the f...</td>\n",
       "      <td>849.321</td>\n",
       "      <td>2023-03-08</td>\n",
       "      <td>7.394</td>\n",
       "      <td>302</td>\n",
       "    </tr>\n",
       "    <tr>\n",
       "      <th>19999</th>\n",
       "      <td>881462</td>\n",
       "      <td>Still Time</td>\n",
       "      <td>Dante accidentally kisses Alice and they get e...</td>\n",
       "      <td>17.669</td>\n",
       "      <td>2023-03-16</td>\n",
       "      <td>7.000</td>\n",
       "      <td>28</td>\n",
       "    </tr>\n",
       "  </tbody>\n",
       "</table>\n",
       "<p>20000 rows × 7 columns</p>\n",
       "</div>"
      ],
      "text/plain": [
       "            id                          title  \\\n",
       "0       881164               Boston Strangler   \n",
       "1       776835        The Magician's Elephant   \n",
       "2       594767       Shazam! Fury of the Gods   \n",
       "3       804150                   Cocaine Bear   \n",
       "4      1057577                          Noise   \n",
       "...        ...                            ...   \n",
       "19995   110126                            NaN   \n",
       "19996  1087040  Money Shot: The Pornhub Story   \n",
       "19997   603692           John Wick: Chapter 4   \n",
       "19998   934433                      Scream VI   \n",
       "19999   881462                     Still Time   \n",
       "\n",
       "                                                overview  popularity  \\\n",
       "0      Reporters Loretta McLaughlin and Jean Cole bra...      92.814   \n",
       "1      Peter is searching for his long-lost sister wh...      39.777   \n",
       "2      Billy Batson and his foster siblings, who tran...    1403.993   \n",
       "3      Inspired by a true story, an oddball group of ...     992.677   \n",
       "4      Matt, an influencer and young parent to newbor...      61.501   \n",
       "...                                                  ...         ...   \n",
       "19995  Elvis Presley trades in his white jumpsuit for...      71.730   \n",
       "19996  Featuring interviews with performers, activist...     348.453   \n",
       "19997  With the price on his head ever increasing, Jo...     530.197   \n",
       "19998  Following the latest Ghostface killings, the f...     849.321   \n",
       "19999  Dante accidentally kisses Alice and they get e...      17.669   \n",
       "\n",
       "      release_date  vote_average  vote_count  \n",
       "0       2023-03-17         6.700          43  \n",
       "1       2023-03-10         7.500          18  \n",
       "2       2023-03-15         7.540          89  \n",
       "3       2023-02-22         6.706         260  \n",
       "4       2023-03-17         6.100          13  \n",
       "...            ...           ...         ...  \n",
       "19995          NaN         8.500           4  \n",
       "19996   2023-03-15         5.278          27  \n",
       "19997   2023-03-22         9.094          16  \n",
       "19998   2023-03-08         7.394         302  \n",
       "19999   2023-03-16         7.000          28  \n",
       "\n",
       "[20000 rows x 7 columns]"
      ]
     },
     "execution_count": 15,
     "metadata": {},
     "output_type": "execute_result"
    }
   ],
   "source": [
    "df"
   ]
  },
  {
   "cell_type": "code",
   "execution_count": 16,
   "id": "108aba38",
   "metadata": {},
   "outputs": [
    {
     "name": "stdout",
     "output_type": "stream",
     "text": [
      "<class 'pandas.core.frame.DataFrame'>\n",
      "Int64Index: 20000 entries, 0 to 19999\n",
      "Data columns (total 7 columns):\n",
      " #   Column        Non-Null Count  Dtype  \n",
      "---  ------        --------------  -----  \n",
      " 0   id            20000 non-null  int64  \n",
      " 1   title         12000 non-null  object \n",
      " 2   overview      20000 non-null  object \n",
      " 3   popularity    20000 non-null  float64\n",
      " 4   release_date  12000 non-null  object \n",
      " 5   vote_average  20000 non-null  float64\n",
      " 6   vote_count    20000 non-null  int64  \n",
      "dtypes: float64(2), int64(2), object(3)\n",
      "memory usage: 1.2+ MB\n"
     ]
    }
   ],
   "source": [
    "#summary of data\n",
    "df.info()"
   ]
  },
  {
   "cell_type": "code",
   "execution_count": 17,
   "id": "49882d42",
   "metadata": {},
   "outputs": [
    {
     "data": {
      "text/plain": [
       "id                 0\n",
       "title           8000\n",
       "overview           0\n",
       "popularity         0\n",
       "release_date    8000\n",
       "vote_average       0\n",
       "vote_count         0\n",
       "dtype: int64"
      ]
     },
     "execution_count": 17,
     "metadata": {},
     "output_type": "execute_result"
    }
   ],
   "source": [
    "df.isnull().sum()"
   ]
  },
  {
   "cell_type": "code",
   "execution_count": 18,
   "id": "3e95d18e",
   "metadata": {},
   "outputs": [],
   "source": [
    "df.dropna(inplace = True)"
   ]
  },
  {
   "cell_type": "code",
   "execution_count": 19,
   "id": "c04cd04e",
   "metadata": {},
   "outputs": [
    {
     "name": "stdout",
     "output_type": "stream",
     "text": [
      "<class 'pandas.core.frame.DataFrame'>\n",
      "Int64Index: 12000 entries, 0 to 19999\n",
      "Data columns (total 7 columns):\n",
      " #   Column        Non-Null Count  Dtype  \n",
      "---  ------        --------------  -----  \n",
      " 0   id            12000 non-null  int64  \n",
      " 1   title         12000 non-null  object \n",
      " 2   overview      12000 non-null  object \n",
      " 3   popularity    12000 non-null  float64\n",
      " 4   release_date  12000 non-null  object \n",
      " 5   vote_average  12000 non-null  float64\n",
      " 6   vote_count    12000 non-null  int64  \n",
      "dtypes: float64(2), int64(2), object(3)\n",
      "memory usage: 750.0+ KB\n"
     ]
    }
   ],
   "source": [
    "df.info()"
   ]
  },
  {
   "cell_type": "code",
   "execution_count": 22,
   "id": "6450bb9c",
   "metadata": {},
   "outputs": [
    {
     "name": "stdout",
     "output_type": "stream",
     "text": [
      "id's unique values: 12\n",
      "title's unique values: 12\n",
      "overview's unique values: 12\n",
      "popularity's unique values: 12\n",
      "release_date's unique values: 9\n",
      "vote_average's unique values: 11\n",
      "vote_count's unique values: 12\n"
     ]
    }
   ],
   "source": [
    "for i in df.columns:\n",
    "    print(f\"{i}'s unique values: {df[i].nunique()}\")"
   ]
  },
  {
   "cell_type": "code",
   "execution_count": 27,
   "id": "b3ac65ca",
   "metadata": {},
   "outputs": [
    {
     "data": {
      "text/plain": [
       "11988"
      ]
     },
     "execution_count": 27,
     "metadata": {},
     "output_type": "execute_result"
    }
   ],
   "source": [
    "df['id'].duplicated().sum()"
   ]
  },
  {
   "cell_type": "code",
   "execution_count": 28,
   "id": "abd6792f",
   "metadata": {},
   "outputs": [
    {
     "data": {
      "text/html": [
       "<div>\n",
       "<style scoped>\n",
       "    .dataframe tbody tr th:only-of-type {\n",
       "        vertical-align: middle;\n",
       "    }\n",
       "\n",
       "    .dataframe tbody tr th {\n",
       "        vertical-align: top;\n",
       "    }\n",
       "\n",
       "    .dataframe thead th {\n",
       "        text-align: right;\n",
       "    }\n",
       "</style>\n",
       "<table border=\"1\" class=\"dataframe\">\n",
       "  <thead>\n",
       "    <tr style=\"text-align: right;\">\n",
       "      <th></th>\n",
       "      <th>id</th>\n",
       "      <th>popularity</th>\n",
       "      <th>vote_average</th>\n",
       "      <th>vote_count</th>\n",
       "    </tr>\n",
       "  </thead>\n",
       "  <tbody>\n",
       "    <tr>\n",
       "      <th>id</th>\n",
       "      <td>1.000000</td>\n",
       "      <td>-0.540125</td>\n",
       "      <td>-0.777962</td>\n",
       "      <td>-0.512177</td>\n",
       "    </tr>\n",
       "    <tr>\n",
       "      <th>popularity</th>\n",
       "      <td>-0.540125</td>\n",
       "      <td>1.000000</td>\n",
       "      <td>0.351891</td>\n",
       "      <td>0.402999</td>\n",
       "    </tr>\n",
       "    <tr>\n",
       "      <th>vote_average</th>\n",
       "      <td>-0.777962</td>\n",
       "      <td>0.351891</td>\n",
       "      <td>1.000000</td>\n",
       "      <td>0.304788</td>\n",
       "    </tr>\n",
       "    <tr>\n",
       "      <th>vote_count</th>\n",
       "      <td>-0.512177</td>\n",
       "      <td>0.402999</td>\n",
       "      <td>0.304788</td>\n",
       "      <td>1.000000</td>\n",
       "    </tr>\n",
       "  </tbody>\n",
       "</table>\n",
       "</div>"
      ],
      "text/plain": [
       "                    id  popularity  vote_average  vote_count\n",
       "id            1.000000   -0.540125     -0.777962   -0.512177\n",
       "popularity   -0.540125    1.000000      0.351891    0.402999\n",
       "vote_average -0.777962    0.351891      1.000000    0.304788\n",
       "vote_count   -0.512177    0.402999      0.304788    1.000000"
      ]
     },
     "execution_count": 28,
     "metadata": {},
     "output_type": "execute_result"
    }
   ],
   "source": [
    "df.corr()"
   ]
  },
  {
   "cell_type": "code",
   "execution_count": null,
   "id": "f0341a08",
   "metadata": {},
   "outputs": [],
   "source": []
  }
 ],
 "metadata": {
  "kernelspec": {
   "display_name": "Python 3 (ipykernel)",
   "language": "python",
   "name": "python3"
  },
  "language_info": {
   "codemirror_mode": {
    "name": "ipython",
    "version": 3
   },
   "file_extension": ".py",
   "mimetype": "text/x-python",
   "name": "python",
   "nbconvert_exporter": "python",
   "pygments_lexer": "ipython3",
   "version": "3.9.13"
  }
 },
 "nbformat": 4,
 "nbformat_minor": 5
}
