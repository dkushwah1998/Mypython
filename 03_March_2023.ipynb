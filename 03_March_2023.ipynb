{
 "cells": [
  {
   "cell_type": "markdown",
   "id": "497e5b92",
   "metadata": {},
   "source": [
    "# Q1. Here's the scenario: You just graded your students on a recent test. Unfortunately, the test was too challenging, and most students did worse than expected. In order to help everyone out, you will curve everyone's grades.\n",
    "The curve will be relatively simple, however. Taking the average score, you will declare it a C.\n",
    "However, you should ensure that the curve doesn't accidentally hurt your students' grades or\n",
    "help them so much that they do better than 100%.\n",
    "Write a python program using numpy to curve the grades for a number of students."
   ]
  },
  {
   "cell_type": "code",
   "execution_count": 1,
   "id": "f0f6588b",
   "metadata": {},
   "outputs": [],
   "source": [
    "import numpy as np"
   ]
  },
  {
   "cell_type": "code",
   "execution_count": 3,
   "id": "4920940e",
   "metadata": {},
   "outputs": [],
   "source": [
    "student_marks = np.random.randint(0,100,20)"
   ]
  },
  {
   "cell_type": "code",
   "execution_count": 4,
   "id": "2fb109ac",
   "metadata": {},
   "outputs": [
    {
     "data": {
      "text/plain": [
       "array([ 0,  6, 77, 74, 17, 76,  3, 57, 86, 88, 94, 66, 18, 48, 64, 54, 65,\n",
       "       47,  8, 23])"
      ]
     },
     "execution_count": 4,
     "metadata": {},
     "output_type": "execute_result"
    }
   ],
   "source": [
    "student_marks"
   ]
  },
  {
   "cell_type": "code",
   "execution_count": 6,
   "id": "f6add250",
   "metadata": {},
   "outputs": [],
   "source": [
    "avg_marks = np.mean(student_marks)"
   ]
  },
  {
   "cell_type": "code",
   "execution_count": 7,
   "id": "b548611a",
   "metadata": {},
   "outputs": [
    {
     "data": {
      "text/plain": [
       "48.55"
      ]
     },
     "execution_count": 7,
     "metadata": {},
     "output_type": "execute_result"
    }
   ],
   "source": [
    "avg_marks "
   ]
  },
  {
   "cell_type": "code",
   "execution_count": 9,
   "id": "d2aaa5ac",
   "metadata": {},
   "outputs": [],
   "source": [
    "marks = []\n",
    "for i in student_marks:\n",
    "    sum_marks = i + avg_marks\n",
    "    if sum_marks>100:\n",
    "        marks.append(100)\n",
    "    else:\n",
    "        marks.append(sum_marks)"
   ]
  },
  {
   "cell_type": "code",
   "execution_count": 11,
   "id": "b96bfa5a",
   "metadata": {},
   "outputs": [
    {
     "data": {
      "text/plain": [
       "array([ 48.55,  54.55, 100.  , 100.  ,  65.55, 100.  ,  51.55, 100.  ,\n",
       "       100.  , 100.  , 100.  , 100.  ,  66.55,  96.55, 100.  , 100.  ,\n",
       "       100.  ,  95.55,  56.55,  71.55])"
      ]
     },
     "execution_count": 11,
     "metadata": {},
     "output_type": "execute_result"
    }
   ],
   "source": [
    "marks = np.array(marks)\n",
    "marks"
   ]
  },
  {
   "cell_type": "code",
   "execution_count": 13,
   "id": "4977fbce",
   "metadata": {},
   "outputs": [],
   "source": [
    "grade = []\n",
    "for i in marks:\n",
    "    if i>=95:\n",
    "        grade.append('Grade A+')\n",
    "    elif i>= 85 and i<95:\n",
    "        grade.append('Grade A')\n",
    "    elif i>=75 and i<85:\n",
    "        grade.append('Grade B+')\n",
    "    elif i>=60 and i<75:\n",
    "        grade.append('Grade B')\n",
    "    elif i>= 50 and i<60:\n",
    "        grade.append('Grade C')\n",
    "    else:\n",
    "        grade.append('Fail')"
   ]
  },
  {
   "cell_type": "code",
   "execution_count": 14,
   "id": "a518b243",
   "metadata": {},
   "outputs": [],
   "source": [
    "grade_students = np.array(grade)"
   ]
  },
  {
   "cell_type": "code",
   "execution_count": 15,
   "id": "92cffb71",
   "metadata": {},
   "outputs": [
    {
     "data": {
      "text/plain": [
       "array(['Fail', 'Grade C', 'Grade A+', 'Grade A+', 'Grade B', 'Grade A+',\n",
       "       'Grade C', 'Grade A+', 'Grade A+', 'Grade A+', 'Grade A+',\n",
       "       'Grade A+', 'Grade B', 'Grade A+', 'Grade A+', 'Grade A+',\n",
       "       'Grade A+', 'Grade A+', 'Grade C', 'Grade B'], dtype='<U8')"
      ]
     },
     "execution_count": 15,
     "metadata": {},
     "output_type": "execute_result"
    }
   ],
   "source": [
    "grade_students"
   ]
  },
  {
   "cell_type": "markdown",
   "id": "148b8d2c",
   "metadata": {},
   "source": [
    "# Q2. How to find the mean of every NumPy array in the given list?\n",
    "The problem statement is given a list of NumPy arrays, the task is to find the mean of every\n",
    "NumPy array."
   ]
  },
  {
   "cell_type": "code",
   "execution_count": 16,
   "id": "45926d9e",
   "metadata": {},
   "outputs": [],
   "source": [
    "lst = [np.random.randint(0,10,5),np.random.randint(0,10,5),np.random.randint(0,10,5),\n",
    "      np.random.randint(0,10,5),np.random.randint(0,10,5)]"
   ]
  },
  {
   "cell_type": "code",
   "execution_count": 17,
   "id": "672610d5",
   "metadata": {},
   "outputs": [
    {
     "data": {
      "text/plain": [
       "[array([3, 2, 9, 1, 0]),\n",
       " array([3, 6, 7, 3, 0]),\n",
       " array([8, 5, 6, 4, 6]),\n",
       " array([2, 0, 0, 1, 3]),\n",
       " array([0, 7, 0, 0, 0])]"
      ]
     },
     "execution_count": 17,
     "metadata": {},
     "output_type": "execute_result"
    }
   ],
   "source": [
    "lst"
   ]
  },
  {
   "cell_type": "code",
   "execution_count": 18,
   "id": "8df036b5",
   "metadata": {},
   "outputs": [
    {
     "data": {
      "text/plain": [
       "3.0"
      ]
     },
     "execution_count": 18,
     "metadata": {},
     "output_type": "execute_result"
    }
   ],
   "source": [
    "#mean of first array\n",
    "np.mean(lst[0])"
   ]
  },
  {
   "cell_type": "code",
   "execution_count": 19,
   "id": "295f1313",
   "metadata": {},
   "outputs": [
    {
     "data": {
      "text/plain": [
       "3.8"
      ]
     },
     "execution_count": 19,
     "metadata": {},
     "output_type": "execute_result"
    }
   ],
   "source": [
    "#mean of second array\n",
    "np.mean(lst[1])"
   ]
  },
  {
   "cell_type": "code",
   "execution_count": 20,
   "id": "1c002669",
   "metadata": {},
   "outputs": [
    {
     "data": {
      "text/plain": [
       "5.8"
      ]
     },
     "execution_count": 20,
     "metadata": {},
     "output_type": "execute_result"
    }
   ],
   "source": [
    "#mean of third array\n",
    "np.mean(lst[2])"
   ]
  },
  {
   "cell_type": "code",
   "execution_count": 21,
   "id": "6faae07a",
   "metadata": {},
   "outputs": [
    {
     "data": {
      "text/plain": [
       "1.2"
      ]
     },
     "execution_count": 21,
     "metadata": {},
     "output_type": "execute_result"
    }
   ],
   "source": [
    "#mean of fourth array\n",
    "np.mean(lst[3])"
   ]
  },
  {
   "cell_type": "code",
   "execution_count": 23,
   "id": "1e13ddae",
   "metadata": {},
   "outputs": [
    {
     "data": {
      "text/plain": [
       "1.4"
      ]
     },
     "execution_count": 23,
     "metadata": {},
     "output_type": "execute_result"
    }
   ],
   "source": [
    "#mean of fifth array\n",
    "np.mean(lst[4])"
   ]
  },
  {
   "cell_type": "markdown",
   "id": "345ae0ab",
   "metadata": {},
   "source": [
    "# Q3. How to multiply two matrices in a single line using NumPy?"
   ]
  },
  {
   "cell_type": "code",
   "execution_count": 25,
   "id": "d3e0ecba",
   "metadata": {},
   "outputs": [],
   "source": [
    "arr1 = np.random.randint(0,25,25).reshape(5,5)\n",
    "arr2 = np.random.randint(0,25,25).reshape(5,5)"
   ]
  },
  {
   "cell_type": "code",
   "execution_count": 26,
   "id": "57f3b6d1",
   "metadata": {},
   "outputs": [
    {
     "data": {
      "text/plain": [
       "array([[138, 110,   6,  72,  90],\n",
       "       [136, 208, 308, 308, 330],\n",
       "       [117, 273, 143,  96, 231],\n",
       "       [260,  27,  10,  19, 242],\n",
       "       [154,  75, 552,  18,  92]])"
      ]
     },
     "execution_count": 26,
     "metadata": {},
     "output_type": "execute_result"
    }
   ],
   "source": [
    "#multiplication element wise\n",
    "arr1*arr2"
   ]
  },
  {
   "cell_type": "code",
   "execution_count": 27,
   "id": "f4c96a39",
   "metadata": {},
   "outputs": [
    {
     "data": {
      "text/plain": [
       "array([[ 564,  560,  705,  921, 1008],\n",
       "       [1108, 1028, 1150,  790, 1747],\n",
       "       [ 855,  755,  883,  532, 1388],\n",
       "       [ 646,  395,  629,  611,  958],\n",
       "       [ 588,  805,  677,  497, 1041]])"
      ]
     },
     "execution_count": 27,
     "metadata": {},
     "output_type": "execute_result"
    }
   ],
   "source": [
    "#multiplication dot product\n",
    "np.dot(arr1,arr2)"
   ]
  },
  {
   "cell_type": "markdown",
   "id": "0f924829",
   "metadata": {},
   "source": [
    "# Q6. How to add rows and columns in a NumPy array?\n",
    "The problem statement is given a NumPy array, the task is to add rows/columns based on\n",
    "requirements to the numpy array."
   ]
  },
  {
   "cell_type": "code",
   "execution_count": 28,
   "id": "685c1118",
   "metadata": {},
   "outputs": [
    {
     "data": {
      "text/plain": [
       "array([[23, 22,  1,  3,  9],\n",
       "       [17, 13, 22, 22, 15],\n",
       "       [ 9, 13, 11, 24, 11],\n",
       "       [20,  3,  1, 19, 11],\n",
       "       [ 7, 15, 23,  3,  4]])"
      ]
     },
     "execution_count": 28,
     "metadata": {},
     "output_type": "execute_result"
    }
   ],
   "source": [
    "arr1"
   ]
  },
  {
   "cell_type": "code",
   "execution_count": 29,
   "id": "9090cd25",
   "metadata": {},
   "outputs": [
    {
     "data": {
      "text/plain": [
       "array([76, 66, 58, 71, 50])"
      ]
     },
     "execution_count": 29,
     "metadata": {},
     "output_type": "execute_result"
    }
   ],
   "source": [
    "np.sum(arr1,axis = 0)"
   ]
  },
  {
   "cell_type": "code",
   "execution_count": 30,
   "id": "3b0c9599",
   "metadata": {},
   "outputs": [
    {
     "data": {
      "text/plain": [
       "array([58, 89, 68, 54, 52])"
      ]
     },
     "execution_count": 30,
     "metadata": {},
     "output_type": "execute_result"
    }
   ],
   "source": [
    "np.sum(arr1,axis = 1)"
   ]
  },
  {
   "cell_type": "code",
   "execution_count": 31,
   "id": "4c3ea1f2",
   "metadata": {},
   "outputs": [
    {
     "data": {
      "text/plain": [
       "array([[23, 22,  1,  3,  9],\n",
       "       [17, 13, 22, 22, 15],\n",
       "       [ 9, 13, 11, 24, 11],\n",
       "       [20,  3,  1, 19, 11],\n",
       "       [ 7, 15, 23,  3,  4]])"
      ]
     },
     "execution_count": 31,
     "metadata": {},
     "output_type": "execute_result"
    }
   ],
   "source": [
    "arr1"
   ]
  },
  {
   "cell_type": "code",
   "execution_count": 33,
   "id": "04e24c7b",
   "metadata": {},
   "outputs": [],
   "source": [
    "a = np.sin(arr1)"
   ]
  },
  {
   "cell_type": "code",
   "execution_count": 34,
   "id": "c32abad0",
   "metadata": {},
   "outputs": [
    {
     "data": {
      "text/plain": [
       "array([[-0.8462204 , -0.00885131,  0.84147098,  0.14112001,  0.41211849],\n",
       "       [-0.96139749,  0.42016704, -0.00885131, -0.00885131,  0.65028784],\n",
       "       [ 0.41211849,  0.42016704, -0.99999021, -0.90557836, -0.99999021],\n",
       "       [ 0.91294525,  0.14112001,  0.84147098,  0.14987721, -0.99999021],\n",
       "       [ 0.6569866 ,  0.65028784, -0.8462204 ,  0.14112001, -0.7568025 ]])"
      ]
     },
     "execution_count": 34,
     "metadata": {},
     "output_type": "execute_result"
    }
   ],
   "source": [
    "a"
   ]
  },
  {
   "cell_type": "code",
   "execution_count": 35,
   "id": "c0fa832b",
   "metadata": {},
   "outputs": [
    {
     "data": {
      "text/plain": [
       "array([[-1., -1.,  0.,  0.,  0.],\n",
       "       [-1.,  0., -1., -1.,  0.],\n",
       "       [ 0.,  0., -1., -1., -1.],\n",
       "       [ 0.,  0.,  0.,  0., -1.],\n",
       "       [ 0.,  0., -1.,  0., -1.]])"
      ]
     },
     "execution_count": 35,
     "metadata": {},
     "output_type": "execute_result"
    }
   ],
   "source": [
    "np.floor(a)"
   ]
  },
  {
   "cell_type": "code",
   "execution_count": 36,
   "id": "5ba16d24",
   "metadata": {},
   "outputs": [
    {
     "data": {
      "text/plain": [
       "array([[-0., -0.,  1.,  1.,  1.],\n",
       "       [-0.,  1., -0., -0.,  1.],\n",
       "       [ 1.,  1., -0., -0., -0.],\n",
       "       [ 1.,  1.,  1.,  1., -0.],\n",
       "       [ 1.,  1., -0.,  1., -0.]])"
      ]
     },
     "execution_count": 36,
     "metadata": {},
     "output_type": "execute_result"
    }
   ],
   "source": [
    "np.ceil(a)"
   ]
  },
  {
   "cell_type": "code",
   "execution_count": 37,
   "id": "d7314431",
   "metadata": {},
   "outputs": [
    {
     "data": {
      "text/plain": [
       "array([[-1., -0.,  1.,  0.,  0.],\n",
       "       [-1.,  0., -0., -0.,  1.],\n",
       "       [ 0.,  0., -1., -1., -1.],\n",
       "       [ 1.,  0.,  1.,  0., -1.],\n",
       "       [ 1.,  1., -1.,  0., -1.]])"
      ]
     },
     "execution_count": 37,
     "metadata": {},
     "output_type": "execute_result"
    }
   ],
   "source": [
    "np.rint(a)"
   ]
  },
  {
   "cell_type": "code",
   "execution_count": null,
   "id": "13460337",
   "metadata": {},
   "outputs": [],
   "source": []
  }
 ],
 "metadata": {
  "kernelspec": {
   "display_name": "Python 3 (ipykernel)",
   "language": "python",
   "name": "python3"
  },
  "language_info": {
   "codemirror_mode": {
    "name": "ipython",
    "version": 3
   },
   "file_extension": ".py",
   "mimetype": "text/x-python",
   "name": "python",
   "nbconvert_exporter": "python",
   "pygments_lexer": "ipython3",
   "version": "3.9.12"
  }
 },
 "nbformat": 4,
 "nbformat_minor": 5
}
