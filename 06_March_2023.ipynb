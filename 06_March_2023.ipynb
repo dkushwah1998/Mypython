{
 "cells": [
  {
   "cell_type": "markdown",
   "id": "5088b2b6",
   "metadata": {},
   "source": [
    "# 1. Write a Python program to find a list of integers with exactly two occurrences of nineteen and at least three occurrences of five. Return True otherwise False\n"
   ]
  },
  {
   "cell_type": "code",
   "execution_count": 12,
   "id": "9395879f",
   "metadata": {},
   "outputs": [
    {
     "name": "stdout",
     "output_type": "stream",
     "text": [
      "True\n",
      "[19, 2, 5, 19, 5, 4, 6, 5, 85, 5]\n",
      "False\n",
      "[5, 4, 6, 5, 8, 7, 5, 1, 9, 19, 5, 4, 6, 8, 145, 5]\n"
     ]
    }
   ],
   "source": [
    "def check(num):\n",
    "    if num.count(19)==2 and num.count(5)>=3:\n",
    "        print(True)\n",
    "    else:\n",
    "        print(False)\n",
    "        \n",
    "    return num\n",
    "print(check([19,2,5,19,5,4,6,5,85,5]))\n",
    "print(check([5,4,6,5,8,7,5,1,9,19,5,4,6,8,145,5]))\n"
   ]
  },
  {
   "cell_type": "code",
   "execution_count": 14,
   "id": "e014c934",
   "metadata": {},
   "outputs": [
    {
     "name": "stdout",
     "output_type": "stream",
     "text": [
      "False\n",
      "[5, 4, 6, 5, 1, 9, 19, 5, 4, 6, 8, 145, 5]\n"
     ]
    }
   ],
   "source": [
    "print(check([5,4,6,5,1,9,19,5,4,6,8,145,5]))"
   ]
  },
  {
   "cell_type": "markdown",
   "id": "f21244e4",
   "metadata": {},
   "source": [
    "# 2. Write a Python program that accepts a list of integers and calculates the length and the fifth element. Return true if the length of the list is 8 and the fifth element occurs thrice in the said list."
   ]
  },
  {
   "cell_type": "code",
   "execution_count": 15,
   "id": "8fa524a4",
   "metadata": {},
   "outputs": [
    {
     "name": "stdout",
     "output_type": "stream",
     "text": [
      "True\n"
     ]
    },
    {
     "data": {
      "text/plain": [
       "[4, 5, 6, 7, 5, 6, 8, 5]"
      ]
     },
     "execution_count": 15,
     "metadata": {},
     "output_type": "execute_result"
    }
   ],
   "source": [
    "def check(l):\n",
    "    if len(l)==8 and l.count(l[4])==3:\n",
    "        print(True)\n",
    "    else:\n",
    "        print(False)\n",
    "    return l\n",
    "check([4,5,6,7,5,6,8,5])"
   ]
  },
  {
   "cell_type": "code",
   "execution_count": 16,
   "id": "6af688b0",
   "metadata": {},
   "outputs": [
    {
     "name": "stdout",
     "output_type": "stream",
     "text": [
      "False\n"
     ]
    },
    {
     "data": {
      "text/plain": [
       "[4, 5, 6, 8, 7, 5, 6, 8, 5]"
      ]
     },
     "execution_count": 16,
     "metadata": {},
     "output_type": "execute_result"
    }
   ],
   "source": [
    "check([4,5,6,8,7,5,6,8,5])"
   ]
  },
  {
   "cell_type": "markdown",
   "id": "0df44967",
   "metadata": {},
   "source": [
    "# 3. Write a Python program that accepts an integer and determines whether it is greater than 4^4 and which is 4 mod 34."
   ]
  },
  {
   "cell_type": "code",
   "execution_count": 22,
   "id": "e3ebdd7d",
   "metadata": {},
   "outputs": [
    {
     "name": "stdout",
     "output_type": "stream",
     "text": [
      "True\n"
     ]
    },
    {
     "data": {
      "text/plain": [
       "922"
      ]
     },
     "execution_count": 22,
     "metadata": {},
     "output_type": "execute_result"
    }
   ],
   "source": [
    "def num(a):\n",
    "    if a>4**4 and a%34 == 4:\n",
    "        print(True)\n",
    "    else:\n",
    "        print(False)\n",
    "    return a\n",
    "num(922)"
   ]
  },
  {
   "cell_type": "code",
   "execution_count": 23,
   "id": "3570cbc4",
   "metadata": {},
   "outputs": [
    {
     "name": "stdout",
     "output_type": "stream",
     "text": [
      "False\n"
     ]
    },
    {
     "data": {
      "text/plain": [
       "1034"
      ]
     },
     "execution_count": 23,
     "metadata": {},
     "output_type": "execute_result"
    }
   ],
   "source": [
    "num(1034)"
   ]
  },
  {
   "cell_type": "code",
   "execution_count": 24,
   "id": "43d9befa",
   "metadata": {},
   "outputs": [
    {
     "name": "stdout",
     "output_type": "stream",
     "text": [
      "True\n"
     ]
    },
    {
     "data": {
      "text/plain": [
       "956"
      ]
     },
     "execution_count": 24,
     "metadata": {},
     "output_type": "execute_result"
    }
   ],
   "source": [
    "num(956)"
   ]
  },
  {
   "cell_type": "code",
   "execution_count": null,
   "id": "b9f60908",
   "metadata": {},
   "outputs": [],
   "source": []
  }
 ],
 "metadata": {
  "kernelspec": {
   "display_name": "Python 3 (ipykernel)",
   "language": "python",
   "name": "python3"
  },
  "language_info": {
   "codemirror_mode": {
    "name": "ipython",
    "version": 3
   },
   "file_extension": ".py",
   "mimetype": "text/x-python",
   "name": "python",
   "nbconvert_exporter": "python",
   "pygments_lexer": "ipython3",
   "version": "3.9.13"
  }
 },
 "nbformat": 4,
 "nbformat_minor": 5
}
