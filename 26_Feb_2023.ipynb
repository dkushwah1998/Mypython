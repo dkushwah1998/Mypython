{
 "cells": [
  {
   "cell_type": "markdown",
   "id": "0cdd15ef",
   "metadata": {},
   "source": [
    "# 1. Create a 4X2 integer array and Prints its attributes"
   ]
  },
  {
   "cell_type": "code",
   "execution_count": 1,
   "id": "df444ed3",
   "metadata": {},
   "outputs": [],
   "source": [
    "import numpy as np"
   ]
  },
  {
   "cell_type": "code",
   "execution_count": 20,
   "id": "ee306851",
   "metadata": {},
   "outputs": [],
   "source": [
    "arr = np.empty([4,2],dtype = np.uint16)"
   ]
  },
  {
   "cell_type": "code",
   "execution_count": 21,
   "id": "22ab7a50",
   "metadata": {},
   "outputs": [
    {
     "data": {
      "text/plain": [
       "array([[ 9256, 54062],\n",
       "       [50219,  2436],\n",
       "       [37784, 24049],\n",
       "       [33611, 12818]], dtype=uint16)"
      ]
     },
     "execution_count": 21,
     "metadata": {},
     "output_type": "execute_result"
    }
   ],
   "source": [
    "arr"
   ]
  },
  {
   "cell_type": "code",
   "execution_count": 22,
   "id": "fc39e521",
   "metadata": {},
   "outputs": [
    {
     "data": {
      "text/plain": [
       "array([[ 9256, 54062],\n",
       "       [50219,  2436],\n",
       "       [37784, 24049],\n",
       "       [33611, 12818]], dtype=uint16)"
      ]
     },
     "execution_count": 22,
     "metadata": {},
     "output_type": "execute_result"
    }
   ],
   "source": [
    "arr_1 = arr.reshape(4,2)\n",
    "arr_1"
   ]
  },
  {
   "cell_type": "code",
   "execution_count": 25,
   "id": "3c11908f",
   "metadata": {},
   "outputs": [
    {
     "data": {
      "text/plain": [
       "dtype('uint16')"
      ]
     },
     "execution_count": 25,
     "metadata": {},
     "output_type": "execute_result"
    }
   ],
   "source": [
    "arr_1.dtype"
   ]
  },
  {
   "cell_type": "code",
   "execution_count": 26,
   "id": "9532aaed",
   "metadata": {},
   "outputs": [
    {
     "data": {
      "text/plain": [
       "(4, 2)"
      ]
     },
     "execution_count": 26,
     "metadata": {},
     "output_type": "execute_result"
    }
   ],
   "source": [
    "arr_1.shape"
   ]
  },
  {
   "cell_type": "code",
   "execution_count": 27,
   "id": "dce30973",
   "metadata": {},
   "outputs": [
    {
     "data": {
      "text/plain": [
       "2"
      ]
     },
     "execution_count": 27,
     "metadata": {},
     "output_type": "execute_result"
    }
   ],
   "source": [
    "arr_1.ndim"
   ]
  },
  {
   "cell_type": "code",
   "execution_count": 28,
   "id": "2f8651e5",
   "metadata": {},
   "outputs": [
    {
     "data": {
      "text/plain": [
       "2"
      ]
     },
     "execution_count": 28,
     "metadata": {},
     "output_type": "execute_result"
    }
   ],
   "source": [
    "arr_1.itemsize"
   ]
  },
  {
   "cell_type": "markdown",
   "id": "ea147216",
   "metadata": {},
   "source": [
    "# 2. Create a 5X2 integer array from a range between 100 to 200 such that the difference between each element is 10."
   ]
  },
  {
   "cell_type": "code",
   "execution_count": 29,
   "id": "29606070",
   "metadata": {},
   "outputs": [],
   "source": [
    "arr = np.arange(100,200,10)"
   ]
  },
  {
   "cell_type": "code",
   "execution_count": 30,
   "id": "5bcaf623",
   "metadata": {},
   "outputs": [
    {
     "data": {
      "text/plain": [
       "array([100, 110, 120, 130, 140, 150, 160, 170, 180, 190])"
      ]
     },
     "execution_count": 30,
     "metadata": {},
     "output_type": "execute_result"
    }
   ],
   "source": [
    "arr"
   ]
  },
  {
   "cell_type": "code",
   "execution_count": 31,
   "id": "ab5660a7",
   "metadata": {},
   "outputs": [
    {
     "data": {
      "text/plain": [
       "array([[100, 110],\n",
       "       [120, 130],\n",
       "       [140, 150],\n",
       "       [160, 170],\n",
       "       [180, 190]])"
      ]
     },
     "execution_count": 31,
     "metadata": {},
     "output_type": "execute_result"
    }
   ],
   "source": [
    "arr_1 = arr.reshape(5,2)\n",
    "arr_1"
   ]
  },
  {
   "cell_type": "markdown",
   "id": "bc72723c",
   "metadata": {},
   "source": [
    "# 3. Following is the provided numPy array. Return array of items by taking the third column from all rows \n",
    "sampleArray = numpy.array([[11 ,22, 33], [44, 55, 66], [77, 88, 99]])\n"
   ]
  },
  {
   "cell_type": "code",
   "execution_count": 32,
   "id": "a925407d",
   "metadata": {},
   "outputs": [],
   "source": [
    "samp_arr = np.array([[11 ,22, 33], [44, 55, 66], [77, 88, 99]])"
   ]
  },
  {
   "cell_type": "code",
   "execution_count": 33,
   "id": "ac2c20f1",
   "metadata": {},
   "outputs": [
    {
     "data": {
      "text/plain": [
       "array([[11, 22, 33],\n",
       "       [44, 55, 66],\n",
       "       [77, 88, 99]])"
      ]
     },
     "execution_count": 33,
     "metadata": {},
     "output_type": "execute_result"
    }
   ],
   "source": [
    "samp_arr"
   ]
  },
  {
   "cell_type": "code",
   "execution_count": 34,
   "id": "6a8b05df",
   "metadata": {},
   "outputs": [],
   "source": [
    "arr_new = samp_arr[0:,2:3]"
   ]
  },
  {
   "cell_type": "code",
   "execution_count": 35,
   "id": "4924b8db",
   "metadata": {},
   "outputs": [
    {
     "data": {
      "text/plain": [
       "array([[33],\n",
       "       [66],\n",
       "       [99]])"
      ]
     },
     "execution_count": 35,
     "metadata": {},
     "output_type": "execute_result"
    }
   ],
   "source": [
    "arr_new"
   ]
  },
  {
   "cell_type": "markdown",
   "id": "c48707c8",
   "metadata": {},
   "source": [
    "# 4. Return array of odd rows and even columns from below numpy array\n",
    "sampleArray = numpy.array([[3 ,6, 9, 12], [15 ,18, 21, 24],\n",
    "[27 ,30, 33, 36], [39 ,42, 45, 48], [51 ,54, 57, 60]])"
   ]
  },
  {
   "cell_type": "code",
   "execution_count": 36,
   "id": "94517066",
   "metadata": {},
   "outputs": [],
   "source": [
    "samp_arr = np.array([[3 ,6, 9, 12], [15 ,18, 21, 24], [27 ,30, 33, 36], [39 ,42, 45, 48], [51 ,54, 57, 60]])"
   ]
  },
  {
   "cell_type": "code",
   "execution_count": 37,
   "id": "1512cb7b",
   "metadata": {},
   "outputs": [
    {
     "data": {
      "text/plain": [
       "array([[ 3,  6,  9, 12],\n",
       "       [15, 18, 21, 24],\n",
       "       [27, 30, 33, 36],\n",
       "       [39, 42, 45, 48],\n",
       "       [51, 54, 57, 60]])"
      ]
     },
     "execution_count": 37,
     "metadata": {},
     "output_type": "execute_result"
    }
   ],
   "source": [
    "samp_arr"
   ]
  },
  {
   "cell_type": "code",
   "execution_count": 38,
   "id": "70b3c86c",
   "metadata": {},
   "outputs": [],
   "source": [
    "arr_new = samp_arr[0::2,1::2]"
   ]
  },
  {
   "cell_type": "code",
   "execution_count": 39,
   "id": "e1a1da2e",
   "metadata": {},
   "outputs": [
    {
     "data": {
      "text/plain": [
       "array([[ 6, 12],\n",
       "       [30, 36],\n",
       "       [54, 60]])"
      ]
     },
     "execution_count": 39,
     "metadata": {},
     "output_type": "execute_result"
    }
   ],
   "source": [
    "arr_new"
   ]
  },
  {
   "cell_type": "markdown",
   "id": "b9a09908",
   "metadata": {},
   "source": [
    "# Extract all odd numbers from arr\n",
    "Input:\n",
    "arr = np.array([0, 1, 2, 3, 4, 5, 6, 7, 8, 9])\n",
    "Desired output:\n",
    "#> array([1, 3, 5, 7, 9])\n"
   ]
  },
  {
   "cell_type": "code",
   "execution_count": 40,
   "id": "325afdb8",
   "metadata": {},
   "outputs": [
    {
     "data": {
      "text/plain": [
       "array([0, 1, 2, 3, 4, 5, 6, 7, 8, 9])"
      ]
     },
     "execution_count": 40,
     "metadata": {},
     "output_type": "execute_result"
    }
   ],
   "source": [
    "arr = np.array([0, 1, 2, 3, 4, 5, 6, 7, 8, 9]) \n",
    "arr"
   ]
  },
  {
   "cell_type": "code",
   "execution_count": 41,
   "id": "a7b685c8",
   "metadata": {},
   "outputs": [
    {
     "name": "stdout",
     "output_type": "stream",
     "text": [
      "[1, 3, 5, 7, 9]\n"
     ]
    }
   ],
   "source": [
    "a = []\n",
    "for i in arr:\n",
    "    if i%2!=0:\n",
    "        a.append(i)\n",
    "print(a)"
   ]
  },
  {
   "cell_type": "code",
   "execution_count": 42,
   "id": "1b348681",
   "metadata": {},
   "outputs": [],
   "source": [
    "arr_new = np.array(a)"
   ]
  },
  {
   "cell_type": "code",
   "execution_count": 43,
   "id": "438808c6",
   "metadata": {},
   "outputs": [
    {
     "data": {
      "text/plain": [
       "array([1, 3, 5, 7, 9])"
      ]
     },
     "execution_count": 43,
     "metadata": {},
     "output_type": "execute_result"
    }
   ],
   "source": [
    "arr_new"
   ]
  },
  {
   "cell_type": "markdown",
   "id": "c1d55021",
   "metadata": {},
   "source": [
    "# Create a null vector of size 10\n"
   ]
  },
  {
   "cell_type": "code",
   "execution_count": 44,
   "id": "08cc5dd0",
   "metadata": {},
   "outputs": [],
   "source": [
    "nul_ar = np.zeros(10)"
   ]
  },
  {
   "cell_type": "code",
   "execution_count": 45,
   "id": "f2e6a739",
   "metadata": {},
   "outputs": [
    {
     "data": {
      "text/plain": [
       "array([0., 0., 0., 0., 0., 0., 0., 0., 0., 0.])"
      ]
     },
     "execution_count": 45,
     "metadata": {},
     "output_type": "execute_result"
    }
   ],
   "source": [
    "nul_ar"
   ]
  },
  {
   "cell_type": "markdown",
   "id": "1f62ef49",
   "metadata": {},
   "source": [
    "#  How to find the memory size of any array"
   ]
  },
  {
   "cell_type": "code",
   "execution_count": 46,
   "id": "a42b5fa6",
   "metadata": {},
   "outputs": [],
   "source": [
    "arr = np.random.randint(2,10,5)"
   ]
  },
  {
   "cell_type": "code",
   "execution_count": 48,
   "id": "71303544",
   "metadata": {},
   "outputs": [
    {
     "data": {
      "text/plain": [
       "20"
      ]
     },
     "execution_count": 48,
     "metadata": {},
     "output_type": "execute_result"
    }
   ],
   "source": [
    "arr.size*arr.itemsize"
   ]
  },
  {
   "cell_type": "markdown",
   "id": "f9da8bb7",
   "metadata": {},
   "source": [
    "# Create a null vector of size 10 but the fifth value which is 1"
   ]
  },
  {
   "cell_type": "code",
   "execution_count": 49,
   "id": "5262432d",
   "metadata": {},
   "outputs": [],
   "source": [
    "arr = np.zeros(10)"
   ]
  },
  {
   "cell_type": "code",
   "execution_count": 50,
   "id": "d37fde2c",
   "metadata": {},
   "outputs": [
    {
     "data": {
      "text/plain": [
       "array([0., 0., 0., 0., 0., 0., 0., 0., 0., 0.])"
      ]
     },
     "execution_count": 50,
     "metadata": {},
     "output_type": "execute_result"
    }
   ],
   "source": [
    "arr"
   ]
  },
  {
   "cell_type": "code",
   "execution_count": 53,
   "id": "b22d2fc3",
   "metadata": {},
   "outputs": [],
   "source": [
    "arr[4] = 5"
   ]
  },
  {
   "cell_type": "code",
   "execution_count": 54,
   "id": "07125557",
   "metadata": {},
   "outputs": [
    {
     "data": {
      "text/plain": [
       "array([0., 0., 0., 0., 5., 5., 0., 0., 0., 0.])"
      ]
     },
     "execution_count": 54,
     "metadata": {},
     "output_type": "execute_result"
    }
   ],
   "source": [
    "arr"
   ]
  },
  {
   "cell_type": "markdown",
   "id": "0957b93e",
   "metadata": {},
   "source": [
    "# Create a vector with values ranging from 10 to 49\n"
   ]
  },
  {
   "cell_type": "code",
   "execution_count": 55,
   "id": "9c210c0d",
   "metadata": {},
   "outputs": [],
   "source": [
    "arr = np.arange(10,49)"
   ]
  },
  {
   "cell_type": "code",
   "execution_count": 56,
   "id": "2198ef25",
   "metadata": {},
   "outputs": [
    {
     "data": {
      "text/plain": [
       "array([10, 11, 12, 13, 14, 15, 16, 17, 18, 19, 20, 21, 22, 23, 24, 25, 26,\n",
       "       27, 28, 29, 30, 31, 32, 33, 34, 35, 36, 37, 38, 39, 40, 41, 42, 43,\n",
       "       44, 45, 46, 47, 48])"
      ]
     },
     "execution_count": 56,
     "metadata": {},
     "output_type": "execute_result"
    }
   ],
   "source": [
    "arr"
   ]
  },
  {
   "cell_type": "markdown",
   "id": "174e94fe",
   "metadata": {},
   "source": [
    "#  Create a 3x3 identity matrix"
   ]
  },
  {
   "cell_type": "code",
   "execution_count": 57,
   "id": "029e4b32",
   "metadata": {},
   "outputs": [],
   "source": [
    "arr = np.ones(9)"
   ]
  },
  {
   "cell_type": "code",
   "execution_count": 58,
   "id": "b5a41c19",
   "metadata": {},
   "outputs": [
    {
     "data": {
      "text/plain": [
       "array([1., 1., 1., 1., 1., 1., 1., 1., 1.])"
      ]
     },
     "execution_count": 58,
     "metadata": {},
     "output_type": "execute_result"
    }
   ],
   "source": [
    "arr"
   ]
  },
  {
   "cell_type": "code",
   "execution_count": 59,
   "id": "98d4e9ca",
   "metadata": {},
   "outputs": [],
   "source": [
    "arr = arr.reshape(3,3)"
   ]
  },
  {
   "cell_type": "code",
   "execution_count": 60,
   "id": "3579522b",
   "metadata": {},
   "outputs": [
    {
     "data": {
      "text/plain": [
       "array([[1., 1., 1.],\n",
       "       [1., 1., 1.],\n",
       "       [1., 1., 1.]])"
      ]
     },
     "execution_count": 60,
     "metadata": {},
     "output_type": "execute_result"
    }
   ],
   "source": [
    "arr"
   ]
  },
  {
   "cell_type": "markdown",
   "id": "1f0942c5",
   "metadata": {},
   "source": [
    "#  Create a 3x3x3 array with random values"
   ]
  },
  {
   "cell_type": "code",
   "execution_count": 61,
   "id": "c9024334",
   "metadata": {},
   "outputs": [],
   "source": [
    "arr = np.random.random(27)"
   ]
  },
  {
   "cell_type": "code",
   "execution_count": 62,
   "id": "b7cccd04",
   "metadata": {},
   "outputs": [
    {
     "data": {
      "text/plain": [
       "array([0.49822992, 0.18299199, 0.0727874 , 0.83667226, 0.52667507,\n",
       "       0.04671246, 0.00302358, 0.39828766, 0.6920244 , 0.2917414 ,\n",
       "       0.82744617, 0.89051055, 0.34671117, 0.48737308, 0.62354526,\n",
       "       0.91394071, 0.93529669, 0.7237692 , 0.37976035, 0.47146897,\n",
       "       0.33064357, 0.8917944 , 0.80841126, 0.15234935, 0.4937175 ,\n",
       "       0.83758508, 0.17530638])"
      ]
     },
     "execution_count": 62,
     "metadata": {},
     "output_type": "execute_result"
    }
   ],
   "source": [
    "arr"
   ]
  },
  {
   "cell_type": "code",
   "execution_count": 63,
   "id": "ee3e0fa3",
   "metadata": {},
   "outputs": [],
   "source": [
    "arr = arr.reshape(3,3,3)"
   ]
  },
  {
   "cell_type": "code",
   "execution_count": 64,
   "id": "e19a81a6",
   "metadata": {},
   "outputs": [
    {
     "data": {
      "text/plain": [
       "array([[[0.49822992, 0.18299199, 0.0727874 ],\n",
       "        [0.83667226, 0.52667507, 0.04671246],\n",
       "        [0.00302358, 0.39828766, 0.6920244 ]],\n",
       "\n",
       "       [[0.2917414 , 0.82744617, 0.89051055],\n",
       "        [0.34671117, 0.48737308, 0.62354526],\n",
       "        [0.91394071, 0.93529669, 0.7237692 ]],\n",
       "\n",
       "       [[0.37976035, 0.47146897, 0.33064357],\n",
       "        [0.8917944 , 0.80841126, 0.15234935],\n",
       "        [0.4937175 , 0.83758508, 0.17530638]]])"
      ]
     },
     "execution_count": 64,
     "metadata": {},
     "output_type": "execute_result"
    }
   ],
   "source": [
    "arr"
   ]
  },
  {
   "cell_type": "markdown",
   "id": "b616448d",
   "metadata": {},
   "source": [
    "# Print the numpy version and the configuration"
   ]
  },
  {
   "cell_type": "code",
   "execution_count": 65,
   "id": "17ced8e9",
   "metadata": {},
   "outputs": [
    {
     "data": {
      "text/plain": [
       "'1.21.5'"
      ]
     },
     "execution_count": 65,
     "metadata": {},
     "output_type": "execute_result"
    }
   ],
   "source": [
    "np.__version__"
   ]
  },
  {
   "cell_type": "code",
   "execution_count": 67,
   "id": "0f77d679",
   "metadata": {},
   "outputs": [
    {
     "name": "stdout",
     "output_type": "stream",
     "text": [
      "blas_mkl_info:\n",
      "    libraries = ['mkl_rt']\n",
      "    library_dirs = ['C:/Users/HP/anaconda3\\\\Library\\\\lib']\n",
      "    define_macros = [('SCIPY_MKL_H', None), ('HAVE_CBLAS', None)]\n",
      "    include_dirs = ['C:/Users/HP/anaconda3\\\\Library\\\\include']\n",
      "blas_opt_info:\n",
      "    libraries = ['mkl_rt']\n",
      "    library_dirs = ['C:/Users/HP/anaconda3\\\\Library\\\\lib']\n",
      "    define_macros = [('SCIPY_MKL_H', None), ('HAVE_CBLAS', None)]\n",
      "    include_dirs = ['C:/Users/HP/anaconda3\\\\Library\\\\include']\n",
      "lapack_mkl_info:\n",
      "    libraries = ['mkl_rt']\n",
      "    library_dirs = ['C:/Users/HP/anaconda3\\\\Library\\\\lib']\n",
      "    define_macros = [('SCIPY_MKL_H', None), ('HAVE_CBLAS', None)]\n",
      "    include_dirs = ['C:/Users/HP/anaconda3\\\\Library\\\\include']\n",
      "lapack_opt_info:\n",
      "    libraries = ['mkl_rt']\n",
      "    library_dirs = ['C:/Users/HP/anaconda3\\\\Library\\\\lib']\n",
      "    define_macros = [('SCIPY_MKL_H', None), ('HAVE_CBLAS', None)]\n",
      "    include_dirs = ['C:/Users/HP/anaconda3\\\\Library\\\\include']\n",
      "Supported SIMD extensions in this NumPy install:\n",
      "    baseline = SSE,SSE2,SSE3\n",
      "    found = SSSE3,SSE41,POPCNT,SSE42,AVX,F16C,FMA3,AVX2\n",
      "    not found = AVX512F,AVX512CD,AVX512_SKX,AVX512_CLX,AVX512_CNL\n"
     ]
    }
   ],
   "source": [
    "np.show_config()"
   ]
  },
  {
   "cell_type": "code",
   "execution_count": null,
   "id": "98ecf223",
   "metadata": {},
   "outputs": [],
   "source": []
  }
 ],
 "metadata": {
  "kernelspec": {
   "display_name": "Python 3 (ipykernel)",
   "language": "python",
   "name": "python3"
  },
  "language_info": {
   "codemirror_mode": {
    "name": "ipython",
    "version": 3
   },
   "file_extension": ".py",
   "mimetype": "text/x-python",
   "name": "python",
   "nbconvert_exporter": "python",
   "pygments_lexer": "ipython3",
   "version": "3.9.12"
  }
 },
 "nbformat": 4,
 "nbformat_minor": 5
}
