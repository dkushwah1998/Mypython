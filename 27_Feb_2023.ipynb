{
 "cells": [
  {
   "cell_type": "markdown",
   "id": "c14b9ad7",
   "metadata": {},
   "source": [
    "# Q1. Write a Python program to find those numbers which are divisible by 7 and multiple of 5, between 1500 and 2700 (both included)."
   ]
  },
  {
   "cell_type": "code",
   "execution_count": 3,
   "id": "1a380ee7",
   "metadata": {},
   "outputs": [
    {
     "name": "stdout",
     "output_type": "stream",
     "text": [
      "[1505, 1540, 1575, 1610, 1645, 1680, 1715, 1750, 1785, 1820, 1855, 1890, 1925, 1960, 1995, 2030, 2065, 2100, 2135, 2170, 2205, 2240, 2275, 2310, 2345, 2380, 2415, 2450, 2485, 2520, 2555, 2590, 2625, 2660, 2695]\n"
     ]
    }
   ],
   "source": [
    "a = []\n",
    "for i in range(1501,2700):\n",
    "    if i%7==0 and i%5==0:\n",
    "        a.append(i)\n",
    "print(a)"
   ]
  },
  {
   "cell_type": "markdown",
   "id": "86094979",
   "metadata": {},
   "source": [
    "# Q2. Write a Python program to convert temperatures to and from celsius, fahrenheit.\n"
   ]
  },
  {
   "cell_type": "code",
   "execution_count": 4,
   "id": "c6215733",
   "metadata": {},
   "outputs": [
    {
     "name": "stdout",
     "output_type": "stream",
     "text": [
      "25\n",
      "98\n",
      "temperature in F 77.0\n",
      "temperature in C 36.666666666666664\n"
     ]
    }
   ],
   "source": [
    "temp_c = int(input())\n",
    "temp_f = int(input())\n",
    "temp_c_to_f = 1.8*temp_c+32\n",
    "temp_f_to_c = (temp_f-32)/1.8\n",
    "print('temperature in F',temp_c_to_f)\n",
    "print('temperature in C',temp_f_to_c)"
   ]
  },
  {
   "cell_type": "markdown",
   "id": "9d647dc5",
   "metadata": {},
   "source": [
    "# Q3. Write a Python program to guess a number between 1 to 9.User is prompted to enter a guess. If the user guesses wrong then the prompt appears again until the guess is correct, on successful guess, user will get a \"Well guessed!\" message, and the program will exit."
   ]
  },
  {
   "cell_type": "code",
   "execution_count": 5,
   "id": "b76baf8b",
   "metadata": {},
   "outputs": [],
   "source": [
    "import random"
   ]
  },
  {
   "cell_type": "code",
   "execution_count": 6,
   "id": "a26f42d0",
   "metadata": {},
   "outputs": [
    {
     "name": "stdout",
     "output_type": "stream",
     "text": [
      "Guess a number between 1 to 9: 0\n",
      "Guess a number between 1 to 9: 12\n",
      "Guess a number between 1 to 9: 4\n",
      "Guess a number between 1 to 9: 5\n",
      "Guess a number between 1 to 9: 6\n",
      "Guess a number between 1 to 9: 7\n",
      "Guess a number between 1 to 9: 9\n",
      "Guess a number between 1 to 9: 8\n",
      "well guessed\n"
     ]
    }
   ],
   "source": [
    "trgt_num, guess_num = random.randint(1,10), 0\n",
    "while trgt_num != guess_num:\n",
    "    guess_num = int(input(\"Guess a number between 1 to 9: \"))\n",
    "print('well guessed')\n",
    "    "
   ]
  },
  {
   "cell_type": "code",
   "execution_count": 8,
   "id": "b52cfc38",
   "metadata": {},
   "outputs": [
    {
     "name": "stdout",
     "output_type": "stream",
     "text": [
      "Guess a number between 1 and 10 until you get it right : 5\n",
      "Guess a number between 1 and 10 until you get it right : 6\n",
      "Guess a number between 1 and 10 until you get it right : 7\n",
      "Guess a number between 1 and 10 until you get it right : 8\n",
      "Well guessed!\n"
     ]
    }
   ],
   "source": [
    "target_num = random.randint(1, 10)\n",
    "while target_num != guess_num:\n",
    "    guess_num = int(input('Guess a number between 1 and 10 until you get it right : '))\n",
    "print('Well guessed!')"
   ]
  },
  {
   "cell_type": "markdown",
   "id": "21ac092b",
   "metadata": {},
   "source": [
    "# Q4. Write a Python program that accepts a word from the user and reverse it"
   ]
  },
  {
   "cell_type": "code",
   "execution_count": 9,
   "id": "01e97776",
   "metadata": {},
   "outputs": [
    {
     "name": "stdout",
     "output_type": "stream",
     "text": [
      "Dharmendra\n",
      "ardnemrahD"
     ]
    }
   ],
   "source": [
    "word = input()\n",
    "\n",
    "for i in range(len(word)-1, -1, -1):\n",
    "    print(word[i], end = '')\n",
    "    "
   ]
  },
  {
   "cell_type": "markdown",
   "id": "8469a6c6",
   "metadata": {},
   "source": [
    "# Q5. Write a Python program that prints all the numbers from 0 to 6, except 3 and 6.\n"
   ]
  },
  {
   "cell_type": "code",
   "execution_count": 10,
   "id": "79d32734",
   "metadata": {},
   "outputs": [
    {
     "name": "stdout",
     "output_type": "stream",
     "text": [
      "0\n",
      "1\n",
      "2\n",
      "4\n",
      "5\n"
     ]
    }
   ],
   "source": [
    "for i in range(0,7):\n",
    "    if i==3 or i==6:\n",
    "        continue\n",
    "    else:\n",
    "        print(i)"
   ]
  },
  {
   "cell_type": "markdown",
   "id": "55f7f417",
   "metadata": {},
   "source": [
    "# Q6.Write a Python program which iterates the integers from 1 to 50. For multiples of three print \"Fizz\" instead of the number and for the multiples of five print \"Buzz\". For numbers which are multiples of both three and five print \"FizzBuzz\"."
   ]
  },
  {
   "cell_type": "code",
   "execution_count": 13,
   "id": "2443e04d",
   "metadata": {},
   "outputs": [
    {
     "name": "stdout",
     "output_type": "stream",
     "text": [
      "1\n",
      "2\n",
      "Fizz\n",
      "4\n",
      "Buzz\n",
      "Fizz\n",
      "7\n",
      "8\n",
      "Fizz\n",
      "Buzz\n",
      "11\n",
      "Fizz\n",
      "13\n",
      "14\n",
      "FizzBuzz\n",
      "16\n",
      "17\n",
      "Fizz\n",
      "19\n",
      "Buzz\n",
      "Fizz\n",
      "22\n",
      "23\n",
      "Fizz\n",
      "Buzz\n",
      "26\n",
      "Fizz\n",
      "28\n",
      "29\n",
      "FizzBuzz\n",
      "31\n",
      "32\n",
      "Fizz\n",
      "34\n",
      "Buzz\n",
      "Fizz\n",
      "37\n",
      "38\n",
      "Fizz\n",
      "Buzz\n",
      "41\n",
      "Fizz\n",
      "43\n",
      "44\n",
      "FizzBuzz\n",
      "46\n",
      "47\n",
      "Fizz\n",
      "49\n",
      "Buzz\n"
     ]
    }
   ],
   "source": [
    "for i in range(1,51):\n",
    "    \n",
    "    if i%3==0 and i%5==0:\n",
    "        print('FizzBuzz')\n",
    "    elif i%3==0:\n",
    "        print('Fizz')\n",
    "    elif i%5==0:\n",
    "        print('Buzz')\n",
    "   \n",
    "    else:\n",
    "        print(i)"
   ]
  },
  {
   "cell_type": "markdown",
   "id": "97b7b5e1",
   "metadata": {},
   "source": [
    "# Q7.Write a Python program that accepts a string and calculates the number of digits and letters.\n"
   ]
  },
  {
   "cell_type": "code",
   "execution_count": 16,
   "id": "8f63187f",
   "metadata": {},
   "outputs": [
    {
     "name": "stdout",
     "output_type": "stream",
     "text": [
      "Enter a string: abdhbfjhbfij24556\n",
      "number of digit: 5\n",
      "number of letters:  12\n"
     ]
    }
   ],
   "source": [
    "str1 = input(\"Enter a string: \")\n",
    "d = l = 0\n",
    "for i in str1:\n",
    "    if i.isdigit():\n",
    "        d += 1\n",
    "    elif i.isalpha():\n",
    "        l += 1\n",
    "print(\"number of digit:\",d)\n",
    "print('number of letters: ',l)"
   ]
  },
  {
   "cell_type": "markdown",
   "id": "b05c660a",
   "metadata": {},
   "source": [
    "# 8. Calculate the multiplication and sum of two numbers\n",
    "Given two integer numbers return their product only if the product is equal to or lower than 1000,\n",
    "else return their sum."
   ]
  },
  {
   "cell_type": "code",
   "execution_count": 17,
   "id": "22235875",
   "metadata": {},
   "outputs": [
    {
     "name": "stdout",
     "output_type": "stream",
     "text": [
      "Enter first number: 25\n",
      "Enter second number: 65\n",
      "90\n"
     ]
    }
   ],
   "source": [
    "first_num = int(input('Enter first number: '))\n",
    "second_num = int(input('Enter second number: '))\n",
    "sum_ = first_num + second_num\n",
    "product = first_num * second_num\n",
    "if product<=1000:\n",
    "    print(product)\n",
    "else:\n",
    "    print(sum_)"
   ]
  },
  {
   "cell_type": "code",
   "execution_count": 18,
   "id": "79ae3f85",
   "metadata": {},
   "outputs": [
    {
     "name": "stdout",
     "output_type": "stream",
     "text": [
      "Enter first number: 12\n",
      "Enter second number: 24\n",
      "288\n"
     ]
    }
   ],
   "source": [
    "first_num = int(input('Enter first number: '))\n",
    "second_num = int(input('Enter second number: '))\n",
    "sum_ = first_num + second_num\n",
    "product = first_num * second_num\n",
    "if product<=1000:\n",
    "    print(product)\n",
    "else:\n",
    "    print(sum_)"
   ]
  },
  {
   "cell_type": "markdown",
   "id": "c7828d1d",
   "metadata": {},
   "source": [
    "# 9. Print characters from a string that are present at an even index number\n",
    "Write a program to accept a string from the user and display characters that are present at an\n",
    "even index number.\n"
   ]
  },
  {
   "cell_type": "code",
   "execution_count": 19,
   "id": "87ddd42f",
   "metadata": {},
   "outputs": [
    {
     "name": "stdout",
     "output_type": "stream",
     "text": [
      "Dharmendra Kushwah\n",
      "your string:  Dharmendra Kushwah\n",
      "even index string:  amnr uha\n"
     ]
    }
   ],
   "source": [
    "str_1 = input()\n",
    "print('your string: ',str_1)\n",
    "print('even index string: ',str_1[2::2])"
   ]
  },
  {
   "cell_type": "markdown",
   "id": "3a4869ae",
   "metadata": {},
   "source": [
    "# 10.  Remove first n characters from a string\n",
    "Write a program to remove characters from a string starting from zero up to n and return a new\n",
    "string."
   ]
  },
  {
   "cell_type": "code",
   "execution_count": 20,
   "id": "dedf6ba7",
   "metadata": {},
   "outputs": [
    {
     "name": "stdout",
     "output_type": "stream",
     "text": [
      "enetr a number: 5\n",
      "ndra Kushwah\n"
     ]
    }
   ],
   "source": [
    "n = int(input(\"enetr a number: \"))\n",
    "print(str_1[n+1:])"
   ]
  },
  {
   "cell_type": "markdown",
   "id": "c8cf0538",
   "metadata": {},
   "source": [
    "# 11. Check if the first and last number of a list is the same\n",
    "Write a function to return True if the first and last characters of a given string are the same. If\n",
    "numbers are different then return False."
   ]
  },
  {
   "cell_type": "code",
   "execution_count": 25,
   "id": "3bcc14d9",
   "metadata": {},
   "outputs": [
    {
     "name": "stdout",
     "output_type": "stream",
     "text": [
      "malyalam\n",
      "True\n"
     ]
    }
   ],
   "source": [
    "word = input()\n",
    "if word[0]==word[-1]:\n",
    "    print(True)\n",
    "else:\n",
    "    print(False)"
   ]
  },
  {
   "cell_type": "code",
   "execution_count": 26,
   "id": "3a630ea4",
   "metadata": {},
   "outputs": [
    {
     "name": "stdout",
     "output_type": "stream",
     "text": [
      "dharmendra\n",
      "False\n"
     ]
    }
   ],
   "source": [
    "word = input()\n",
    "if word[0]==word[-1]:\n",
    "    print(True)\n",
    "else:\n",
    "    print(False)"
   ]
  },
  {
   "cell_type": "markdown",
   "id": "2e825db4",
   "metadata": {},
   "source": [
    "# 12. Return the count of a given substring from a string\n",
    "Write a program to find how many times substring appears in the given string.\n",
    "Input: “Hello, world”,I can program.I can also run.\n",
    "Input: Can\n",
    "Output: can has occurred 2 times."
   ]
  },
  {
   "cell_type": "code",
   "execution_count": 29,
   "id": "bf092541",
   "metadata": {},
   "outputs": [
    {
     "name": "stdout",
     "output_type": "stream",
     "text": [
      "“Hello, world”,I can program.I can also run\n"
     ]
    }
   ],
   "source": [
    "s = '“Hello, world”,I can program.I can also run'\n",
    "print(s)"
   ]
  },
  {
   "cell_type": "code",
   "execution_count": 32,
   "id": "0ebf9009",
   "metadata": {},
   "outputs": [
    {
     "data": {
      "text/plain": [
       "2"
      ]
     },
     "execution_count": 32,
     "metadata": {},
     "output_type": "execute_result"
    }
   ],
   "source": [
    "s.count('can')"
   ]
  },
  {
   "cell_type": "code",
   "execution_count": null,
   "id": "5747c3f1",
   "metadata": {},
   "outputs": [],
   "source": []
  }
 ],
 "metadata": {
  "kernelspec": {
   "display_name": "Python 3 (ipykernel)",
   "language": "python",
   "name": "python3"
  },
  "language_info": {
   "codemirror_mode": {
    "name": "ipython",
    "version": 3
   },
   "file_extension": ".py",
   "mimetype": "text/x-python",
   "name": "python",
   "nbconvert_exporter": "python",
   "pygments_lexer": "ipython3",
   "version": "3.9.12"
  }
 },
 "nbformat": 4,
 "nbformat_minor": 5
}
