{
 "cells": [
  {
   "cell_type": "code",
   "execution_count": 1,
   "id": "295c8d69",
   "metadata": {},
   "outputs": [],
   "source": [
    "import numpy as np\n",
    "import csv"
   ]
  },
  {
   "cell_type": "markdown",
   "id": "e3cf8b42",
   "metadata": {},
   "source": [
    "# 1. Represent the data in the given sheet into an appropriate NumPy array so that you can perform the following actions on it."
   ]
  },
  {
   "cell_type": "code",
   "execution_count": 2,
   "id": "cea5ce5e",
   "metadata": {},
   "outputs": [],
   "source": [
    "data = []\n",
    "with open(r'C:\\Users\\HP\\Desktop\\Data-LB\\New folder\\SampleTemperature Sheet - mysheet.csv') as csvfile:\n",
    "    filereader = csv.reader(csvfile, delimiter = ',')\n",
    "    for row in filereader:\n",
    "        data.append(row)"
   ]
  },
  {
   "cell_type": "code",
   "execution_count": 3,
   "id": "a4fe6bf5",
   "metadata": {},
   "outputs": [],
   "source": [
    "data = np.array(data)"
   ]
  },
  {
   "cell_type": "code",
   "execution_count": 4,
   "id": "6690e671",
   "metadata": {},
   "outputs": [
    {
     "data": {
      "text/plain": [
       "array([['Temprature Sheet', '', '', '', '', '', '', '', '', '', '', '',\n",
       "        '', '', '', ''],\n",
       "       ['', '', '', '', '', '', '', '', '', '', '', '', '', '', '', ''],\n",
       "       ['Month', 'Week', 'Monday', '', 'Tuesday', '', 'Wednesday', '',\n",
       "        'Thursday', '', 'Friday', '', 'Saturday', '', 'Sunday', ''],\n",
       "       ['', '', 'Min Temp', 'Max Temp', 'Min Temp', 'Max Temp',\n",
       "        'Min Temp', 'Max Temp', 'Min Temp', 'Max Temp', 'Min Temp',\n",
       "        'Max Temp', 'Min Temp', 'Max Temp', 'Min Temp', 'Max Temp'],\n",
       "       ['November', 'Week 1', '11', '20', '10', '20', '9', '30', '14',\n",
       "        '24', '6', '29', '12', '21', '12', '27'],\n",
       "       ['', 'Week 2', '13', '23', '13', '29', '8', '22', '-13', '32',\n",
       "        '6', '21', '14', '23', '11', '28'],\n",
       "       ['', 'Week 3', '6', '28', '14', '21', '9', '32', '8', '28', '13',\n",
       "        '30', '6', '31', '6', '23'],\n",
       "       ['', 'Week 4', '6', '23', '8', '23', '14', '24', '6', '29', '13',\n",
       "        '25', '12', '24', '11', '27'],\n",
       "       ['December', 'Week 1', '11', '25', '14', '25', '7', '20', '9',\n",
       "        '28', '9', '23', '11', '23', '11', '30'],\n",
       "       ['', 'Week 2', '9', '30', '15', '26', '9', '27', '14', '31', '8',\n",
       "        '22', '10', '26', '12', '28'],\n",
       "       ['', 'Week 3', '6', '28', '12', '31', '14', '27', '9', '32', '7',\n",
       "        '23', '11', '32', '7', '23'],\n",
       "       ['', 'Week 4', '7', '28', '15', '29', '11', '22', '14', '21',\n",
       "        '12', '27', '12', '31', '14', '25'],\n",
       "       ['January', 'Week 1', '5', '22', '8', '21', '8', '20', '7', '19',\n",
       "        '8', '22', '2', '7', '18', '4'],\n",
       "       ['', 'Week 2', '4', '22', '6', '20', '6', '21', '4', '22', '4',\n",
       "        '21', '3', '3', '20', '5'],\n",
       "       ['', 'Week 3', '5', '21', '7', '18', '8', '21', '4', '19', '4',\n",
       "        '18', '3', '7', '18', '4'],\n",
       "       ['', 'Week 4', '6', '19', '2', '18', '7', '20', '8', '22', '8',\n",
       "        '19', '7', '4', '20', '8'],\n",
       "       ['February', 'Week 1', '8', '22', '7', '19', '-10', '18', '11',\n",
       "        '19', '12', '20', '12', '71', '21', '12'],\n",
       "       ['', 'Week 2', '8', '19', '10', '20', '12', '18', '10', '18',\n",
       "        '10', '22', '8', '11', '19', '7'],\n",
       "       ['', 'Week 3', '9', '22', '11', '19', '7', '21', '11', '21', '9',\n",
       "        '19', '7', '10', '19', '10'],\n",
       "       ['', 'Week 4', '11', '21', '7', '20', '11', '21', '12', '18',\n",
       "        '11', '20', '12', '7', '21', '9']], dtype='<U16')"
      ]
     },
     "execution_count": 4,
     "metadata": {},
     "output_type": "execute_result"
    }
   ],
   "source": [
    "data"
   ]
  },
  {
   "cell_type": "code",
   "execution_count": 5,
   "id": "e7bd91bc",
   "metadata": {},
   "outputs": [],
   "source": [
    "data = np.delete(data, 0, axis = 0)"
   ]
  },
  {
   "cell_type": "code",
   "execution_count": 6,
   "id": "4e97afce",
   "metadata": {},
   "outputs": [],
   "source": [
    "data = np.delete(data, 0, axis = 0)"
   ]
  },
  {
   "cell_type": "code",
   "execution_count": 7,
   "id": "64369746",
   "metadata": {},
   "outputs": [
    {
     "data": {
      "text/plain": [
       "array([['Month', 'Week', 'Monday', '', 'Tuesday', '', 'Wednesday', '',\n",
       "        'Thursday', '', 'Friday', '', 'Saturday', '', 'Sunday', ''],\n",
       "       ['', '', 'Min Temp', 'Max Temp', 'Min Temp', 'Max Temp',\n",
       "        'Min Temp', 'Max Temp', 'Min Temp', 'Max Temp', 'Min Temp',\n",
       "        'Max Temp', 'Min Temp', 'Max Temp', 'Min Temp', 'Max Temp'],\n",
       "       ['November', 'Week 1', '11', '20', '10', '20', '9', '30', '14',\n",
       "        '24', '6', '29', '12', '21', '12', '27'],\n",
       "       ['', 'Week 2', '13', '23', '13', '29', '8', '22', '-13', '32',\n",
       "        '6', '21', '14', '23', '11', '28'],\n",
       "       ['', 'Week 3', '6', '28', '14', '21', '9', '32', '8', '28', '13',\n",
       "        '30', '6', '31', '6', '23'],\n",
       "       ['', 'Week 4', '6', '23', '8', '23', '14', '24', '6', '29', '13',\n",
       "        '25', '12', '24', '11', '27'],\n",
       "       ['December', 'Week 1', '11', '25', '14', '25', '7', '20', '9',\n",
       "        '28', '9', '23', '11', '23', '11', '30'],\n",
       "       ['', 'Week 2', '9', '30', '15', '26', '9', '27', '14', '31', '8',\n",
       "        '22', '10', '26', '12', '28'],\n",
       "       ['', 'Week 3', '6', '28', '12', '31', '14', '27', '9', '32', '7',\n",
       "        '23', '11', '32', '7', '23'],\n",
       "       ['', 'Week 4', '7', '28', '15', '29', '11', '22', '14', '21',\n",
       "        '12', '27', '12', '31', '14', '25'],\n",
       "       ['January', 'Week 1', '5', '22', '8', '21', '8', '20', '7', '19',\n",
       "        '8', '22', '2', '7', '18', '4'],\n",
       "       ['', 'Week 2', '4', '22', '6', '20', '6', '21', '4', '22', '4',\n",
       "        '21', '3', '3', '20', '5'],\n",
       "       ['', 'Week 3', '5', '21', '7', '18', '8', '21', '4', '19', '4',\n",
       "        '18', '3', '7', '18', '4'],\n",
       "       ['', 'Week 4', '6', '19', '2', '18', '7', '20', '8', '22', '8',\n",
       "        '19', '7', '4', '20', '8'],\n",
       "       ['February', 'Week 1', '8', '22', '7', '19', '-10', '18', '11',\n",
       "        '19', '12', '20', '12', '71', '21', '12'],\n",
       "       ['', 'Week 2', '8', '19', '10', '20', '12', '18', '10', '18',\n",
       "        '10', '22', '8', '11', '19', '7'],\n",
       "       ['', 'Week 3', '9', '22', '11', '19', '7', '21', '11', '21', '9',\n",
       "        '19', '7', '10', '19', '10'],\n",
       "       ['', 'Week 4', '11', '21', '7', '20', '11', '21', '12', '18',\n",
       "        '11', '20', '12', '7', '21', '9']], dtype='<U16')"
      ]
     },
     "execution_count": 7,
     "metadata": {},
     "output_type": "execute_result"
    }
   ],
   "source": [
    "data"
   ]
  },
  {
   "cell_type": "code",
   "execution_count": 8,
   "id": "d478653e",
   "metadata": {},
   "outputs": [],
   "source": [
    "data[2:6,0] = 'November'\n",
    "data[6:10,0]='December'\n",
    "data[10:14,0]='January'\n",
    "data[14:,0]='February'"
   ]
  },
  {
   "cell_type": "code",
   "execution_count": 9,
   "id": "f17867ca",
   "metadata": {},
   "outputs": [
    {
     "data": {
      "text/plain": [
       "array([['Month', 'Week', 'Monday', '', 'Tuesday', '', 'Wednesday', '',\n",
       "        'Thursday', '', 'Friday', '', 'Saturday', '', 'Sunday', ''],\n",
       "       ['', '', 'Min Temp', 'Max Temp', 'Min Temp', 'Max Temp',\n",
       "        'Min Temp', 'Max Temp', 'Min Temp', 'Max Temp', 'Min Temp',\n",
       "        'Max Temp', 'Min Temp', 'Max Temp', 'Min Temp', 'Max Temp'],\n",
       "       ['November', 'Week 1', '11', '20', '10', '20', '9', '30', '14',\n",
       "        '24', '6', '29', '12', '21', '12', '27'],\n",
       "       ['November', 'Week 2', '13', '23', '13', '29', '8', '22', '-13',\n",
       "        '32', '6', '21', '14', '23', '11', '28'],\n",
       "       ['November', 'Week 3', '6', '28', '14', '21', '9', '32', '8',\n",
       "        '28', '13', '30', '6', '31', '6', '23'],\n",
       "       ['November', 'Week 4', '6', '23', '8', '23', '14', '24', '6',\n",
       "        '29', '13', '25', '12', '24', '11', '27'],\n",
       "       ['December', 'Week 1', '11', '25', '14', '25', '7', '20', '9',\n",
       "        '28', '9', '23', '11', '23', '11', '30'],\n",
       "       ['December', 'Week 2', '9', '30', '15', '26', '9', '27', '14',\n",
       "        '31', '8', '22', '10', '26', '12', '28'],\n",
       "       ['December', 'Week 3', '6', '28', '12', '31', '14', '27', '9',\n",
       "        '32', '7', '23', '11', '32', '7', '23'],\n",
       "       ['December', 'Week 4', '7', '28', '15', '29', '11', '22', '14',\n",
       "        '21', '12', '27', '12', '31', '14', '25'],\n",
       "       ['January', 'Week 1', '5', '22', '8', '21', '8', '20', '7', '19',\n",
       "        '8', '22', '2', '7', '18', '4'],\n",
       "       ['January', 'Week 2', '4', '22', '6', '20', '6', '21', '4', '22',\n",
       "        '4', '21', '3', '3', '20', '5'],\n",
       "       ['January', 'Week 3', '5', '21', '7', '18', '8', '21', '4', '19',\n",
       "        '4', '18', '3', '7', '18', '4'],\n",
       "       ['January', 'Week 4', '6', '19', '2', '18', '7', '20', '8', '22',\n",
       "        '8', '19', '7', '4', '20', '8'],\n",
       "       ['February', 'Week 1', '8', '22', '7', '19', '-10', '18', '11',\n",
       "        '19', '12', '20', '12', '71', '21', '12'],\n",
       "       ['February', 'Week 2', '8', '19', '10', '20', '12', '18', '10',\n",
       "        '18', '10', '22', '8', '11', '19', '7'],\n",
       "       ['February', 'Week 3', '9', '22', '11', '19', '7', '21', '11',\n",
       "        '21', '9', '19', '7', '10', '19', '10'],\n",
       "       ['February', 'Week 4', '11', '21', '7', '20', '11', '21', '12',\n",
       "        '18', '11', '20', '12', '7', '21', '9']], dtype='<U16')"
      ]
     },
     "execution_count": 9,
     "metadata": {},
     "output_type": "execute_result"
    }
   ],
   "source": [
    "data"
   ]
  },
  {
   "cell_type": "code",
   "execution_count": 10,
   "id": "a2aede21",
   "metadata": {},
   "outputs": [],
   "source": [
    "data[0:1,3:4] = 'Monday'\n",
    "data[0:1,5:6] = 'Tuesday'\n",
    "data[0:1,7:8] = 'Wednesday'\n",
    "data[0:1,9:10] = 'Thursday'\n",
    "data[0:1,11:12] = 'Friday'\n",
    "data[0:1,13:14] = 'Saturday'\n",
    "data[0:1,15:16] = 'Sunday'"
   ]
  },
  {
   "cell_type": "code",
   "execution_count": 11,
   "id": "d98c036e",
   "metadata": {},
   "outputs": [
    {
     "data": {
      "text/plain": [
       "array([['Month', 'Week', 'Monday', 'Monday', 'Tuesday', 'Tuesday',\n",
       "        'Wednesday', 'Wednesday', 'Thursday', 'Thursday', 'Friday',\n",
       "        'Friday', 'Saturday', 'Saturday', 'Sunday', 'Sunday'],\n",
       "       ['', '', 'Min Temp', 'Max Temp', 'Min Temp', 'Max Temp',\n",
       "        'Min Temp', 'Max Temp', 'Min Temp', 'Max Temp', 'Min Temp',\n",
       "        'Max Temp', 'Min Temp', 'Max Temp', 'Min Temp', 'Max Temp'],\n",
       "       ['November', 'Week 1', '11', '20', '10', '20', '9', '30', '14',\n",
       "        '24', '6', '29', '12', '21', '12', '27'],\n",
       "       ['November', 'Week 2', '13', '23', '13', '29', '8', '22', '-13',\n",
       "        '32', '6', '21', '14', '23', '11', '28'],\n",
       "       ['November', 'Week 3', '6', '28', '14', '21', '9', '32', '8',\n",
       "        '28', '13', '30', '6', '31', '6', '23'],\n",
       "       ['November', 'Week 4', '6', '23', '8', '23', '14', '24', '6',\n",
       "        '29', '13', '25', '12', '24', '11', '27'],\n",
       "       ['December', 'Week 1', '11', '25', '14', '25', '7', '20', '9',\n",
       "        '28', '9', '23', '11', '23', '11', '30'],\n",
       "       ['December', 'Week 2', '9', '30', '15', '26', '9', '27', '14',\n",
       "        '31', '8', '22', '10', '26', '12', '28'],\n",
       "       ['December', 'Week 3', '6', '28', '12', '31', '14', '27', '9',\n",
       "        '32', '7', '23', '11', '32', '7', '23'],\n",
       "       ['December', 'Week 4', '7', '28', '15', '29', '11', '22', '14',\n",
       "        '21', '12', '27', '12', '31', '14', '25'],\n",
       "       ['January', 'Week 1', '5', '22', '8', '21', '8', '20', '7', '19',\n",
       "        '8', '22', '2', '7', '18', '4'],\n",
       "       ['January', 'Week 2', '4', '22', '6', '20', '6', '21', '4', '22',\n",
       "        '4', '21', '3', '3', '20', '5'],\n",
       "       ['January', 'Week 3', '5', '21', '7', '18', '8', '21', '4', '19',\n",
       "        '4', '18', '3', '7', '18', '4'],\n",
       "       ['January', 'Week 4', '6', '19', '2', '18', '7', '20', '8', '22',\n",
       "        '8', '19', '7', '4', '20', '8'],\n",
       "       ['February', 'Week 1', '8', '22', '7', '19', '-10', '18', '11',\n",
       "        '19', '12', '20', '12', '71', '21', '12'],\n",
       "       ['February', 'Week 2', '8', '19', '10', '20', '12', '18', '10',\n",
       "        '18', '10', '22', '8', '11', '19', '7'],\n",
       "       ['February', 'Week 3', '9', '22', '11', '19', '7', '21', '11',\n",
       "        '21', '9', '19', '7', '10', '19', '10'],\n",
       "       ['February', 'Week 4', '11', '21', '7', '20', '11', '21', '12',\n",
       "        '18', '11', '20', '12', '7', '21', '9']], dtype='<U16')"
      ]
     },
     "execution_count": 11,
     "metadata": {},
     "output_type": "execute_result"
    }
   ],
   "source": [
    "data"
   ]
  },
  {
   "cell_type": "markdown",
   "id": "de7fe8a7",
   "metadata": {},
   "source": [
    "# 2. Write the dimensions and shape of the NumPy array that you have created."
   ]
  },
  {
   "cell_type": "code",
   "execution_count": 12,
   "id": "61c879eb",
   "metadata": {},
   "outputs": [
    {
     "data": {
      "text/plain": [
       "2"
      ]
     },
     "execution_count": 12,
     "metadata": {},
     "output_type": "execute_result"
    }
   ],
   "source": [
    "np.ndim(data)"
   ]
  },
  {
   "cell_type": "code",
   "execution_count": 13,
   "id": "886b02cb",
   "metadata": {},
   "outputs": [
    {
     "data": {
      "text/plain": [
       "(18, 16)"
      ]
     },
     "execution_count": 13,
     "metadata": {},
     "output_type": "execute_result"
    }
   ],
   "source": [
    "data.shape"
   ]
  },
  {
   "cell_type": "markdown",
   "id": "dfbb6b68",
   "metadata": {},
   "source": [
    "# 3. Print the daily temperatures for the first week of each month."
   ]
  },
  {
   "cell_type": "code",
   "execution_count": 14,
   "id": "07c30066",
   "metadata": {},
   "outputs": [],
   "source": [
    "cond = data[:,1] =='Week 1'"
   ]
  },
  {
   "cell_type": "code",
   "execution_count": 15,
   "id": "eff66e01",
   "metadata": {},
   "outputs": [],
   "source": [
    "first_week = data[cond]"
   ]
  },
  {
   "cell_type": "code",
   "execution_count": 16,
   "id": "b2d34f8d",
   "metadata": {},
   "outputs": [
    {
     "data": {
      "text/plain": [
       "array([['Month', 'Week', 'Monday', 'Monday', 'Tuesday', 'Tuesday',\n",
       "        'Wednesday', 'Wednesday', 'Thursday', 'Thursday', 'Friday',\n",
       "        'Friday', 'Saturday', 'Saturday', 'Sunday', 'Sunday'],\n",
       "       ['', '', 'Min Temp', 'Max Temp', 'Min Temp', 'Max Temp',\n",
       "        'Min Temp', 'Max Temp', 'Min Temp', 'Max Temp', 'Min Temp',\n",
       "        'Max Temp', 'Min Temp', 'Max Temp', 'Min Temp', 'Max Temp'],\n",
       "       ['November', 'Week 1', '11', '20', '10', '20', '9', '30', '14',\n",
       "        '24', '6', '29', '12', '21', '12', '27'],\n",
       "       ['December', 'Week 1', '11', '25', '14', '25', '7', '20', '9',\n",
       "        '28', '9', '23', '11', '23', '11', '30'],\n",
       "       ['January', 'Week 1', '5', '22', '8', '21', '8', '20', '7', '19',\n",
       "        '8', '22', '2', '7', '18', '4'],\n",
       "       ['February', 'Week 1', '8', '22', '7', '19', '-10', '18', '11',\n",
       "        '19', '12', '20', '12', '71', '21', '12']], dtype='<U16')"
      ]
     },
     "execution_count": 16,
     "metadata": {},
     "output_type": "execute_result"
    }
   ],
   "source": [
    "np.vstack((data[0:2,:],first_week))"
   ]
  },
  {
   "cell_type": "markdown",
   "id": "542283b0",
   "metadata": {},
   "source": [
    "# 4. Print the temperatures for Tuesday of each month.\n"
   ]
  },
  {
   "cell_type": "code",
   "execution_count": 17,
   "id": "5870b244",
   "metadata": {},
   "outputs": [
    {
     "data": {
      "text/plain": [
       "array([['Month', 'Week', 'Tuesday', 'Tuesday'],\n",
       "       ['', '', 'Min Temp', 'Max Temp'],\n",
       "       ['November', 'Week 1', '10', '20'],\n",
       "       ['November', 'Week 2', '13', '29'],\n",
       "       ['November', 'Week 3', '14', '21'],\n",
       "       ['November', 'Week 4', '8', '23'],\n",
       "       ['December', 'Week 1', '14', '25'],\n",
       "       ['December', 'Week 2', '15', '26'],\n",
       "       ['December', 'Week 3', '12', '31'],\n",
       "       ['December', 'Week 4', '15', '29'],\n",
       "       ['January', 'Week 1', '8', '21'],\n",
       "       ['January', 'Week 2', '6', '20'],\n",
       "       ['January', 'Week 3', '7', '18'],\n",
       "       ['January', 'Week 4', '2', '18'],\n",
       "       ['February', 'Week 1', '7', '19'],\n",
       "       ['February', 'Week 2', '10', '20'],\n",
       "       ['February', 'Week 3', '11', '19'],\n",
       "       ['February', 'Week 4', '7', '20']], dtype='<U16')"
      ]
     },
     "execution_count": 17,
     "metadata": {},
     "output_type": "execute_result"
    }
   ],
   "source": [
    "np.hstack((data[0:,0:2],data[0:,4:6]))"
   ]
  },
  {
   "cell_type": "markdown",
   "id": "c3e64f1e",
   "metadata": {},
   "source": [
    "# 5. Print only the maximum temperature for all the weekdays of Dec and Feb.\n"
   ]
  },
  {
   "cell_type": "code",
   "execution_count": 18,
   "id": "34bea27f",
   "metadata": {},
   "outputs": [],
   "source": [
    "max_temp = np.hstack((data[:,0:2],data[:,3::2]))"
   ]
  },
  {
   "cell_type": "code",
   "execution_count": 19,
   "id": "c0ca0354",
   "metadata": {},
   "outputs": [
    {
     "data": {
      "text/plain": [
       "array([['Month', 'Week', 'Monday', 'Tuesday', 'Wednesday', 'Thursday',\n",
       "        'Friday', 'Saturday', 'Sunday'],\n",
       "       ['', '', 'Max Temp', 'Max Temp', 'Max Temp', 'Max Temp',\n",
       "        'Max Temp', 'Max Temp', 'Max Temp'],\n",
       "       ['November', 'Week 1', '20', '20', '30', '24', '29', '21', '27'],\n",
       "       ['November', 'Week 2', '23', '29', '22', '32', '21', '23', '28'],\n",
       "       ['November', 'Week 3', '28', '21', '32', '28', '30', '31', '23'],\n",
       "       ['November', 'Week 4', '23', '23', '24', '29', '25', '24', '27'],\n",
       "       ['December', 'Week 1', '25', '25', '20', '28', '23', '23', '30'],\n",
       "       ['December', 'Week 2', '30', '26', '27', '31', '22', '26', '28'],\n",
       "       ['December', 'Week 3', '28', '31', '27', '32', '23', '32', '23'],\n",
       "       ['December', 'Week 4', '28', '29', '22', '21', '27', '31', '25'],\n",
       "       ['January', 'Week 1', '22', '21', '20', '19', '22', '7', '4'],\n",
       "       ['January', 'Week 2', '22', '20', '21', '22', '21', '3', '5'],\n",
       "       ['January', 'Week 3', '21', '18', '21', '19', '18', '7', '4'],\n",
       "       ['January', 'Week 4', '19', '18', '20', '22', '19', '4', '8'],\n",
       "       ['February', 'Week 1', '22', '19', '18', '19', '20', '71', '12'],\n",
       "       ['February', 'Week 2', '19', '20', '18', '18', '22', '11', '7'],\n",
       "       ['February', 'Week 3', '22', '19', '21', '21', '19', '10', '10'],\n",
       "       ['February', 'Week 4', '21', '20', '21', '18', '20', '7', '9']],\n",
       "      dtype='<U16')"
      ]
     },
     "execution_count": 19,
     "metadata": {},
     "output_type": "execute_result"
    }
   ],
   "source": [
    "max_temp"
   ]
  },
  {
   "cell_type": "code",
   "execution_count": 20,
   "id": "d1867d61",
   "metadata": {},
   "outputs": [],
   "source": [
    "cond_d = max_temp[:,0]=='December'\n",
    "dec_m = max_temp[cond_d]"
   ]
  },
  {
   "cell_type": "code",
   "execution_count": 21,
   "id": "e158a85a",
   "metadata": {},
   "outputs": [],
   "source": [
    "cond_j = max_temp[:,0]=='January'\n",
    "jan_m = max_temp[cond_j]"
   ]
  },
  {
   "cell_type": "code",
   "execution_count": 22,
   "id": "66120454",
   "metadata": {},
   "outputs": [],
   "source": [
    "dec_jan_max_temp = np.vstack(((max_temp[0:2,:],dec_m,jan_m)))"
   ]
  },
  {
   "cell_type": "code",
   "execution_count": 23,
   "id": "d0637ff0",
   "metadata": {},
   "outputs": [
    {
     "data": {
      "text/plain": [
       "array([['Month', 'Week', 'Monday', 'Tuesday', 'Wednesday', 'Thursday',\n",
       "        'Friday', 'Saturday', 'Sunday'],\n",
       "       ['', '', 'Max Temp', 'Max Temp', 'Max Temp', 'Max Temp',\n",
       "        'Max Temp', 'Max Temp', 'Max Temp'],\n",
       "       ['December', 'Week 1', '25', '25', '20', '28', '23', '23', '30'],\n",
       "       ['December', 'Week 2', '30', '26', '27', '31', '22', '26', '28'],\n",
       "       ['December', 'Week 3', '28', '31', '27', '32', '23', '32', '23'],\n",
       "       ['December', 'Week 4', '28', '29', '22', '21', '27', '31', '25'],\n",
       "       ['January', 'Week 1', '22', '21', '20', '19', '22', '7', '4'],\n",
       "       ['January', 'Week 2', '22', '20', '21', '22', '21', '3', '5'],\n",
       "       ['January', 'Week 3', '21', '18', '21', '19', '18', '7', '4'],\n",
       "       ['January', 'Week 4', '19', '18', '20', '22', '19', '4', '8']],\n",
       "      dtype='<U16')"
      ]
     },
     "execution_count": 23,
     "metadata": {},
     "output_type": "execute_result"
    }
   ],
   "source": [
    "dec_jan_max_temp"
   ]
  },
  {
   "cell_type": "markdown",
   "id": "9c9c3c87",
   "metadata": {},
   "source": [
    "# 6. Print all the days along with the week number in November when the minimum temperature was less than 8 degrees.\n"
   ]
  },
  {
   "cell_type": "code",
   "execution_count": 24,
   "id": "a110f9a4",
   "metadata": {},
   "outputs": [
    {
     "data": {
      "text/plain": [
       "array([['Month', 'Week', 'Monday', 'Monday', 'Tuesday', 'Tuesday',\n",
       "        'Wednesday', 'Wednesday', 'Thursday', 'Thursday', 'Friday',\n",
       "        'Friday', 'Saturday', 'Saturday', 'Sunday', 'Sunday'],\n",
       "       ['', '', 'Min Temp', 'Max Temp', 'Min Temp', 'Max Temp',\n",
       "        'Min Temp', 'Max Temp', 'Min Temp', 'Max Temp', 'Min Temp',\n",
       "        'Max Temp', 'Min Temp', 'Max Temp', 'Min Temp', 'Max Temp'],\n",
       "       ['November', 'Week 1', '11', '20', '10', '20', '9', '30', '14',\n",
       "        '24', '6', '29', '12', '21', '12', '27']], dtype='<U16')"
      ]
     },
     "execution_count": 24,
     "metadata": {},
     "output_type": "execute_result"
    }
   ],
   "source": [
    "data[0:3]"
   ]
  },
  {
   "cell_type": "code",
   "execution_count": 25,
   "id": "cba0929a",
   "metadata": {},
   "outputs": [],
   "source": [
    "min_temp = np.hstack((data[:,0:2],data[:,2::2]))"
   ]
  },
  {
   "cell_type": "code",
   "execution_count": 26,
   "id": "48f7121c",
   "metadata": {},
   "outputs": [
    {
     "data": {
      "text/plain": [
       "array([['Month', 'Week', 'Monday', 'Tuesday', 'Wednesday', 'Thursday',\n",
       "        'Friday', 'Saturday', 'Sunday'],\n",
       "       ['', '', 'Min Temp', 'Min Temp', 'Min Temp', 'Min Temp',\n",
       "        'Min Temp', 'Min Temp', 'Min Temp'],\n",
       "       ['November', 'Week 1', '11', '10', '9', '14', '6', '12', '12'],\n",
       "       ['November', 'Week 2', '13', '13', '8', '-13', '6', '14', '11'],\n",
       "       ['November', 'Week 3', '6', '14', '9', '8', '13', '6', '6'],\n",
       "       ['November', 'Week 4', '6', '8', '14', '6', '13', '12', '11'],\n",
       "       ['December', 'Week 1', '11', '14', '7', '9', '9', '11', '11'],\n",
       "       ['December', 'Week 2', '9', '15', '9', '14', '8', '10', '12'],\n",
       "       ['December', 'Week 3', '6', '12', '14', '9', '7', '11', '7'],\n",
       "       ['December', 'Week 4', '7', '15', '11', '14', '12', '12', '14'],\n",
       "       ['January', 'Week 1', '5', '8', '8', '7', '8', '2', '18'],\n",
       "       ['January', 'Week 2', '4', '6', '6', '4', '4', '3', '20'],\n",
       "       ['January', 'Week 3', '5', '7', '8', '4', '4', '3', '18'],\n",
       "       ['January', 'Week 4', '6', '2', '7', '8', '8', '7', '20'],\n",
       "       ['February', 'Week 1', '8', '7', '-10', '11', '12', '12', '21'],\n",
       "       ['February', 'Week 2', '8', '10', '12', '10', '10', '8', '19'],\n",
       "       ['February', 'Week 3', '9', '11', '7', '11', '9', '7', '19'],\n",
       "       ['February', 'Week 4', '11', '7', '11', '12', '11', '12', '21']],\n",
       "      dtype='<U16')"
      ]
     },
     "execution_count": 26,
     "metadata": {},
     "output_type": "execute_result"
    }
   ],
   "source": [
    "min_temp"
   ]
  },
  {
   "cell_type": "code",
   "execution_count": 27,
   "id": "0cd50428",
   "metadata": {},
   "outputs": [],
   "source": [
    "nov_min_temp = min_temp[2:6,2:].astype(int)"
   ]
  },
  {
   "cell_type": "code",
   "execution_count": 28,
   "id": "2ff305c7",
   "metadata": {},
   "outputs": [
    {
     "data": {
      "text/plain": [
       "(4, 7)"
      ]
     },
     "execution_count": 28,
     "metadata": {},
     "output_type": "execute_result"
    }
   ],
   "source": [
    "nov_min_temp.shape"
   ]
  },
  {
   "cell_type": "code",
   "execution_count": 29,
   "id": "1623601f",
   "metadata": {},
   "outputs": [],
   "source": [
    "nov_min_temp1 = nov_min_temp.reshape(4*7,)"
   ]
  },
  {
   "cell_type": "code",
   "execution_count": 30,
   "id": "f9208cd8",
   "metadata": {},
   "outputs": [],
   "source": [
    "m = []\n",
    "for i in nov_min_temp1:\n",
    "    if i<8:\n",
    "        m.append(i)\n",
    "    else:\n",
    "        m.append('')"
   ]
  },
  {
   "cell_type": "code",
   "execution_count": 31,
   "id": "61177d08",
   "metadata": {},
   "outputs": [
    {
     "data": {
      "text/plain": [
       "array([['', '', '', '', '6', '', ''],\n",
       "       ['', '', '', '-13', '6', '', ''],\n",
       "       ['6', '', '', '', '', '6', '6'],\n",
       "       ['6', '', '', '6', '', '', '']], dtype='<U11')"
      ]
     },
     "execution_count": 31,
     "metadata": {},
     "output_type": "execute_result"
    }
   ],
   "source": [
    "m = np.array(m).reshape(4,7)\n",
    "m\n"
   ]
  },
  {
   "cell_type": "code",
   "execution_count": 32,
   "id": "c0dd11ab",
   "metadata": {},
   "outputs": [],
   "source": [
    "min_nov = np.hstack((min_temp[2:6,0:2],m))"
   ]
  },
  {
   "cell_type": "code",
   "execution_count": 33,
   "id": "4a38191b",
   "metadata": {},
   "outputs": [],
   "source": [
    "min_nov = np.vstack((min_temp[0:2,:],min_nov))"
   ]
  },
  {
   "cell_type": "code",
   "execution_count": 34,
   "id": "91749266",
   "metadata": {},
   "outputs": [
    {
     "data": {
      "text/plain": [
       "array([['Month', 'Week', 'Monday', 'Tuesday', 'Wednesday', 'Thursday',\n",
       "        'Friday', 'Saturday', 'Sunday'],\n",
       "       ['', '', 'Min Temp', 'Min Temp', 'Min Temp', 'Min Temp',\n",
       "        'Min Temp', 'Min Temp', 'Min Temp'],\n",
       "       ['November', 'Week 1', '', '', '', '', '6', '', ''],\n",
       "       ['November', 'Week 2', '', '', '', '-13', '6', '', ''],\n",
       "       ['November', 'Week 3', '6', '', '', '', '', '6', '6'],\n",
       "       ['November', 'Week 4', '6', '', '', '6', '', '', '']], dtype='<U16')"
      ]
     },
     "execution_count": 34,
     "metadata": {},
     "output_type": "execute_result"
    }
   ],
   "source": [
    "min_nov"
   ]
  },
  {
   "cell_type": "markdown",
   "id": "9eb608ce",
   "metadata": {},
   "source": [
    "# 7. Print all the weeks in Dec and Jan where the maximum temperature has crossed a threshold of 20 degrees.\n"
   ]
  },
  {
   "cell_type": "code",
   "execution_count": 35,
   "id": "efc0d779",
   "metadata": {},
   "outputs": [
    {
     "data": {
      "text/plain": [
       "array([['Month', 'Week', 'Monday', 'Tuesday', 'Wednesday', 'Thursday',\n",
       "        'Friday', 'Saturday', 'Sunday'],\n",
       "       ['', '', 'Max Temp', 'Max Temp', 'Max Temp', 'Max Temp',\n",
       "        'Max Temp', 'Max Temp', 'Max Temp'],\n",
       "       ['November', 'Week 1', '20', '20', '30', '24', '29', '21', '27']],\n",
       "      dtype='<U16')"
      ]
     },
     "execution_count": 35,
     "metadata": {},
     "output_type": "execute_result"
    }
   ],
   "source": [
    "max_temp[:3]"
   ]
  },
  {
   "cell_type": "code",
   "execution_count": 36,
   "id": "60dd4ebf",
   "metadata": {},
   "outputs": [],
   "source": [
    "dec = max_temp[:,0]=='December'\n",
    "jan = max_temp[:,0]=='January'"
   ]
  },
  {
   "cell_type": "code",
   "execution_count": 37,
   "id": "89b95f08",
   "metadata": {},
   "outputs": [],
   "source": [
    "d_j = np.vstack((max_temp[dec],max_temp[jan]))"
   ]
  },
  {
   "cell_type": "code",
   "execution_count": 38,
   "id": "a27bbdd9",
   "metadata": {},
   "outputs": [
    {
     "data": {
      "text/plain": [
       "array([['December', 'Week 1', '25', '25', '20', '28', '23', '23', '30'],\n",
       "       ['December', 'Week 2', '30', '26', '27', '31', '22', '26', '28'],\n",
       "       ['December', 'Week 3', '28', '31', '27', '32', '23', '32', '23'],\n",
       "       ['December', 'Week 4', '28', '29', '22', '21', '27', '31', '25'],\n",
       "       ['January', 'Week 1', '22', '21', '20', '19', '22', '7', '4'],\n",
       "       ['January', 'Week 2', '22', '20', '21', '22', '21', '3', '5'],\n",
       "       ['January', 'Week 3', '21', '18', '21', '19', '18', '7', '4'],\n",
       "       ['January', 'Week 4', '19', '18', '20', '22', '19', '4', '8']],\n",
       "      dtype='<U16')"
      ]
     },
     "execution_count": 38,
     "metadata": {},
     "output_type": "execute_result"
    }
   ],
   "source": [
    "d_j"
   ]
  },
  {
   "cell_type": "code",
   "execution_count": 39,
   "id": "73b54116",
   "metadata": {},
   "outputs": [],
   "source": [
    "d_j1 = d_j[:,2:].astype(int)"
   ]
  },
  {
   "cell_type": "code",
   "execution_count": 40,
   "id": "c3ab3ad1",
   "metadata": {},
   "outputs": [
    {
     "data": {
      "text/plain": [
       "(8, 7)"
      ]
     },
     "execution_count": 40,
     "metadata": {},
     "output_type": "execute_result"
    }
   ],
   "source": [
    "d_j1.shape"
   ]
  },
  {
   "cell_type": "code",
   "execution_count": 41,
   "id": "7ddb3223",
   "metadata": {},
   "outputs": [],
   "source": [
    "d_j1 = d_j1.reshape(8*7,)"
   ]
  },
  {
   "cell_type": "code",
   "execution_count": 42,
   "id": "29bf44b9",
   "metadata": {},
   "outputs": [],
   "source": [
    "d = []\n",
    "for i in d_j1:\n",
    "    if i>20:\n",
    "        d.append(i)\n",
    "    else:\n",
    "        d.append('')"
   ]
  },
  {
   "cell_type": "code",
   "execution_count": 43,
   "id": "fa8dae47",
   "metadata": {},
   "outputs": [],
   "source": [
    "d_j2 = np.array(d).reshape(8,7)"
   ]
  },
  {
   "cell_type": "code",
   "execution_count": 44,
   "id": "01de2703",
   "metadata": {},
   "outputs": [
    {
     "data": {
      "text/plain": [
       "array([['25', '25', '', '28', '23', '23', '30'],\n",
       "       ['30', '26', '27', '31', '22', '26', '28'],\n",
       "       ['28', '31', '27', '32', '23', '32', '23'],\n",
       "       ['28', '29', '22', '21', '27', '31', '25'],\n",
       "       ['22', '21', '', '', '22', '', ''],\n",
       "       ['22', '', '21', '22', '21', '', ''],\n",
       "       ['21', '', '21', '', '', '', ''],\n",
       "       ['', '', '', '22', '', '', '']], dtype='<U11')"
      ]
     },
     "execution_count": 44,
     "metadata": {},
     "output_type": "execute_result"
    }
   ],
   "source": [
    "d_j2"
   ]
  },
  {
   "cell_type": "code",
   "execution_count": 45,
   "id": "cc880bb1",
   "metadata": {},
   "outputs": [],
   "source": [
    "dec_jan = np.hstack((d_j[:,:2],d_j2))"
   ]
  },
  {
   "cell_type": "code",
   "execution_count": 46,
   "id": "009b8f34",
   "metadata": {},
   "outputs": [],
   "source": [
    "dec_jan = np.vstack((max_temp[0:2,:],dec_jan))"
   ]
  },
  {
   "cell_type": "code",
   "execution_count": 47,
   "id": "de57c172",
   "metadata": {},
   "outputs": [
    {
     "data": {
      "text/plain": [
       "array([['Month', 'Week', 'Monday', 'Tuesday', 'Wednesday', 'Thursday',\n",
       "        'Friday', 'Saturday', 'Sunday'],\n",
       "       ['', '', 'Max Temp', 'Max Temp', 'Max Temp', 'Max Temp',\n",
       "        'Max Temp', 'Max Temp', 'Max Temp'],\n",
       "       ['December', 'Week 1', '25', '25', '', '28', '23', '23', '30'],\n",
       "       ['December', 'Week 2', '30', '26', '27', '31', '22', '26', '28'],\n",
       "       ['December', 'Week 3', '28', '31', '27', '32', '23', '32', '23'],\n",
       "       ['December', 'Week 4', '28', '29', '22', '21', '27', '31', '25'],\n",
       "       ['January', 'Week 1', '22', '21', '', '', '22', '', ''],\n",
       "       ['January', 'Week 2', '22', '', '21', '22', '21', '', ''],\n",
       "       ['January', 'Week 3', '21', '', '21', '', '', '', ''],\n",
       "       ['January', 'Week 4', '', '', '', '22', '', '', '']], dtype='<U16')"
      ]
     },
     "execution_count": 47,
     "metadata": {},
     "output_type": "execute_result"
    }
   ],
   "source": [
    "dec_jan"
   ]
  },
  {
   "cell_type": "markdown",
   "id": "efc51ddc",
   "metadata": {},
   "source": [
    "# 8. Check if there are any absurd values present in the dataset(like some temp which should not be present in the data)"
   ]
  },
  {
   "cell_type": "code",
   "execution_count": 48,
   "id": "235dbf91",
   "metadata": {},
   "outputs": [
    {
     "data": {
      "text/plain": [
       "(16, 14)"
      ]
     },
     "execution_count": 48,
     "metadata": {},
     "output_type": "execute_result"
    }
   ],
   "source": [
    "d = data[2:,2:]\n",
    "d.shape"
   ]
  },
  {
   "cell_type": "code",
   "execution_count": 49,
   "id": "702e1e27",
   "metadata": {},
   "outputs": [
    {
     "data": {
      "text/plain": [
       "array(['11', '20', '10', '20', '9', '30', '14', '24', '6', '29', '12',\n",
       "       '21', '12', '27', '13', '23', '13', '29', '8', '22', '-13', '32',\n",
       "       '6', '21', '14', '23', '11', '28', '6', '28', '14', '21', '9',\n",
       "       '32', '8', '28', '13', '30', '6', '31', '6', '23', '6', '23', '8',\n",
       "       '23', '14', '24', '6', '29', '13', '25', '12', '24', '11', '27',\n",
       "       '11', '25', '14', '25', '7', '20', '9', '28', '9', '23', '11',\n",
       "       '23', '11', '30', '9', '30', '15', '26', '9', '27', '14', '31',\n",
       "       '8', '22', '10', '26', '12', '28', '6', '28', '12', '31', '14',\n",
       "       '27', '9', '32', '7', '23', '11', '32', '7', '23', '7', '28', '15',\n",
       "       '29', '11', '22', '14', '21', '12', '27', '12', '31', '14', '25',\n",
       "       '5', '22', '8', '21', '8', '20', '7', '19', '8', '22', '2', '7',\n",
       "       '18', '4', '4', '22', '6', '20', '6', '21', '4', '22', '4', '21',\n",
       "       '3', '3', '20', '5', '5', '21', '7', '18', '8', '21', '4', '19',\n",
       "       '4', '18', '3', '7', '18', '4', '6', '19', '2', '18', '7', '20',\n",
       "       '8', '22', '8', '19', '7', '4', '20', '8', '8', '22', '7', '19',\n",
       "       '-10', '18', '11', '19', '12', '20', '12', '71', '21', '12', '8',\n",
       "       '19', '10', '20', '12', '18', '10', '18', '10', '22', '8', '11',\n",
       "       '19', '7', '9', '22', '11', '19', '7', '21', '11', '21', '9', '19',\n",
       "       '7', '10', '19', '10', '11', '21', '7', '20', '11', '21', '12',\n",
       "       '18', '11', '20', '12', '7', '21', '9'], dtype='<U16')"
      ]
     },
     "execution_count": 49,
     "metadata": {},
     "output_type": "execute_result"
    }
   ],
   "source": [
    "d = d.reshape(16*14,)\n",
    "d"
   ]
  },
  {
   "cell_type": "code",
   "execution_count": 50,
   "id": "47b98c82",
   "metadata": {},
   "outputs": [],
   "source": [
    "a =[]\n",
    "for i in d:\n",
    "    if i == '':\n",
    "        a.append(True)\n",
    "    else:\n",
    "        a.append(False)\n",
    "        "
   ]
  },
  {
   "cell_type": "code",
   "execution_count": 51,
   "id": "2d2a1e20",
   "metadata": {},
   "outputs": [
    {
     "data": {
      "text/plain": [
       "[False,\n",
       " False,\n",
       " False,\n",
       " False,\n",
       " False,\n",
       " False,\n",
       " False,\n",
       " False,\n",
       " False,\n",
       " False,\n",
       " False,\n",
       " False,\n",
       " False,\n",
       " False,\n",
       " False,\n",
       " False,\n",
       " False,\n",
       " False,\n",
       " False,\n",
       " False,\n",
       " False,\n",
       " False,\n",
       " False,\n",
       " False,\n",
       " False,\n",
       " False,\n",
       " False,\n",
       " False,\n",
       " False,\n",
       " False,\n",
       " False,\n",
       " False,\n",
       " False,\n",
       " False,\n",
       " False,\n",
       " False,\n",
       " False,\n",
       " False,\n",
       " False,\n",
       " False,\n",
       " False,\n",
       " False,\n",
       " False,\n",
       " False,\n",
       " False,\n",
       " False,\n",
       " False,\n",
       " False,\n",
       " False,\n",
       " False,\n",
       " False,\n",
       " False,\n",
       " False,\n",
       " False,\n",
       " False,\n",
       " False,\n",
       " False,\n",
       " False,\n",
       " False,\n",
       " False,\n",
       " False,\n",
       " False,\n",
       " False,\n",
       " False,\n",
       " False,\n",
       " False,\n",
       " False,\n",
       " False,\n",
       " False,\n",
       " False,\n",
       " False,\n",
       " False,\n",
       " False,\n",
       " False,\n",
       " False,\n",
       " False,\n",
       " False,\n",
       " False,\n",
       " False,\n",
       " False,\n",
       " False,\n",
       " False,\n",
       " False,\n",
       " False,\n",
       " False,\n",
       " False,\n",
       " False,\n",
       " False,\n",
       " False,\n",
       " False,\n",
       " False,\n",
       " False,\n",
       " False,\n",
       " False,\n",
       " False,\n",
       " False,\n",
       " False,\n",
       " False,\n",
       " False,\n",
       " False,\n",
       " False,\n",
       " False,\n",
       " False,\n",
       " False,\n",
       " False,\n",
       " False,\n",
       " False,\n",
       " False,\n",
       " False,\n",
       " False,\n",
       " False,\n",
       " False,\n",
       " False,\n",
       " False,\n",
       " False,\n",
       " False,\n",
       " False,\n",
       " False,\n",
       " False,\n",
       " False,\n",
       " False,\n",
       " False,\n",
       " False,\n",
       " False,\n",
       " False,\n",
       " False,\n",
       " False,\n",
       " False,\n",
       " False,\n",
       " False,\n",
       " False,\n",
       " False,\n",
       " False,\n",
       " False,\n",
       " False,\n",
       " False,\n",
       " False,\n",
       " False,\n",
       " False,\n",
       " False,\n",
       " False,\n",
       " False,\n",
       " False,\n",
       " False,\n",
       " False,\n",
       " False,\n",
       " False,\n",
       " False,\n",
       " False,\n",
       " False,\n",
       " False,\n",
       " False,\n",
       " False,\n",
       " False,\n",
       " False,\n",
       " False,\n",
       " False,\n",
       " False,\n",
       " False,\n",
       " False,\n",
       " False,\n",
       " False,\n",
       " False,\n",
       " False,\n",
       " False,\n",
       " False,\n",
       " False,\n",
       " False,\n",
       " False,\n",
       " False,\n",
       " False,\n",
       " False,\n",
       " False,\n",
       " False,\n",
       " False,\n",
       " False,\n",
       " False,\n",
       " False,\n",
       " False,\n",
       " False,\n",
       " False,\n",
       " False,\n",
       " False,\n",
       " False,\n",
       " False,\n",
       " False,\n",
       " False,\n",
       " False,\n",
       " False,\n",
       " False,\n",
       " False,\n",
       " False,\n",
       " False,\n",
       " False,\n",
       " False,\n",
       " False,\n",
       " False,\n",
       " False,\n",
       " False,\n",
       " False,\n",
       " False,\n",
       " False,\n",
       " False,\n",
       " False,\n",
       " False,\n",
       " False,\n",
       " False,\n",
       " False,\n",
       " False,\n",
       " False,\n",
       " False,\n",
       " False,\n",
       " False,\n",
       " False,\n",
       " False,\n",
       " False,\n",
       " False,\n",
       " False,\n",
       " False,\n",
       " False,\n",
       " False,\n",
       " False,\n",
       " False,\n",
       " False]"
      ]
     },
     "execution_count": 51,
     "metadata": {},
     "output_type": "execute_result"
    }
   ],
   "source": [
    "a"
   ]
  },
  {
   "cell_type": "code",
   "execution_count": 52,
   "id": "863754c8",
   "metadata": {},
   "outputs": [
    {
     "data": {
      "text/plain": [
       "0"
      ]
     },
     "execution_count": 52,
     "metadata": {},
     "output_type": "execute_result"
    }
   ],
   "source": [
    "a.count(True)"
   ]
  },
  {
   "cell_type": "markdown",
   "id": "aec58968",
   "metadata": {},
   "source": [
    "All values are present in data"
   ]
  },
  {
   "cell_type": "markdown",
   "id": "cf696d0d",
   "metadata": {},
   "source": [
    "# 10. Find and print the indexes of all the outlier(unusual) values present in the above dataset."
   ]
  },
  {
   "cell_type": "code",
   "execution_count": 53,
   "id": "4a0e9158",
   "metadata": {},
   "outputs": [],
   "source": [
    "temp = d.astype(int)"
   ]
  },
  {
   "cell_type": "code",
   "execution_count": 54,
   "id": "d3a09698",
   "metadata": {},
   "outputs": [
    {
     "data": {
      "text/plain": [
       "(224,)"
      ]
     },
     "execution_count": 54,
     "metadata": {},
     "output_type": "execute_result"
    }
   ],
   "source": [
    "temp.shape"
   ]
  },
  {
   "cell_type": "code",
   "execution_count": 55,
   "id": "999ba879",
   "metadata": {},
   "outputs": [],
   "source": [
    "temp_short = np.sort(temp)"
   ]
  },
  {
   "cell_type": "code",
   "execution_count": 56,
   "id": "cc1ab2a3",
   "metadata": {},
   "outputs": [
    {
     "data": {
      "text/plain": [
       "array([-13, -10,   2,   2,   3,   3,   3,   4,   4,   4,   4,   4,   4,\n",
       "         4,   4,   5,   5,   5,   6,   6,   6,   6,   6,   6,   6,   6,\n",
       "         6,   6,   6,   7,   7,   7,   7,   7,   7,   7,   7,   7,   7,\n",
       "         7,   7,   7,   7,   7,   7,   8,   8,   8,   8,   8,   8,   8,\n",
       "         8,   8,   8,   8,   8,   8,   8,   9,   9,   9,   9,   9,   9,\n",
       "         9,   9,   9,   9,  10,  10,  10,  10,  10,  10,  10,  11,  11,\n",
       "        11,  11,  11,  11,  11,  11,  11,  11,  11,  11,  11,  11,  11,\n",
       "        12,  12,  12,  12,  12,  12,  12,  12,  12,  12,  12,  12,  12,\n",
       "        13,  13,  13,  13,  14,  14,  14,  14,  14,  14,  14,  14,  14,\n",
       "        15,  15,  18,  18,  18,  18,  18,  18,  18,  18,  18,  19,  19,\n",
       "        19,  19,  19,  19,  19,  19,  19,  19,  19,  20,  20,  20,  20,\n",
       "        20,  20,  20,  20,  20,  20,  20,  20,  21,  21,  21,  21,  21,\n",
       "        21,  21,  21,  21,  21,  21,  21,  21,  21,  21,  22,  22,  22,\n",
       "        22,  22,  22,  22,  22,  22,  22,  22,  23,  23,  23,  23,  23,\n",
       "        23,  23,  23,  23,  24,  24,  24,  25,  25,  25,  25,  26,  26,\n",
       "        27,  27,  27,  27,  27,  28,  28,  28,  28,  28,  28,  28,  29,\n",
       "        29,  29,  29,  30,  30,  30,  30,  31,  31,  31,  31,  32,  32,\n",
       "        32,  32,  71])"
      ]
     },
     "execution_count": 56,
     "metadata": {},
     "output_type": "execute_result"
    }
   ],
   "source": [
    "temp_short"
   ]
  },
  {
   "cell_type": "code",
   "execution_count": 57,
   "id": "c1035d0e",
   "metadata": {},
   "outputs": [
    {
     "data": {
      "text/plain": [
       "8.0"
      ]
     },
     "execution_count": 57,
     "metadata": {},
     "output_type": "execute_result"
    }
   ],
   "source": [
    "q1 = np.median(temp_short[0:112])\n",
    "q1"
   ]
  },
  {
   "cell_type": "code",
   "execution_count": 58,
   "id": "ee3580ba",
   "metadata": {},
   "outputs": [],
   "source": [
    "q3 = np.median(temp_short[112:])"
   ]
  },
  {
   "cell_type": "code",
   "execution_count": 59,
   "id": "79b6f7d5",
   "metadata": {},
   "outputs": [
    {
     "data": {
      "text/plain": [
       "22.0"
      ]
     },
     "execution_count": 59,
     "metadata": {},
     "output_type": "execute_result"
    }
   ],
   "source": [
    "q3"
   ]
  },
  {
   "cell_type": "code",
   "execution_count": 60,
   "id": "4ce2e13b",
   "metadata": {},
   "outputs": [
    {
     "data": {
      "text/plain": [
       "14.0"
      ]
     },
     "execution_count": 60,
     "metadata": {},
     "output_type": "execute_result"
    }
   ],
   "source": [
    "iqr = q3 - q1\n",
    "iqr"
   ]
  },
  {
   "cell_type": "code",
   "execution_count": 61,
   "id": "17183f02",
   "metadata": {},
   "outputs": [],
   "source": [
    "q = []\n",
    "for i in temp:\n",
    "    if i>q1-1.5*iqr and i<q3+1.5*iqr:\n",
    "        q.append(i)\n",
    "    else:\n",
    "        q.append('outlier')"
   ]
  },
  {
   "cell_type": "code",
   "execution_count": 62,
   "id": "a8fbc559",
   "metadata": {},
   "outputs": [],
   "source": [
    "q = np.array(q).reshape(16,14)"
   ]
  },
  {
   "cell_type": "code",
   "execution_count": 63,
   "id": "e84f9568",
   "metadata": {},
   "outputs": [
    {
     "data": {
      "text/plain": [
       "array([['11', '20', '10', '20', '9', '30', '14', '24', '6', '29', '12',\n",
       "        '21', '12', '27'],\n",
       "       ['13', '23', '13', '29', '8', '22', 'outlier', '32', '6', '21',\n",
       "        '14', '23', '11', '28'],\n",
       "       ['6', '28', '14', '21', '9', '32', '8', '28', '13', '30', '6',\n",
       "        '31', '6', '23'],\n",
       "       ['6', '23', '8', '23', '14', '24', '6', '29', '13', '25', '12',\n",
       "        '24', '11', '27'],\n",
       "       ['11', '25', '14', '25', '7', '20', '9', '28', '9', '23', '11',\n",
       "        '23', '11', '30'],\n",
       "       ['9', '30', '15', '26', '9', '27', '14', '31', '8', '22', '10',\n",
       "        '26', '12', '28'],\n",
       "       ['6', '28', '12', '31', '14', '27', '9', '32', '7', '23', '11',\n",
       "        '32', '7', '23'],\n",
       "       ['7', '28', '15', '29', '11', '22', '14', '21', '12', '27', '12',\n",
       "        '31', '14', '25'],\n",
       "       ['5', '22', '8', '21', '8', '20', '7', '19', '8', '22', '2', '7',\n",
       "        '18', '4'],\n",
       "       ['4', '22', '6', '20', '6', '21', '4', '22', '4', '21', '3', '3',\n",
       "        '20', '5'],\n",
       "       ['5', '21', '7', '18', '8', '21', '4', '19', '4', '18', '3', '7',\n",
       "        '18', '4'],\n",
       "       ['6', '19', '2', '18', '7', '20', '8', '22', '8', '19', '7', '4',\n",
       "        '20', '8'],\n",
       "       ['8', '22', '7', '19', '-10', '18', '11', '19', '12', '20', '12',\n",
       "        'outlier', '21', '12'],\n",
       "       ['8', '19', '10', '20', '12', '18', '10', '18', '10', '22', '8',\n",
       "        '11', '19', '7'],\n",
       "       ['9', '22', '11', '19', '7', '21', '11', '21', '9', '19', '7',\n",
       "        '10', '19', '10'],\n",
       "       ['11', '21', '7', '20', '11', '21', '12', '18', '11', '20', '12',\n",
       "        '7', '21', '9']], dtype='<U11')"
      ]
     },
     "execution_count": 63,
     "metadata": {},
     "output_type": "execute_result"
    }
   ],
   "source": [
    "q"
   ]
  },
  {
   "cell_type": "code",
   "execution_count": 64,
   "id": "822b2cf0",
   "metadata": {},
   "outputs": [
    {
     "data": {
      "text/plain": [
       "array([['November', 'Week 1', '11', '20', '10', '20', '9', '30', '14',\n",
       "        '24', '6', '29', '12', '21', '12', '27'],\n",
       "       ['November', 'Week 2', '13', '23', '13', '29', '8', '22',\n",
       "        'outlier', '32', '6', '21', '14', '23', '11', '28'],\n",
       "       ['November', 'Week 3', '6', '28', '14', '21', '9', '32', '8',\n",
       "        '28', '13', '30', '6', '31', '6', '23'],\n",
       "       ['November', 'Week 4', '6', '23', '8', '23', '14', '24', '6',\n",
       "        '29', '13', '25', '12', '24', '11', '27'],\n",
       "       ['December', 'Week 1', '11', '25', '14', '25', '7', '20', '9',\n",
       "        '28', '9', '23', '11', '23', '11', '30'],\n",
       "       ['December', 'Week 2', '9', '30', '15', '26', '9', '27', '14',\n",
       "        '31', '8', '22', '10', '26', '12', '28'],\n",
       "       ['December', 'Week 3', '6', '28', '12', '31', '14', '27', '9',\n",
       "        '32', '7', '23', '11', '32', '7', '23'],\n",
       "       ['December', 'Week 4', '7', '28', '15', '29', '11', '22', '14',\n",
       "        '21', '12', '27', '12', '31', '14', '25'],\n",
       "       ['January', 'Week 1', '5', '22', '8', '21', '8', '20', '7', '19',\n",
       "        '8', '22', '2', '7', '18', '4'],\n",
       "       ['January', 'Week 2', '4', '22', '6', '20', '6', '21', '4', '22',\n",
       "        '4', '21', '3', '3', '20', '5'],\n",
       "       ['January', 'Week 3', '5', '21', '7', '18', '8', '21', '4', '19',\n",
       "        '4', '18', '3', '7', '18', '4'],\n",
       "       ['January', 'Week 4', '6', '19', '2', '18', '7', '20', '8', '22',\n",
       "        '8', '19', '7', '4', '20', '8'],\n",
       "       ['February', 'Week 1', '8', '22', '7', '19', '-10', '18', '11',\n",
       "        '19', '12', '20', '12', 'outlier', '21', '12'],\n",
       "       ['February', 'Week 2', '8', '19', '10', '20', '12', '18', '10',\n",
       "        '18', '10', '22', '8', '11', '19', '7'],\n",
       "       ['February', 'Week 3', '9', '22', '11', '19', '7', '21', '11',\n",
       "        '21', '9', '19', '7', '10', '19', '10'],\n",
       "       ['February', 'Week 4', '11', '21', '7', '20', '11', '21', '12',\n",
       "        '18', '11', '20', '12', '7', '21', '9']], dtype='<U16')"
      ]
     },
     "execution_count": 64,
     "metadata": {},
     "output_type": "execute_result"
    }
   ],
   "source": [
    "d_outliers = np.hstack((data[2:,0:2],q))\n",
    "d_outliers"
   ]
  },
  {
   "cell_type": "code",
   "execution_count": 65,
   "id": "e7aba17e",
   "metadata": {},
   "outputs": [],
   "source": [
    "d_outliers = np.vstack((data[0:2,:],d_outliers))"
   ]
  },
  {
   "cell_type": "code",
   "execution_count": 66,
   "id": "c169e761",
   "metadata": {},
   "outputs": [
    {
     "data": {
      "text/plain": [
       "array([['Month', 'Week', 'Monday', 'Monday', 'Tuesday', 'Tuesday',\n",
       "        'Wednesday', 'Wednesday', 'Thursday', 'Thursday', 'Friday',\n",
       "        'Friday', 'Saturday', 'Saturday', 'Sunday', 'Sunday'],\n",
       "       ['', '', 'Min Temp', 'Max Temp', 'Min Temp', 'Max Temp',\n",
       "        'Min Temp', 'Max Temp', 'Min Temp', 'Max Temp', 'Min Temp',\n",
       "        'Max Temp', 'Min Temp', 'Max Temp', 'Min Temp', 'Max Temp'],\n",
       "       ['November', 'Week 1', '11', '20', '10', '20', '9', '30', '14',\n",
       "        '24', '6', '29', '12', '21', '12', '27'],\n",
       "       ['November', 'Week 2', '13', '23', '13', '29', '8', '22',\n",
       "        'outlier', '32', '6', '21', '14', '23', '11', '28'],\n",
       "       ['November', 'Week 3', '6', '28', '14', '21', '9', '32', '8',\n",
       "        '28', '13', '30', '6', '31', '6', '23'],\n",
       "       ['November', 'Week 4', '6', '23', '8', '23', '14', '24', '6',\n",
       "        '29', '13', '25', '12', '24', '11', '27'],\n",
       "       ['December', 'Week 1', '11', '25', '14', '25', '7', '20', '9',\n",
       "        '28', '9', '23', '11', '23', '11', '30'],\n",
       "       ['December', 'Week 2', '9', '30', '15', '26', '9', '27', '14',\n",
       "        '31', '8', '22', '10', '26', '12', '28'],\n",
       "       ['December', 'Week 3', '6', '28', '12', '31', '14', '27', '9',\n",
       "        '32', '7', '23', '11', '32', '7', '23'],\n",
       "       ['December', 'Week 4', '7', '28', '15', '29', '11', '22', '14',\n",
       "        '21', '12', '27', '12', '31', '14', '25'],\n",
       "       ['January', 'Week 1', '5', '22', '8', '21', '8', '20', '7', '19',\n",
       "        '8', '22', '2', '7', '18', '4'],\n",
       "       ['January', 'Week 2', '4', '22', '6', '20', '6', '21', '4', '22',\n",
       "        '4', '21', '3', '3', '20', '5'],\n",
       "       ['January', 'Week 3', '5', '21', '7', '18', '8', '21', '4', '19',\n",
       "        '4', '18', '3', '7', '18', '4'],\n",
       "       ['January', 'Week 4', '6', '19', '2', '18', '7', '20', '8', '22',\n",
       "        '8', '19', '7', '4', '20', '8'],\n",
       "       ['February', 'Week 1', '8', '22', '7', '19', '-10', '18', '11',\n",
       "        '19', '12', '20', '12', 'outlier', '21', '12'],\n",
       "       ['February', 'Week 2', '8', '19', '10', '20', '12', '18', '10',\n",
       "        '18', '10', '22', '8', '11', '19', '7'],\n",
       "       ['February', 'Week 3', '9', '22', '11', '19', '7', '21', '11',\n",
       "        '21', '9', '19', '7', '10', '19', '10'],\n",
       "       ['February', 'Week 4', '11', '21', '7', '20', '11', '21', '12',\n",
       "        '18', '11', '20', '12', '7', '21', '9']], dtype='<U16')"
      ]
     },
     "execution_count": 66,
     "metadata": {},
     "output_type": "execute_result"
    }
   ],
   "source": [
    "d_outliers"
   ]
  },
  {
   "cell_type": "markdown",
   "id": "c38f7d08",
   "metadata": {},
   "source": [
    "# 11.Replace the outliers with an appropriate value.\n"
   ]
  },
  {
   "cell_type": "code",
   "execution_count": 67,
   "id": "510dfe60",
   "metadata": {},
   "outputs": [],
   "source": [
    "median = np.median(temp)"
   ]
  },
  {
   "cell_type": "code",
   "execution_count": 68,
   "id": "7db36c14",
   "metadata": {},
   "outputs": [
    {
     "data": {
      "text/plain": [
       "14.0"
      ]
     },
     "execution_count": 68,
     "metadata": {},
     "output_type": "execute_result"
    }
   ],
   "source": [
    "median\n"
   ]
  },
  {
   "cell_type": "code",
   "execution_count": 69,
   "id": "9c6747db",
   "metadata": {},
   "outputs": [],
   "source": [
    "b = []\n",
    "for i in temp:\n",
    "    if i=='outlier':\n",
    "        b.append(median)\n",
    "    else:\n",
    "        b.append(i)"
   ]
  },
  {
   "cell_type": "code",
   "execution_count": 70,
   "id": "fe3a22dd",
   "metadata": {},
   "outputs": [],
   "source": [
    "b = np.array(b).reshape(16,14)"
   ]
  },
  {
   "cell_type": "code",
   "execution_count": 71,
   "id": "dd4cce60",
   "metadata": {},
   "outputs": [
    {
     "data": {
      "text/plain": [
       "array([[ 11,  20,  10,  20,   9,  30,  14,  24,   6,  29,  12,  21,  12,\n",
       "         27],\n",
       "       [ 13,  23,  13,  29,   8,  22, -13,  32,   6,  21,  14,  23,  11,\n",
       "         28],\n",
       "       [  6,  28,  14,  21,   9,  32,   8,  28,  13,  30,   6,  31,   6,\n",
       "         23],\n",
       "       [  6,  23,   8,  23,  14,  24,   6,  29,  13,  25,  12,  24,  11,\n",
       "         27],\n",
       "       [ 11,  25,  14,  25,   7,  20,   9,  28,   9,  23,  11,  23,  11,\n",
       "         30],\n",
       "       [  9,  30,  15,  26,   9,  27,  14,  31,   8,  22,  10,  26,  12,\n",
       "         28],\n",
       "       [  6,  28,  12,  31,  14,  27,   9,  32,   7,  23,  11,  32,   7,\n",
       "         23],\n",
       "       [  7,  28,  15,  29,  11,  22,  14,  21,  12,  27,  12,  31,  14,\n",
       "         25],\n",
       "       [  5,  22,   8,  21,   8,  20,   7,  19,   8,  22,   2,   7,  18,\n",
       "          4],\n",
       "       [  4,  22,   6,  20,   6,  21,   4,  22,   4,  21,   3,   3,  20,\n",
       "          5],\n",
       "       [  5,  21,   7,  18,   8,  21,   4,  19,   4,  18,   3,   7,  18,\n",
       "          4],\n",
       "       [  6,  19,   2,  18,   7,  20,   8,  22,   8,  19,   7,   4,  20,\n",
       "          8],\n",
       "       [  8,  22,   7,  19, -10,  18,  11,  19,  12,  20,  12,  71,  21,\n",
       "         12],\n",
       "       [  8,  19,  10,  20,  12,  18,  10,  18,  10,  22,   8,  11,  19,\n",
       "          7],\n",
       "       [  9,  22,  11,  19,   7,  21,  11,  21,   9,  19,   7,  10,  19,\n",
       "         10],\n",
       "       [ 11,  21,   7,  20,  11,  21,  12,  18,  11,  20,  12,   7,  21,\n",
       "          9]])"
      ]
     },
     "execution_count": 71,
     "metadata": {},
     "output_type": "execute_result"
    }
   ],
   "source": [
    "b"
   ]
  },
  {
   "cell_type": "code",
   "execution_count": 72,
   "id": "9a780daf",
   "metadata": {},
   "outputs": [],
   "source": [
    "temp_1 = np.vstack((data[0:2,:],np.hstack((data[2:,0:2],b))))"
   ]
  },
  {
   "cell_type": "code",
   "execution_count": 73,
   "id": "41319b42",
   "metadata": {},
   "outputs": [
    {
     "data": {
      "text/plain": [
       "array([['Month', 'Week', 'Monday', 'Monday', 'Tuesday', 'Tuesday',\n",
       "        'Wednesday', 'Wednesday', 'Thursday', 'Thursday', 'Friday',\n",
       "        'Friday', 'Saturday', 'Saturday', 'Sunday', 'Sunday'],\n",
       "       ['', '', 'Min Temp', 'Max Temp', 'Min Temp', 'Max Temp',\n",
       "        'Min Temp', 'Max Temp', 'Min Temp', 'Max Temp', 'Min Temp',\n",
       "        'Max Temp', 'Min Temp', 'Max Temp', 'Min Temp', 'Max Temp'],\n",
       "       ['November', 'Week 1', '11', '20', '10', '20', '9', '30', '14',\n",
       "        '24', '6', '29', '12', '21', '12', '27'],\n",
       "       ['November', 'Week 2', '13', '23', '13', '29', '8', '22', '-13',\n",
       "        '32', '6', '21', '14', '23', '11', '28'],\n",
       "       ['November', 'Week 3', '6', '28', '14', '21', '9', '32', '8',\n",
       "        '28', '13', '30', '6', '31', '6', '23'],\n",
       "       ['November', 'Week 4', '6', '23', '8', '23', '14', '24', '6',\n",
       "        '29', '13', '25', '12', '24', '11', '27'],\n",
       "       ['December', 'Week 1', '11', '25', '14', '25', '7', '20', '9',\n",
       "        '28', '9', '23', '11', '23', '11', '30'],\n",
       "       ['December', 'Week 2', '9', '30', '15', '26', '9', '27', '14',\n",
       "        '31', '8', '22', '10', '26', '12', '28'],\n",
       "       ['December', 'Week 3', '6', '28', '12', '31', '14', '27', '9',\n",
       "        '32', '7', '23', '11', '32', '7', '23'],\n",
       "       ['December', 'Week 4', '7', '28', '15', '29', '11', '22', '14',\n",
       "        '21', '12', '27', '12', '31', '14', '25'],\n",
       "       ['January', 'Week 1', '5', '22', '8', '21', '8', '20', '7', '19',\n",
       "        '8', '22', '2', '7', '18', '4'],\n",
       "       ['January', 'Week 2', '4', '22', '6', '20', '6', '21', '4', '22',\n",
       "        '4', '21', '3', '3', '20', '5'],\n",
       "       ['January', 'Week 3', '5', '21', '7', '18', '8', '21', '4', '19',\n",
       "        '4', '18', '3', '7', '18', '4'],\n",
       "       ['January', 'Week 4', '6', '19', '2', '18', '7', '20', '8', '22',\n",
       "        '8', '19', '7', '4', '20', '8'],\n",
       "       ['February', 'Week 1', '8', '22', '7', '19', '-10', '18', '11',\n",
       "        '19', '12', '20', '12', '71', '21', '12'],\n",
       "       ['February', 'Week 2', '8', '19', '10', '20', '12', '18', '10',\n",
       "        '18', '10', '22', '8', '11', '19', '7'],\n",
       "       ['February', 'Week 3', '9', '22', '11', '19', '7', '21', '11',\n",
       "        '21', '9', '19', '7', '10', '19', '10'],\n",
       "       ['February', 'Week 4', '11', '21', '7', '20', '11', '21', '12',\n",
       "        '18', '11', '20', '12', '7', '21', '9']], dtype='<U16')"
      ]
     },
     "execution_count": 73,
     "metadata": {},
     "output_type": "execute_result"
    }
   ],
   "source": [
    "temp_1"
   ]
  },
  {
   "cell_type": "markdown",
   "id": "1e9cb3da",
   "metadata": {},
   "source": [
    "# 12. Find the average max temperature for the winter months in Jaipur."
   ]
  },
  {
   "cell_type": "code",
   "execution_count": 74,
   "id": "a3e5ddd2",
   "metadata": {},
   "outputs": [
    {
     "data": {
      "text/plain": [
       "array([['Month', 'Week', 'Monday', 'Tuesday', 'Wednesday', 'Thursday',\n",
       "        'Friday', 'Saturday', 'Sunday'],\n",
       "       ['', '', 'Max Temp', 'Max Temp', 'Max Temp', 'Max Temp',\n",
       "        'Max Temp', 'Max Temp', 'Max Temp'],\n",
       "       ['November', 'Week 1', '20', '20', '30', '24', '29', '21', '27'],\n",
       "       ['November', 'Week 2', '23', '29', '22', '32', '21', '23', '28'],\n",
       "       ['November', 'Week 3', '28', '21', '32', '28', '30', '31', '23'],\n",
       "       ['November', 'Week 4', '23', '23', '24', '29', '25', '24', '27'],\n",
       "       ['December', 'Week 1', '25', '25', '20', '28', '23', '23', '30'],\n",
       "       ['December', 'Week 2', '30', '26', '27', '31', '22', '26', '28'],\n",
       "       ['December', 'Week 3', '28', '31', '27', '32', '23', '32', '23'],\n",
       "       ['December', 'Week 4', '28', '29', '22', '21', '27', '31', '25'],\n",
       "       ['January', 'Week 1', '22', '21', '20', '19', '22', '7', '4'],\n",
       "       ['January', 'Week 2', '22', '20', '21', '22', '21', '3', '5'],\n",
       "       ['January', 'Week 3', '21', '18', '21', '19', '18', '7', '4'],\n",
       "       ['January', 'Week 4', '19', '18', '20', '22', '19', '4', '8'],\n",
       "       ['February', 'Week 1', '22', '19', '18', '19', '20', '71', '12'],\n",
       "       ['February', 'Week 2', '19', '20', '18', '18', '22', '11', '7'],\n",
       "       ['February', 'Week 3', '22', '19', '21', '21', '19', '10', '10'],\n",
       "       ['February', 'Week 4', '21', '20', '21', '18', '20', '7', '9']],\n",
       "      dtype='<U16')"
      ]
     },
     "execution_count": 74,
     "metadata": {},
     "output_type": "execute_result"
    }
   ],
   "source": [
    "max_temp"
   ]
  },
  {
   "cell_type": "code",
   "execution_count": 75,
   "id": "21c8176a",
   "metadata": {},
   "outputs": [
    {
     "data": {
      "text/plain": [
       "array([['December', 'Week 1', '25', '25', '20', '28', '23', '23', '30'],\n",
       "       ['December', 'Week 2', '30', '26', '27', '31', '22', '26', '28'],\n",
       "       ['December', 'Week 3', '28', '31', '27', '32', '23', '32', '23'],\n",
       "       ['December', 'Week 4', '28', '29', '22', '21', '27', '31', '25'],\n",
       "       ['January', 'Week 1', '22', '21', '20', '19', '22', '7', '4'],\n",
       "       ['January', 'Week 2', '22', '20', '21', '22', '21', '3', '5'],\n",
       "       ['January', 'Week 3', '21', '18', '21', '19', '18', '7', '4'],\n",
       "       ['January', 'Week 4', '19', '18', '20', '22', '19', '4', '8']],\n",
       "      dtype='<U16')"
      ]
     },
     "execution_count": 75,
     "metadata": {},
     "output_type": "execute_result"
    }
   ],
   "source": [
    "d_j"
   ]
  },
  {
   "cell_type": "code",
   "execution_count": 76,
   "id": "e1cec17c",
   "metadata": {},
   "outputs": [],
   "source": [
    "w = d_j[:,2:].astype(int)"
   ]
  },
  {
   "cell_type": "code",
   "execution_count": 77,
   "id": "546fefaf",
   "metadata": {},
   "outputs": [
    {
     "data": {
      "text/plain": [
       "(8, 7)"
      ]
     },
     "execution_count": 77,
     "metadata": {},
     "output_type": "execute_result"
    }
   ],
   "source": [
    "w.shape"
   ]
  },
  {
   "cell_type": "code",
   "execution_count": 78,
   "id": "8455e0f0",
   "metadata": {},
   "outputs": [
    {
     "data": {
      "text/plain": [
       "21.25"
      ]
     },
     "execution_count": 78,
     "metadata": {},
     "output_type": "execute_result"
    }
   ],
   "source": [
    "np.mean(w)"
   ]
  },
  {
   "cell_type": "markdown",
   "id": "0ca0736c",
   "metadata": {},
   "source": [
    "# 13. Find the weekly min avg temp for the month of Dec in Jaipur"
   ]
  },
  {
   "cell_type": "code",
   "execution_count": 79,
   "id": "b8862d4a",
   "metadata": {},
   "outputs": [
    {
     "data": {
      "text/plain": [
       "array([['Month', 'Week', 'Monday', 'Tuesday', 'Wednesday', 'Thursday',\n",
       "        'Friday', 'Saturday', 'Sunday'],\n",
       "       ['', '', 'Min Temp', 'Min Temp', 'Min Temp', 'Min Temp',\n",
       "        'Min Temp', 'Min Temp', 'Min Temp'],\n",
       "       ['November', 'Week 1', '11', '10', '9', '14', '6', '12', '12'],\n",
       "       ['November', 'Week 2', '13', '13', '8', '-13', '6', '14', '11'],\n",
       "       ['November', 'Week 3', '6', '14', '9', '8', '13', '6', '6'],\n",
       "       ['November', 'Week 4', '6', '8', '14', '6', '13', '12', '11'],\n",
       "       ['December', 'Week 1', '11', '14', '7', '9', '9', '11', '11'],\n",
       "       ['December', 'Week 2', '9', '15', '9', '14', '8', '10', '12'],\n",
       "       ['December', 'Week 3', '6', '12', '14', '9', '7', '11', '7'],\n",
       "       ['December', 'Week 4', '7', '15', '11', '14', '12', '12', '14'],\n",
       "       ['January', 'Week 1', '5', '8', '8', '7', '8', '2', '18'],\n",
       "       ['January', 'Week 2', '4', '6', '6', '4', '4', '3', '20'],\n",
       "       ['January', 'Week 3', '5', '7', '8', '4', '4', '3', '18'],\n",
       "       ['January', 'Week 4', '6', '2', '7', '8', '8', '7', '20'],\n",
       "       ['February', 'Week 1', '8', '7', '-10', '11', '12', '12', '21'],\n",
       "       ['February', 'Week 2', '8', '10', '12', '10', '10', '8', '19'],\n",
       "       ['February', 'Week 3', '9', '11', '7', '11', '9', '7', '19'],\n",
       "       ['February', 'Week 4', '11', '7', '11', '12', '11', '12', '21']],\n",
       "      dtype='<U16')"
      ]
     },
     "execution_count": 79,
     "metadata": {},
     "output_type": "execute_result"
    }
   ],
   "source": [
    "min_temp"
   ]
  },
  {
   "cell_type": "code",
   "execution_count": 80,
   "id": "4567edc2",
   "metadata": {},
   "outputs": [],
   "source": [
    "dec = min_temp[:,0]=='December'\n",
    "dec_temp = min_temp[dec]"
   ]
  },
  {
   "cell_type": "code",
   "execution_count": 81,
   "id": "384f85f4",
   "metadata": {},
   "outputs": [
    {
     "data": {
      "text/plain": [
       "array([['December', 'Week 1', '11', '14', '7', '9', '9', '11', '11'],\n",
       "       ['December', 'Week 2', '9', '15', '9', '14', '8', '10', '12'],\n",
       "       ['December', 'Week 3', '6', '12', '14', '9', '7', '11', '7'],\n",
       "       ['December', 'Week 4', '7', '15', '11', '14', '12', '12', '14']],\n",
       "      dtype='<U16')"
      ]
     },
     "execution_count": 81,
     "metadata": {},
     "output_type": "execute_result"
    }
   ],
   "source": [
    "dec_temp"
   ]
  },
  {
   "cell_type": "code",
   "execution_count": 82,
   "id": "3ee4bdbd",
   "metadata": {},
   "outputs": [
    {
     "data": {
      "text/plain": [
       "10.286"
      ]
     },
     "execution_count": 82,
     "metadata": {},
     "output_type": "execute_result"
    }
   ],
   "source": [
    "d_w1 = dec_temp[0:1,2:].astype(int)\n",
    "round(np.mean(d_w1),3)"
   ]
  },
  {
   "cell_type": "code",
   "execution_count": 83,
   "id": "7bb1edf0",
   "metadata": {},
   "outputs": [
    {
     "data": {
      "text/plain": [
       "11.0"
      ]
     },
     "execution_count": 83,
     "metadata": {},
     "output_type": "execute_result"
    }
   ],
   "source": [
    "d_w2 = dec_temp[1:2,2:].astype(int)\n",
    "round(np.mean(d_w2),3)"
   ]
  },
  {
   "cell_type": "code",
   "execution_count": 84,
   "id": "43be55fc",
   "metadata": {},
   "outputs": [
    {
     "data": {
      "text/plain": [
       "9.429"
      ]
     },
     "execution_count": 84,
     "metadata": {},
     "output_type": "execute_result"
    }
   ],
   "source": [
    "d_w3 = dec_temp[2:3,2:].astype(int)\n",
    "round(np.mean(d_w3),3)"
   ]
  },
  {
   "cell_type": "code",
   "execution_count": 85,
   "id": "60a93a41",
   "metadata": {},
   "outputs": [
    {
     "data": {
      "text/plain": [
       "12.143"
      ]
     },
     "execution_count": 85,
     "metadata": {},
     "output_type": "execute_result"
    }
   ],
   "source": [
    "d_w4 = dec_temp[3:4,2:].astype(int)\n",
    "round(np.mean(d_w4),3)"
   ]
  },
  {
   "cell_type": "markdown",
   "id": "402162f0",
   "metadata": {},
   "source": [
    "# 14. Find the overall avg temp for the months Dec and Jan"
   ]
  },
  {
   "cell_type": "code",
   "execution_count": 86,
   "id": "f7f6ea35",
   "metadata": {},
   "outputs": [],
   "source": [
    "dec_1 = data[0:,0]=='December'\n",
    "jan_1 = data[0:,0]=='January'"
   ]
  },
  {
   "cell_type": "code",
   "execution_count": 87,
   "id": "00b104ae",
   "metadata": {},
   "outputs": [],
   "source": [
    "dec_jan = np.vstack((data[dec_1],data[jan_1]))"
   ]
  },
  {
   "cell_type": "code",
   "execution_count": 88,
   "id": "036d0b26",
   "metadata": {},
   "outputs": [],
   "source": [
    "dec_jan = dec_jan[:,2:].astype(int)"
   ]
  },
  {
   "cell_type": "code",
   "execution_count": 89,
   "id": "00f04fc7",
   "metadata": {},
   "outputs": [
    {
     "data": {
      "text/plain": [
       "15.179"
      ]
     },
     "execution_count": 89,
     "metadata": {},
     "output_type": "execute_result"
    }
   ],
   "source": [
    "round(np.mean(dec_jan),3)"
   ]
  },
  {
   "cell_type": "code",
   "execution_count": null,
   "id": "916bd5aa",
   "metadata": {},
   "outputs": [],
   "source": []
  },
  {
   "cell_type": "code",
   "execution_count": null,
   "id": "2fb2c610",
   "metadata": {},
   "outputs": [],
   "source": []
  }
 ],
 "metadata": {
  "kernelspec": {
   "display_name": "Python 3 (ipykernel)",
   "language": "python",
   "name": "python3"
  },
  "language_info": {
   "codemirror_mode": {
    "name": "ipython",
    "version": 3
   },
   "file_extension": ".py",
   "mimetype": "text/x-python",
   "name": "python",
   "nbconvert_exporter": "python",
   "pygments_lexer": "ipython3",
   "version": "3.9.13"
  }
 },
 "nbformat": 4,
 "nbformat_minor": 5
}
