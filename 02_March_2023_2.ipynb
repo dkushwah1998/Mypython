{
 "cells": [
  {
   "cell_type": "code",
   "execution_count": 1,
   "id": "a19212c0",
   "metadata": {},
   "outputs": [],
   "source": [
    "import pandas as pd"
   ]
  },
  {
   "cell_type": "code",
   "execution_count": 2,
   "id": "9a76c030",
   "metadata": {},
   "outputs": [
    {
     "data": {
      "text/plain": [
       "{'apple': [1, 2, 0, 5], 'orange': [2, 3, 5, 4], 'banana': [0, 4, 7, 12]}"
      ]
     },
     "execution_count": 2,
     "metadata": {},
     "output_type": "execute_result"
    }
   ],
   "source": [
    "data = {'apple':[1,2,0,5],'orange':[2,3,5,4],'banana':[0,4,7,12]}\n",
    "data"
   ]
  },
  {
   "cell_type": "code",
   "execution_count": 5,
   "id": "94bb89f5",
   "metadata": {},
   "outputs": [],
   "source": [
    "df = pd.DataFrame(data)"
   ]
  },
  {
   "cell_type": "code",
   "execution_count": 6,
   "id": "c65e7fa7",
   "metadata": {},
   "outputs": [
    {
     "data": {
      "text/html": [
       "<div>\n",
       "<style scoped>\n",
       "    .dataframe tbody tr th:only-of-type {\n",
       "        vertical-align: middle;\n",
       "    }\n",
       "\n",
       "    .dataframe tbody tr th {\n",
       "        vertical-align: top;\n",
       "    }\n",
       "\n",
       "    .dataframe thead th {\n",
       "        text-align: right;\n",
       "    }\n",
       "</style>\n",
       "<table border=\"1\" class=\"dataframe\">\n",
       "  <thead>\n",
       "    <tr style=\"text-align: right;\">\n",
       "      <th></th>\n",
       "      <th>apple</th>\n",
       "      <th>orange</th>\n",
       "      <th>banana</th>\n",
       "    </tr>\n",
       "  </thead>\n",
       "  <tbody>\n",
       "    <tr>\n",
       "      <th>0</th>\n",
       "      <td>1</td>\n",
       "      <td>2</td>\n",
       "      <td>0</td>\n",
       "    </tr>\n",
       "    <tr>\n",
       "      <th>1</th>\n",
       "      <td>2</td>\n",
       "      <td>3</td>\n",
       "      <td>4</td>\n",
       "    </tr>\n",
       "    <tr>\n",
       "      <th>2</th>\n",
       "      <td>0</td>\n",
       "      <td>5</td>\n",
       "      <td>7</td>\n",
       "    </tr>\n",
       "    <tr>\n",
       "      <th>3</th>\n",
       "      <td>5</td>\n",
       "      <td>4</td>\n",
       "      <td>12</td>\n",
       "    </tr>\n",
       "  </tbody>\n",
       "</table>\n",
       "</div>"
      ],
      "text/plain": [
       "   apple  orange  banana\n",
       "0      1       2       0\n",
       "1      2       3       4\n",
       "2      0       5       7\n",
       "3      5       4      12"
      ]
     },
     "execution_count": 6,
     "metadata": {},
     "output_type": "execute_result"
    }
   ],
   "source": [
    "df"
   ]
  },
  {
   "cell_type": "code",
   "execution_count": 8,
   "id": "5038e678",
   "metadata": {},
   "outputs": [],
   "source": [
    "df = pd.DataFrame(data, index = ['A','B','C','D'])"
   ]
  },
  {
   "cell_type": "code",
   "execution_count": 9,
   "id": "a06a73f5",
   "metadata": {},
   "outputs": [
    {
     "data": {
      "text/html": [
       "<div>\n",
       "<style scoped>\n",
       "    .dataframe tbody tr th:only-of-type {\n",
       "        vertical-align: middle;\n",
       "    }\n",
       "\n",
       "    .dataframe tbody tr th {\n",
       "        vertical-align: top;\n",
       "    }\n",
       "\n",
       "    .dataframe thead th {\n",
       "        text-align: right;\n",
       "    }\n",
       "</style>\n",
       "<table border=\"1\" class=\"dataframe\">\n",
       "  <thead>\n",
       "    <tr style=\"text-align: right;\">\n",
       "      <th></th>\n",
       "      <th>apple</th>\n",
       "      <th>orange</th>\n",
       "      <th>banana</th>\n",
       "    </tr>\n",
       "  </thead>\n",
       "  <tbody>\n",
       "    <tr>\n",
       "      <th>A</th>\n",
       "      <td>1</td>\n",
       "      <td>2</td>\n",
       "      <td>0</td>\n",
       "    </tr>\n",
       "    <tr>\n",
       "      <th>B</th>\n",
       "      <td>2</td>\n",
       "      <td>3</td>\n",
       "      <td>4</td>\n",
       "    </tr>\n",
       "    <tr>\n",
       "      <th>C</th>\n",
       "      <td>0</td>\n",
       "      <td>5</td>\n",
       "      <td>7</td>\n",
       "    </tr>\n",
       "    <tr>\n",
       "      <th>D</th>\n",
       "      <td>5</td>\n",
       "      <td>4</td>\n",
       "      <td>12</td>\n",
       "    </tr>\n",
       "  </tbody>\n",
       "</table>\n",
       "</div>"
      ],
      "text/plain": [
       "   apple  orange  banana\n",
       "A      1       2       0\n",
       "B      2       3       4\n",
       "C      0       5       7\n",
       "D      5       4      12"
      ]
     },
     "execution_count": 9,
     "metadata": {},
     "output_type": "execute_result"
    }
   ],
   "source": [
    "df"
   ]
  },
  {
   "cell_type": "code",
   "execution_count": 10,
   "id": "cbc47b26",
   "metadata": {},
   "outputs": [
    {
     "data": {
      "text/html": [
       "<div>\n",
       "<style scoped>\n",
       "    .dataframe tbody tr th:only-of-type {\n",
       "        vertical-align: middle;\n",
       "    }\n",
       "\n",
       "    .dataframe tbody tr th {\n",
       "        vertical-align: top;\n",
       "    }\n",
       "\n",
       "    .dataframe thead th {\n",
       "        text-align: right;\n",
       "    }\n",
       "</style>\n",
       "<table border=\"1\" class=\"dataframe\">\n",
       "  <thead>\n",
       "    <tr style=\"text-align: right;\">\n",
       "      <th></th>\n",
       "      <th>apple</th>\n",
       "      <th>orange</th>\n",
       "      <th>banana</th>\n",
       "    </tr>\n",
       "  </thead>\n",
       "  <tbody>\n",
       "    <tr>\n",
       "      <th>A</th>\n",
       "      <td>1</td>\n",
       "      <td>2</td>\n",
       "      <td>0</td>\n",
       "    </tr>\n",
       "    <tr>\n",
       "      <th>B</th>\n",
       "      <td>2</td>\n",
       "      <td>3</td>\n",
       "      <td>4</td>\n",
       "    </tr>\n",
       "  </tbody>\n",
       "</table>\n",
       "</div>"
      ],
      "text/plain": [
       "   apple  orange  banana\n",
       "A      1       2       0\n",
       "B      2       3       4"
      ]
     },
     "execution_count": 10,
     "metadata": {},
     "output_type": "execute_result"
    }
   ],
   "source": [
    "df.head(2)"
   ]
  },
  {
   "cell_type": "code",
   "execution_count": 11,
   "id": "120ce312",
   "metadata": {},
   "outputs": [
    {
     "data": {
      "text/html": [
       "<div>\n",
       "<style scoped>\n",
       "    .dataframe tbody tr th:only-of-type {\n",
       "        vertical-align: middle;\n",
       "    }\n",
       "\n",
       "    .dataframe tbody tr th {\n",
       "        vertical-align: top;\n",
       "    }\n",
       "\n",
       "    .dataframe thead th {\n",
       "        text-align: right;\n",
       "    }\n",
       "</style>\n",
       "<table border=\"1\" class=\"dataframe\">\n",
       "  <thead>\n",
       "    <tr style=\"text-align: right;\">\n",
       "      <th></th>\n",
       "      <th>apple</th>\n",
       "      <th>orange</th>\n",
       "      <th>banana</th>\n",
       "    </tr>\n",
       "  </thead>\n",
       "  <tbody>\n",
       "    <tr>\n",
       "      <th>C</th>\n",
       "      <td>0</td>\n",
       "      <td>5</td>\n",
       "      <td>7</td>\n",
       "    </tr>\n",
       "    <tr>\n",
       "      <th>D</th>\n",
       "      <td>5</td>\n",
       "      <td>4</td>\n",
       "      <td>12</td>\n",
       "    </tr>\n",
       "  </tbody>\n",
       "</table>\n",
       "</div>"
      ],
      "text/plain": [
       "   apple  orange  banana\n",
       "C      0       5       7\n",
       "D      5       4      12"
      ]
     },
     "execution_count": 11,
     "metadata": {},
     "output_type": "execute_result"
    }
   ],
   "source": [
    "df.tail(2)"
   ]
  },
  {
   "cell_type": "code",
   "execution_count": 12,
   "id": "9c13c616",
   "metadata": {},
   "outputs": [
    {
     "data": {
      "text/plain": [
       "apple      [1, 2, 0, 5]\n",
       "orange     [2, 3, 5, 4]\n",
       "banana    [0, 4, 7, 12]\n",
       "dtype: object"
      ]
     },
     "execution_count": 12,
     "metadata": {},
     "output_type": "execute_result"
    }
   ],
   "source": [
    "s = pd.Series(data)\n",
    "s"
   ]
  },
  {
   "cell_type": "code",
   "execution_count": 13,
   "id": "a25d1fbd",
   "metadata": {},
   "outputs": [
    {
     "data": {
      "text/plain": [
       "pandas.core.frame.DataFrame"
      ]
     },
     "execution_count": 13,
     "metadata": {},
     "output_type": "execute_result"
    }
   ],
   "source": [
    "type(df)"
   ]
  },
  {
   "cell_type": "code",
   "execution_count": 15,
   "id": "a2247a5e",
   "metadata": {},
   "outputs": [
    {
     "data": {
      "text/plain": [
       "pandas.core.series.Series"
      ]
     },
     "execution_count": 15,
     "metadata": {},
     "output_type": "execute_result"
    }
   ],
   "source": [
    "type(s)"
   ]
  },
  {
   "cell_type": "code",
   "execution_count": 16,
   "id": "c06b9765",
   "metadata": {},
   "outputs": [],
   "source": [
    "df = pd.read_csv(r'C:\\Users\\HP\\Desktop\\Data-LB\\New folder\\MER_T07_02A-2020-02-03.csv')"
   ]
  },
  {
   "cell_type": "code",
   "execution_count": 17,
   "id": "fd458302",
   "metadata": {},
   "outputs": [
    {
     "data": {
      "text/html": [
       "<div>\n",
       "<style scoped>\n",
       "    .dataframe tbody tr th:only-of-type {\n",
       "        vertical-align: middle;\n",
       "    }\n",
       "\n",
       "    .dataframe tbody tr th {\n",
       "        vertical-align: top;\n",
       "    }\n",
       "\n",
       "    .dataframe thead th {\n",
       "        text-align: right;\n",
       "    }\n",
       "</style>\n",
       "<table border=\"1\" class=\"dataframe\">\n",
       "  <thead>\n",
       "    <tr style=\"text-align: right;\">\n",
       "      <th></th>\n",
       "      <th>MSN</th>\n",
       "      <th>YYYYMM</th>\n",
       "      <th>Value</th>\n",
       "      <th>Column_Order</th>\n",
       "      <th>Description</th>\n",
       "      <th>Unit</th>\n",
       "    </tr>\n",
       "  </thead>\n",
       "  <tbody>\n",
       "    <tr>\n",
       "      <th>0</th>\n",
       "      <td>CLETPUS</td>\n",
       "      <td>194913</td>\n",
       "      <td>135451.32</td>\n",
       "      <td>1</td>\n",
       "      <td>Electricity Net Generation From Coal, All Sectors</td>\n",
       "      <td>Million Kilowatthours</td>\n",
       "    </tr>\n",
       "    <tr>\n",
       "      <th>1</th>\n",
       "      <td>CLETPUS</td>\n",
       "      <td>195013</td>\n",
       "      <td>154519.994</td>\n",
       "      <td>1</td>\n",
       "      <td>Electricity Net Generation From Coal, All Sectors</td>\n",
       "      <td>Million Kilowatthours</td>\n",
       "    </tr>\n",
       "    <tr>\n",
       "      <th>2</th>\n",
       "      <td>CLETPUS</td>\n",
       "      <td>195113</td>\n",
       "      <td>185203.657</td>\n",
       "      <td>1</td>\n",
       "      <td>Electricity Net Generation From Coal, All Sectors</td>\n",
       "      <td>Million Kilowatthours</td>\n",
       "    </tr>\n",
       "    <tr>\n",
       "      <th>3</th>\n",
       "      <td>CLETPUS</td>\n",
       "      <td>195213</td>\n",
       "      <td>195436.666</td>\n",
       "      <td>1</td>\n",
       "      <td>Electricity Net Generation From Coal, All Sectors</td>\n",
       "      <td>Million Kilowatthours</td>\n",
       "    </tr>\n",
       "    <tr>\n",
       "      <th>4</th>\n",
       "      <td>CLETPUS</td>\n",
       "      <td>195313</td>\n",
       "      <td>218846.325</td>\n",
       "      <td>1</td>\n",
       "      <td>Electricity Net Generation From Coal, All Sectors</td>\n",
       "      <td>Million Kilowatthours</td>\n",
       "    </tr>\n",
       "    <tr>\n",
       "      <th>...</th>\n",
       "      <td>...</td>\n",
       "      <td>...</td>\n",
       "      <td>...</td>\n",
       "      <td>...</td>\n",
       "      <td>...</td>\n",
       "      <td>...</td>\n",
       "    </tr>\n",
       "    <tr>\n",
       "      <th>8211</th>\n",
       "      <td>ELETPUS</td>\n",
       "      <td>201906</td>\n",
       "      <td>351342.905</td>\n",
       "      <td>13</td>\n",
       "      <td>Electricity Net Generation Total (including fr...</td>\n",
       "      <td>Million Kilowatthours</td>\n",
       "    </tr>\n",
       "    <tr>\n",
       "      <th>8212</th>\n",
       "      <td>ELETPUS</td>\n",
       "      <td>201907</td>\n",
       "      <td>411583.828</td>\n",
       "      <td>13</td>\n",
       "      <td>Electricity Net Generation Total (including fr...</td>\n",
       "      <td>Million Kilowatthours</td>\n",
       "    </tr>\n",
       "    <tr>\n",
       "      <th>8213</th>\n",
       "      <td>ELETPUS</td>\n",
       "      <td>201908</td>\n",
       "      <td>401363.186</td>\n",
       "      <td>13</td>\n",
       "      <td>Electricity Net Generation Total (including fr...</td>\n",
       "      <td>Million Kilowatthours</td>\n",
       "    </tr>\n",
       "    <tr>\n",
       "      <th>8214</th>\n",
       "      <td>ELETPUS</td>\n",
       "      <td>201909</td>\n",
       "      <td>359300.603</td>\n",
       "      <td>13</td>\n",
       "      <td>Electricity Net Generation Total (including fr...</td>\n",
       "      <td>Million Kilowatthours</td>\n",
       "    </tr>\n",
       "    <tr>\n",
       "      <th>8215</th>\n",
       "      <td>ELETPUS</td>\n",
       "      <td>201910</td>\n",
       "      <td>321921.812</td>\n",
       "      <td>13</td>\n",
       "      <td>Electricity Net Generation Total (including fr...</td>\n",
       "      <td>Million Kilowatthours</td>\n",
       "    </tr>\n",
       "  </tbody>\n",
       "</table>\n",
       "<p>8216 rows × 6 columns</p>\n",
       "</div>"
      ],
      "text/plain": [
       "          MSN  YYYYMM       Value  Column_Order  \\\n",
       "0     CLETPUS  194913   135451.32             1   \n",
       "1     CLETPUS  195013  154519.994             1   \n",
       "2     CLETPUS  195113  185203.657             1   \n",
       "3     CLETPUS  195213  195436.666             1   \n",
       "4     CLETPUS  195313  218846.325             1   \n",
       "...       ...     ...         ...           ...   \n",
       "8211  ELETPUS  201906  351342.905            13   \n",
       "8212  ELETPUS  201907  411583.828            13   \n",
       "8213  ELETPUS  201908  401363.186            13   \n",
       "8214  ELETPUS  201909  359300.603            13   \n",
       "8215  ELETPUS  201910  321921.812            13   \n",
       "\n",
       "                                            Description                   Unit  \n",
       "0     Electricity Net Generation From Coal, All Sectors  Million Kilowatthours  \n",
       "1     Electricity Net Generation From Coal, All Sectors  Million Kilowatthours  \n",
       "2     Electricity Net Generation From Coal, All Sectors  Million Kilowatthours  \n",
       "3     Electricity Net Generation From Coal, All Sectors  Million Kilowatthours  \n",
       "4     Electricity Net Generation From Coal, All Sectors  Million Kilowatthours  \n",
       "...                                                 ...                    ...  \n",
       "8211  Electricity Net Generation Total (including fr...  Million Kilowatthours  \n",
       "8212  Electricity Net Generation Total (including fr...  Million Kilowatthours  \n",
       "8213  Electricity Net Generation Total (including fr...  Million Kilowatthours  \n",
       "8214  Electricity Net Generation Total (including fr...  Million Kilowatthours  \n",
       "8215  Electricity Net Generation Total (including fr...  Million Kilowatthours  \n",
       "\n",
       "[8216 rows x 6 columns]"
      ]
     },
     "execution_count": 17,
     "metadata": {},
     "output_type": "execute_result"
    }
   ],
   "source": [
    "df"
   ]
  },
  {
   "cell_type": "code",
   "execution_count": 18,
   "id": "9ba80a4e",
   "metadata": {},
   "outputs": [
    {
     "data": {
      "text/html": [
       "<div>\n",
       "<style scoped>\n",
       "    .dataframe tbody tr th:only-of-type {\n",
       "        vertical-align: middle;\n",
       "    }\n",
       "\n",
       "    .dataframe tbody tr th {\n",
       "        vertical-align: top;\n",
       "    }\n",
       "\n",
       "    .dataframe thead th {\n",
       "        text-align: right;\n",
       "    }\n",
       "</style>\n",
       "<table border=\"1\" class=\"dataframe\">\n",
       "  <thead>\n",
       "    <tr style=\"text-align: right;\">\n",
       "      <th></th>\n",
       "      <th>MSN</th>\n",
       "      <th>YYYYMM</th>\n",
       "      <th>Value</th>\n",
       "      <th>Column_Order</th>\n",
       "      <th>Description</th>\n",
       "      <th>Unit</th>\n",
       "    </tr>\n",
       "  </thead>\n",
       "  <tbody>\n",
       "    <tr>\n",
       "      <th>0</th>\n",
       "      <td>CLETPUS</td>\n",
       "      <td>194913</td>\n",
       "      <td>135451.32</td>\n",
       "      <td>1</td>\n",
       "      <td>Electricity Net Generation From Coal, All Sectors</td>\n",
       "      <td>Million Kilowatthours</td>\n",
       "    </tr>\n",
       "    <tr>\n",
       "      <th>1</th>\n",
       "      <td>CLETPUS</td>\n",
       "      <td>195013</td>\n",
       "      <td>154519.994</td>\n",
       "      <td>1</td>\n",
       "      <td>Electricity Net Generation From Coal, All Sectors</td>\n",
       "      <td>Million Kilowatthours</td>\n",
       "    </tr>\n",
       "    <tr>\n",
       "      <th>2</th>\n",
       "      <td>CLETPUS</td>\n",
       "      <td>195113</td>\n",
       "      <td>185203.657</td>\n",
       "      <td>1</td>\n",
       "      <td>Electricity Net Generation From Coal, All Sectors</td>\n",
       "      <td>Million Kilowatthours</td>\n",
       "    </tr>\n",
       "    <tr>\n",
       "      <th>3</th>\n",
       "      <td>CLETPUS</td>\n",
       "      <td>195213</td>\n",
       "      <td>195436.666</td>\n",
       "      <td>1</td>\n",
       "      <td>Electricity Net Generation From Coal, All Sectors</td>\n",
       "      <td>Million Kilowatthours</td>\n",
       "    </tr>\n",
       "    <tr>\n",
       "      <th>4</th>\n",
       "      <td>CLETPUS</td>\n",
       "      <td>195313</td>\n",
       "      <td>218846.325</td>\n",
       "      <td>1</td>\n",
       "      <td>Electricity Net Generation From Coal, All Sectors</td>\n",
       "      <td>Million Kilowatthours</td>\n",
       "    </tr>\n",
       "  </tbody>\n",
       "</table>\n",
       "</div>"
      ],
      "text/plain": [
       "       MSN  YYYYMM       Value  Column_Order  \\\n",
       "0  CLETPUS  194913   135451.32             1   \n",
       "1  CLETPUS  195013  154519.994             1   \n",
       "2  CLETPUS  195113  185203.657             1   \n",
       "3  CLETPUS  195213  195436.666             1   \n",
       "4  CLETPUS  195313  218846.325             1   \n",
       "\n",
       "                                         Description                   Unit  \n",
       "0  Electricity Net Generation From Coal, All Sectors  Million Kilowatthours  \n",
       "1  Electricity Net Generation From Coal, All Sectors  Million Kilowatthours  \n",
       "2  Electricity Net Generation From Coal, All Sectors  Million Kilowatthours  \n",
       "3  Electricity Net Generation From Coal, All Sectors  Million Kilowatthours  \n",
       "4  Electricity Net Generation From Coal, All Sectors  Million Kilowatthours  "
      ]
     },
     "execution_count": 18,
     "metadata": {},
     "output_type": "execute_result"
    }
   ],
   "source": [
    "df.head()"
   ]
  },
  {
   "cell_type": "code",
   "execution_count": 19,
   "id": "a335d569",
   "metadata": {},
   "outputs": [
    {
     "data": {
      "text/html": [
       "<div>\n",
       "<style scoped>\n",
       "    .dataframe tbody tr th:only-of-type {\n",
       "        vertical-align: middle;\n",
       "    }\n",
       "\n",
       "    .dataframe tbody tr th {\n",
       "        vertical-align: top;\n",
       "    }\n",
       "\n",
       "    .dataframe thead th {\n",
       "        text-align: right;\n",
       "    }\n",
       "</style>\n",
       "<table border=\"1\" class=\"dataframe\">\n",
       "  <thead>\n",
       "    <tr style=\"text-align: right;\">\n",
       "      <th></th>\n",
       "      <th>MSN</th>\n",
       "      <th>YYYYMM</th>\n",
       "      <th>Value</th>\n",
       "      <th>Column_Order</th>\n",
       "      <th>Description</th>\n",
       "      <th>Unit</th>\n",
       "    </tr>\n",
       "  </thead>\n",
       "  <tbody>\n",
       "    <tr>\n",
       "      <th>8211</th>\n",
       "      <td>ELETPUS</td>\n",
       "      <td>201906</td>\n",
       "      <td>351342.905</td>\n",
       "      <td>13</td>\n",
       "      <td>Electricity Net Generation Total (including fr...</td>\n",
       "      <td>Million Kilowatthours</td>\n",
       "    </tr>\n",
       "    <tr>\n",
       "      <th>8212</th>\n",
       "      <td>ELETPUS</td>\n",
       "      <td>201907</td>\n",
       "      <td>411583.828</td>\n",
       "      <td>13</td>\n",
       "      <td>Electricity Net Generation Total (including fr...</td>\n",
       "      <td>Million Kilowatthours</td>\n",
       "    </tr>\n",
       "    <tr>\n",
       "      <th>8213</th>\n",
       "      <td>ELETPUS</td>\n",
       "      <td>201908</td>\n",
       "      <td>401363.186</td>\n",
       "      <td>13</td>\n",
       "      <td>Electricity Net Generation Total (including fr...</td>\n",
       "      <td>Million Kilowatthours</td>\n",
       "    </tr>\n",
       "    <tr>\n",
       "      <th>8214</th>\n",
       "      <td>ELETPUS</td>\n",
       "      <td>201909</td>\n",
       "      <td>359300.603</td>\n",
       "      <td>13</td>\n",
       "      <td>Electricity Net Generation Total (including fr...</td>\n",
       "      <td>Million Kilowatthours</td>\n",
       "    </tr>\n",
       "    <tr>\n",
       "      <th>8215</th>\n",
       "      <td>ELETPUS</td>\n",
       "      <td>201910</td>\n",
       "      <td>321921.812</td>\n",
       "      <td>13</td>\n",
       "      <td>Electricity Net Generation Total (including fr...</td>\n",
       "      <td>Million Kilowatthours</td>\n",
       "    </tr>\n",
       "  </tbody>\n",
       "</table>\n",
       "</div>"
      ],
      "text/plain": [
       "          MSN  YYYYMM       Value  Column_Order  \\\n",
       "8211  ELETPUS  201906  351342.905            13   \n",
       "8212  ELETPUS  201907  411583.828            13   \n",
       "8213  ELETPUS  201908  401363.186            13   \n",
       "8214  ELETPUS  201909  359300.603            13   \n",
       "8215  ELETPUS  201910  321921.812            13   \n",
       "\n",
       "                                            Description                   Unit  \n",
       "8211  Electricity Net Generation Total (including fr...  Million Kilowatthours  \n",
       "8212  Electricity Net Generation Total (including fr...  Million Kilowatthours  \n",
       "8213  Electricity Net Generation Total (including fr...  Million Kilowatthours  \n",
       "8214  Electricity Net Generation Total (including fr...  Million Kilowatthours  \n",
       "8215  Electricity Net Generation Total (including fr...  Million Kilowatthours  "
      ]
     },
     "execution_count": 19,
     "metadata": {},
     "output_type": "execute_result"
    }
   ],
   "source": [
    "df.tail()"
   ]
  },
  {
   "cell_type": "code",
   "execution_count": 20,
   "id": "e6052ce2",
   "metadata": {},
   "outputs": [
    {
     "name": "stdout",
     "output_type": "stream",
     "text": [
      "<class 'pandas.core.frame.DataFrame'>\n",
      "RangeIndex: 8216 entries, 0 to 8215\n",
      "Data columns (total 6 columns):\n",
      " #   Column        Non-Null Count  Dtype \n",
      "---  ------        --------------  ----- \n",
      " 0   MSN           8216 non-null   object\n",
      " 1   YYYYMM        8216 non-null   int64 \n",
      " 2   Value         8216 non-null   object\n",
      " 3   Column_Order  8216 non-null   int64 \n",
      " 4   Description   8216 non-null   object\n",
      " 5   Unit          8216 non-null   object\n",
      "dtypes: int64(2), object(4)\n",
      "memory usage: 385.2+ KB\n"
     ]
    }
   ],
   "source": [
    "df.info()"
   ]
  },
  {
   "cell_type": "code",
   "execution_count": 21,
   "id": "9821b156",
   "metadata": {},
   "outputs": [
    {
     "data": {
      "text/plain": [
       "(8216, 6)"
      ]
     },
     "execution_count": 21,
     "metadata": {},
     "output_type": "execute_result"
    }
   ],
   "source": [
    "df.shape"
   ]
  },
  {
   "cell_type": "code",
   "execution_count": 24,
   "id": "620dbd59",
   "metadata": {},
   "outputs": [],
   "source": [
    "df.drop_duplicates(inplace = True)"
   ]
  },
  {
   "cell_type": "code",
   "execution_count": 25,
   "id": "ef1c151d",
   "metadata": {},
   "outputs": [
    {
     "data": {
      "text/plain": [
       "(8216, 6)"
      ]
     },
     "execution_count": 25,
     "metadata": {},
     "output_type": "execute_result"
    }
   ],
   "source": [
    "df.shape"
   ]
  },
  {
   "cell_type": "code",
   "execution_count": 31,
   "id": "017c689e",
   "metadata": {},
   "outputs": [
    {
     "data": {
      "text/html": [
       "<div>\n",
       "<style scoped>\n",
       "    .dataframe tbody tr th:only-of-type {\n",
       "        vertical-align: middle;\n",
       "    }\n",
       "\n",
       "    .dataframe tbody tr th {\n",
       "        vertical-align: top;\n",
       "    }\n",
       "\n",
       "    .dataframe thead th {\n",
       "        text-align: right;\n",
       "    }\n",
       "</style>\n",
       "<table border=\"1\" class=\"dataframe\">\n",
       "  <thead>\n",
       "    <tr style=\"text-align: right;\">\n",
       "      <th></th>\n",
       "      <th>MSN</th>\n",
       "      <th>YYYYMM</th>\n",
       "      <th>Value</th>\n",
       "      <th>Column_Order</th>\n",
       "      <th>Description</th>\n",
       "      <th>Unit</th>\n",
       "    </tr>\n",
       "  </thead>\n",
       "  <tbody>\n",
       "    <tr>\n",
       "      <th>0</th>\n",
       "      <td>CLETPUS</td>\n",
       "      <td>194913</td>\n",
       "      <td>135451.32</td>\n",
       "      <td>1</td>\n",
       "      <td>Electricity Net Generation From Coal, All Sectors</td>\n",
       "      <td>Million Kilowatthours</td>\n",
       "    </tr>\n",
       "    <tr>\n",
       "      <th>1</th>\n",
       "      <td>CLETPUS</td>\n",
       "      <td>195013</td>\n",
       "      <td>154519.994</td>\n",
       "      <td>1</td>\n",
       "      <td>Electricity Net Generation From Coal, All Sectors</td>\n",
       "      <td>Million Kilowatthours</td>\n",
       "    </tr>\n",
       "    <tr>\n",
       "      <th>2</th>\n",
       "      <td>CLETPUS</td>\n",
       "      <td>195113</td>\n",
       "      <td>185203.657</td>\n",
       "      <td>1</td>\n",
       "      <td>Electricity Net Generation From Coal, All Sectors</td>\n",
       "      <td>Million Kilowatthours</td>\n",
       "    </tr>\n",
       "    <tr>\n",
       "      <th>3</th>\n",
       "      <td>CLETPUS</td>\n",
       "      <td>195213</td>\n",
       "      <td>195436.666</td>\n",
       "      <td>1</td>\n",
       "      <td>Electricity Net Generation From Coal, All Sectors</td>\n",
       "      <td>Million Kilowatthours</td>\n",
       "    </tr>\n",
       "    <tr>\n",
       "      <th>4</th>\n",
       "      <td>CLETPUS</td>\n",
       "      <td>195313</td>\n",
       "      <td>218846.325</td>\n",
       "      <td>1</td>\n",
       "      <td>Electricity Net Generation From Coal, All Sectors</td>\n",
       "      <td>Million Kilowatthours</td>\n",
       "    </tr>\n",
       "    <tr>\n",
       "      <th>...</th>\n",
       "      <td>...</td>\n",
       "      <td>...</td>\n",
       "      <td>...</td>\n",
       "      <td>...</td>\n",
       "      <td>...</td>\n",
       "      <td>...</td>\n",
       "    </tr>\n",
       "    <tr>\n",
       "      <th>8211</th>\n",
       "      <td>ELETPUS</td>\n",
       "      <td>201906</td>\n",
       "      <td>351342.905</td>\n",
       "      <td>13</td>\n",
       "      <td>Electricity Net Generation Total (including fr...</td>\n",
       "      <td>Million Kilowatthours</td>\n",
       "    </tr>\n",
       "    <tr>\n",
       "      <th>8212</th>\n",
       "      <td>ELETPUS</td>\n",
       "      <td>201907</td>\n",
       "      <td>411583.828</td>\n",
       "      <td>13</td>\n",
       "      <td>Electricity Net Generation Total (including fr...</td>\n",
       "      <td>Million Kilowatthours</td>\n",
       "    </tr>\n",
       "    <tr>\n",
       "      <th>8213</th>\n",
       "      <td>ELETPUS</td>\n",
       "      <td>201908</td>\n",
       "      <td>401363.186</td>\n",
       "      <td>13</td>\n",
       "      <td>Electricity Net Generation Total (including fr...</td>\n",
       "      <td>Million Kilowatthours</td>\n",
       "    </tr>\n",
       "    <tr>\n",
       "      <th>8214</th>\n",
       "      <td>ELETPUS</td>\n",
       "      <td>201909</td>\n",
       "      <td>359300.603</td>\n",
       "      <td>13</td>\n",
       "      <td>Electricity Net Generation Total (including fr...</td>\n",
       "      <td>Million Kilowatthours</td>\n",
       "    </tr>\n",
       "    <tr>\n",
       "      <th>8215</th>\n",
       "      <td>ELETPUS</td>\n",
       "      <td>201910</td>\n",
       "      <td>321921.812</td>\n",
       "      <td>13</td>\n",
       "      <td>Electricity Net Generation Total (including fr...</td>\n",
       "      <td>Million Kilowatthours</td>\n",
       "    </tr>\n",
       "  </tbody>\n",
       "</table>\n",
       "<p>7248 rows × 6 columns</p>\n",
       "</div>"
      ],
      "text/plain": [
       "          MSN  YYYYMM       Value  Column_Order  \\\n",
       "0     CLETPUS  194913   135451.32             1   \n",
       "1     CLETPUS  195013  154519.994             1   \n",
       "2     CLETPUS  195113  185203.657             1   \n",
       "3     CLETPUS  195213  195436.666             1   \n",
       "4     CLETPUS  195313  218846.325             1   \n",
       "...       ...     ...         ...           ...   \n",
       "8211  ELETPUS  201906  351342.905            13   \n",
       "8212  ELETPUS  201907  411583.828            13   \n",
       "8213  ELETPUS  201908  401363.186            13   \n",
       "8214  ELETPUS  201909  359300.603            13   \n",
       "8215  ELETPUS  201910  321921.812            13   \n",
       "\n",
       "                                            Description                   Unit  \n",
       "0     Electricity Net Generation From Coal, All Sectors  Million Kilowatthours  \n",
       "1     Electricity Net Generation From Coal, All Sectors  Million Kilowatthours  \n",
       "2     Electricity Net Generation From Coal, All Sectors  Million Kilowatthours  \n",
       "3     Electricity Net Generation From Coal, All Sectors  Million Kilowatthours  \n",
       "4     Electricity Net Generation From Coal, All Sectors  Million Kilowatthours  \n",
       "...                                                 ...                    ...  \n",
       "8211  Electricity Net Generation Total (including fr...  Million Kilowatthours  \n",
       "8212  Electricity Net Generation Total (including fr...  Million Kilowatthours  \n",
       "8213  Electricity Net Generation Total (including fr...  Million Kilowatthours  \n",
       "8214  Electricity Net Generation Total (including fr...  Million Kilowatthours  \n",
       "8215  Electricity Net Generation Total (including fr...  Million Kilowatthours  \n",
       "\n",
       "[7248 rows x 6 columns]"
      ]
     },
     "execution_count": 31,
     "metadata": {},
     "output_type": "execute_result"
    }
   ],
   "source": [
    "df.drop_duplicates(subset ='Value' )"
   ]
  },
  {
   "cell_type": "code",
   "execution_count": 30,
   "id": "015c004c",
   "metadata": {},
   "outputs": [
    {
     "data": {
      "text/plain": [
       "Series([], Name: Value, dtype: object)"
      ]
     },
     "execution_count": 30,
     "metadata": {},
     "output_type": "execute_result"
    }
   ],
   "source": [
    "df[df.duplicated()]['Value']"
   ]
  },
  {
   "cell_type": "code",
   "execution_count": null,
   "id": "fd9f41a9",
   "metadata": {},
   "outputs": [],
   "source": []
  }
 ],
 "metadata": {
  "kernelspec": {
   "display_name": "Python 3 (ipykernel)",
   "language": "python",
   "name": "python3"
  },
  "language_info": {
   "codemirror_mode": {
    "name": "ipython",
    "version": 3
   },
   "file_extension": ".py",
   "mimetype": "text/x-python",
   "name": "python",
   "nbconvert_exporter": "python",
   "pygments_lexer": "ipython3",
   "version": "3.9.12"
  }
 },
 "nbformat": 4,
 "nbformat_minor": 5
}
