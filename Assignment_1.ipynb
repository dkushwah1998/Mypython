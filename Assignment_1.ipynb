{
 "cells": [
  {
   "cell_type": "markdown",
   "id": "64301676",
   "metadata": {},
   "source": [
    "# NumPy Practice Project\n",
    "Using NumPy, explore and analyze the data present in the publicly available file\n",
    "from the U.S. Energy Information Administration which contains information on electricity\n",
    "generation in the USA from a range of sources. The data file is a CSV file, so use the csv\n",
    "module to import the data into a list which should be converted to an appropriate numpy\n",
    "array(as shown below)\n",
    "Link to the dataset:\n",
    "https://drive.google.com/file/d/1Cz0Yvx4yES8ydhLaBSnclIPxW2yKHwWH/view?usp=sharing"
   ]
  },
  {
   "cell_type": "code",
   "execution_count": 19,
   "id": "47247ea0",
   "metadata": {},
   "outputs": [],
   "source": [
    "import numpy as np\n",
    "import csv\n",
    "data = []\n",
    "with open(r\"C:\\Users\\HP\\Desktop\\Data-LB\\New folder\\MER_T07_02A-2020-02-03.csv\") as csvfile:\n",
    "    file_reader = csv.reader(csvfile,delimiter = ',')\n",
    "    for row in file_reader:\n",
    "        data.append(row)\n",
    "data = np.array(data)       "
   ]
  },
  {
   "cell_type": "code",
   "execution_count": 20,
   "id": "73fb6d88",
   "metadata": {},
   "outputs": [
    {
     "data": {
      "text/plain": [
       "array([['MSN', 'YYYYMM', 'Value', 'Column_Order', 'Description', 'Unit'],\n",
       "       ['CLETPUS', '194913', '135451.32', '1',\n",
       "        'Electricity Net Generation From Coal, All Sectors',\n",
       "        'Million Kilowatthours'],\n",
       "       ['CLETPUS', '195013', '154519.994', '1',\n",
       "        'Electricity Net Generation From Coal, All Sectors',\n",
       "        'Million Kilowatthours'],\n",
       "       ...,\n",
       "       ['ELETPUS', '201908', '401363.186', '13',\n",
       "        'Electricity Net Generation Total (including from sources not shown), All Sectors',\n",
       "        'Million Kilowatthours'],\n",
       "       ['ELETPUS', '201909', '359300.603', '13',\n",
       "        'Electricity Net Generation Total (including from sources not shown), All Sectors',\n",
       "        'Million Kilowatthours'],\n",
       "       ['ELETPUS', '201910', '321921.812', '13',\n",
       "        'Electricity Net Generation Total (including from sources not shown), All Sectors',\n",
       "        'Million Kilowatthours']], dtype='<U80')"
      ]
     },
     "execution_count": 20,
     "metadata": {},
     "output_type": "execute_result"
    }
   ],
   "source": [
    "data"
   ]
  },
  {
   "cell_type": "markdown",
   "id": "4bf8d813",
   "metadata": {},
   "source": [
    "# 1. Explore the important attributes like dimension,shape, data type etc, of the array formed above."
   ]
  },
  {
   "cell_type": "code",
   "execution_count": 21,
   "id": "d1e2bb13",
   "metadata": {},
   "outputs": [
    {
     "data": {
      "text/plain": [
       "2"
      ]
     },
     "execution_count": 21,
     "metadata": {},
     "output_type": "execute_result"
    }
   ],
   "source": [
    "##dimmension\n",
    "np.ndim(data)\n"
   ]
  },
  {
   "cell_type": "code",
   "execution_count": 22,
   "id": "739c9a8b",
   "metadata": {},
   "outputs": [
    {
     "data": {
      "text/plain": [
       "(8217, 6)"
      ]
     },
     "execution_count": 22,
     "metadata": {},
     "output_type": "execute_result"
    }
   ],
   "source": [
    "#shape\n",
    "data.shape"
   ]
  },
  {
   "cell_type": "code",
   "execution_count": 23,
   "id": "4a2441c0",
   "metadata": {},
   "outputs": [
    {
     "data": {
      "text/plain": [
       "dtype('<U80')"
      ]
     },
     "execution_count": 23,
     "metadata": {},
     "output_type": "execute_result"
    }
   ],
   "source": [
    "data.dtype"
   ]
  },
  {
   "cell_type": "markdown",
   "id": "b39aa6fe",
   "metadata": {},
   "source": [
    "# 2. Print the data contained in the first 10 rows of the 4th column."
   ]
  },
  {
   "cell_type": "code",
   "execution_count": 24,
   "id": "288c39e7",
   "metadata": {},
   "outputs": [
    {
     "data": {
      "text/plain": [
       "array([['Column_Order'],\n",
       "       ['1'],\n",
       "       ['1'],\n",
       "       ['1'],\n",
       "       ['1'],\n",
       "       ['1'],\n",
       "       ['1'],\n",
       "       ['1'],\n",
       "       ['1'],\n",
       "       ['1']], dtype='<U80')"
      ]
     },
     "execution_count": 24,
     "metadata": {},
     "output_type": "execute_result"
    }
   ],
   "source": [
    "data[0:10,3:4]"
   ]
  },
  {
   "cell_type": "markdown",
   "id": "6a7e3e4e",
   "metadata": {},
   "source": [
    "# 3. Which row serves as the headers/titles for all the columns."
   ]
  },
  {
   "cell_type": "markdown",
   "id": "367bbd07",
   "metadata": {},
   "source": [
    "First row srves as header"
   ]
  },
  {
   "cell_type": "code",
   "execution_count": 25,
   "id": "0be5b90f",
   "metadata": {},
   "outputs": [
    {
     "data": {
      "text/plain": [
       "array([['MSN', 'YYYYMM', 'Value', 'Column_Order', 'Description', 'Unit']],\n",
       "      dtype='<U80')"
      ]
     },
     "execution_count": 25,
     "metadata": {},
     "output_type": "execute_result"
    }
   ],
   "source": [
    "data[0:1]"
   ]
  },
  {
   "cell_type": "markdown",
   "id": "8e14afe0",
   "metadata": {},
   "source": [
    "# 4. Print the data contained in column 2 and 3 from row 1 till row 20"
   ]
  },
  {
   "cell_type": "code",
   "execution_count": 26,
   "id": "d1ea833d",
   "metadata": {},
   "outputs": [
    {
     "data": {
      "text/plain": [
       "array([['YYYYMM', 'Value'],\n",
       "       ['194913', '135451.32'],\n",
       "       ['195013', '154519.994'],\n",
       "       ['195113', '185203.657'],\n",
       "       ['195213', '195436.666'],\n",
       "       ['195313', '218846.325'],\n",
       "       ['195413', '239145.966'],\n",
       "       ['195513', '301362.698'],\n",
       "       ['195613', '338503.484'],\n",
       "       ['195713', '346386.207'],\n",
       "       ['195813', '344365.781'],\n",
       "       ['195913', '378424.21'],\n",
       "       ['196013', '403067.357'],\n",
       "       ['196113', '421870.669'],\n",
       "       ['196213', '450249.238'],\n",
       "       ['196313', '493926.719'],\n",
       "       ['196413', '526230.019'],\n",
       "       ['196513', '570925.951'],\n",
       "       ['196613', '613474.8'],\n",
       "       ['196713', '630483.363']], dtype='<U80')"
      ]
     },
     "execution_count": 26,
     "metadata": {},
     "output_type": "execute_result"
    }
   ],
   "source": [
    "data[0:20,1:3]"
   ]
  },
  {
   "cell_type": "markdown",
   "id": "d02f6c2f",
   "metadata": {},
   "source": [
    "# 5. Print the data present in only the first three and the last three rows of all the columns in a single output.\n"
   ]
  },
  {
   "cell_type": "code",
   "execution_count": 27,
   "id": "18df015c",
   "metadata": {},
   "outputs": [
    {
     "data": {
      "text/plain": [
       "array([['MSN', 'YYYYMM', 'Value', 'Column_Order', 'Description', 'Unit'],\n",
       "       ['CLETPUS', '194913', '135451.32', '1',\n",
       "        'Electricity Net Generation From Coal, All Sectors',\n",
       "        'Million Kilowatthours'],\n",
       "       ['CLETPUS', '195013', '154519.994', '1',\n",
       "        'Electricity Net Generation From Coal, All Sectors',\n",
       "        'Million Kilowatthours'],\n",
       "       ['ELETPUS', '201908', '401363.186', '13',\n",
       "        'Electricity Net Generation Total (including from sources not shown), All Sectors',\n",
       "        'Million Kilowatthours'],\n",
       "       ['ELETPUS', '201909', '359300.603', '13',\n",
       "        'Electricity Net Generation Total (including from sources not shown), All Sectors',\n",
       "        'Million Kilowatthours'],\n",
       "       ['ELETPUS', '201910', '321921.812', '13',\n",
       "        'Electricity Net Generation Total (including from sources not shown), All Sectors',\n",
       "        'Million Kilowatthours']], dtype='<U80')"
      ]
     },
     "execution_count": 27,
     "metadata": {},
     "output_type": "execute_result"
    }
   ],
   "source": [
    "data_1 = data[0:3]\n",
    "data_2 = data[-3:]\n",
    "np.vstack((data_1,data_2))"
   ]
  },
  {
   "cell_type": "markdown",
   "id": "30206719",
   "metadata": {},
   "source": [
    "# 6. Sort the data on the basis of net amount of electricity generated irrespective of the source.\n"
   ]
  },
  {
   "cell_type": "code",
   "execution_count": 28,
   "id": "2c31774f",
   "metadata": {},
   "outputs": [
    {
     "data": {
      "text/plain": [
       "(8216, 1)"
      ]
     },
     "execution_count": 28,
     "metadata": {},
     "output_type": "execute_result"
    }
   ],
   "source": [
    "val = data[1:,2:3]\n",
    "val.shape"
   ]
  },
  {
   "cell_type": "code",
   "execution_count": 29,
   "id": "e962e994",
   "metadata": {},
   "outputs": [],
   "source": [
    "cond = val[:]!= 'Not Available'\n",
    "val = val[cond].astype(float)"
   ]
  },
  {
   "cell_type": "code",
   "execution_count": 30,
   "id": "000375b8",
   "metadata": {},
   "outputs": [
    {
     "data": {
      "text/plain": [
       "(7386,)"
      ]
     },
     "execution_count": 30,
     "metadata": {},
     "output_type": "execute_result"
    }
   ],
   "source": [
    "val.shape"
   ]
  },
  {
   "cell_type": "code",
   "execution_count": 31,
   "id": "60f7334e",
   "metadata": {},
   "outputs": [
    {
     "data": {
      "text/plain": [
       "array([  -8823.445,   -8742.928,   -8535.065, ..., 4125059.9  ,\n",
       "       4156744.724, 4174397.655])"
      ]
     },
     "execution_count": 31,
     "metadata": {},
     "output_type": "execute_result"
    }
   ],
   "source": [
    "np.sort(val)"
   ]
  },
  {
   "cell_type": "code",
   "execution_count": 32,
   "id": "1d7fe245",
   "metadata": {},
   "outputs": [
    {
     "data": {
      "text/plain": [
       "642969289.517"
      ]
     },
     "execution_count": 32,
     "metadata": {},
     "output_type": "execute_result"
    }
   ],
   "source": [
    "#net amount of electricity\n",
    "np.sum(val)"
   ]
  },
  {
   "cell_type": "markdown",
   "id": "8d05e6e8",
   "metadata": {},
   "source": [
    "# 7. Find the total amount of electricity generated using coal and nuclear between1949-1990. ( In this dataset, rows containing monthly data express date in the format 'YYYYMM'. Rows containing annual data express the date in the format 'YYYY13'.)\n"
   ]
  },
  {
   "cell_type": "code",
   "execution_count": 33,
   "id": "78bd1676",
   "metadata": {},
   "outputs": [
    {
     "data": {
      "text/plain": [
       "array([['MSN', 'YYYYMM', 'Value', 'Column_Order', 'Description', 'Unit'],\n",
       "       ['CLETPUS', '194913', '135451.32', '1',\n",
       "        'Electricity Net Generation From Coal, All Sectors',\n",
       "        'Million Kilowatthours']], dtype='<U80')"
      ]
     },
     "execution_count": 33,
     "metadata": {},
     "output_type": "execute_result"
    }
   ],
   "source": [
    "data[0:2]"
   ]
  },
  {
   "cell_type": "code",
   "execution_count": 45,
   "id": "3f5cfdb0",
   "metadata": {},
   "outputs": [],
   "source": [
    "c = data[1:]"
   ]
  },
  {
   "cell_type": "code",
   "execution_count": 46,
   "id": "827a6f6c",
   "metadata": {},
   "outputs": [],
   "source": [
    "c1 = data[1:,1].astype(int)"
   ]
  },
  {
   "cell_type": "code",
   "execution_count": 47,
   "id": "df42f728",
   "metadata": {},
   "outputs": [
    {
     "data": {
      "text/plain": [
       "array([194913, 195013, 195113, ..., 201908, 201909, 201910])"
      ]
     },
     "execution_count": 47,
     "metadata": {},
     "output_type": "execute_result"
    }
   ],
   "source": [
    "c1"
   ]
  },
  {
   "cell_type": "code",
   "execution_count": 48,
   "id": "411cf1d1",
   "metadata": {},
   "outputs": [],
   "source": [
    "cond_1 = np.mod(c1,100)==13"
   ]
  },
  {
   "cell_type": "code",
   "execution_count": 49,
   "id": "f0ab3741",
   "metadata": {},
   "outputs": [],
   "source": [
    "energy = c[cond_1]"
   ]
  },
  {
   "cell_type": "code",
   "execution_count": 50,
   "id": "d2a30c40",
   "metadata": {},
   "outputs": [
    {
     "data": {
      "text/plain": [
       "array([['CLETPUS', '194913', '135451.32', '1',\n",
       "        'Electricity Net Generation From Coal, All Sectors',\n",
       "        'Million Kilowatthours'],\n",
       "       ['CLETPUS', '195013', '154519.994', '1',\n",
       "        'Electricity Net Generation From Coal, All Sectors',\n",
       "        'Million Kilowatthours'],\n",
       "       ['CLETPUS', '195113', '185203.657', '1',\n",
       "        'Electricity Net Generation From Coal, All Sectors',\n",
       "        'Million Kilowatthours'],\n",
       "       ...,\n",
       "       ['ELETPUS', '201613', '4076674.984', '13',\n",
       "        'Electricity Net Generation Total (including from sources not shown), All Sectors',\n",
       "        'Million Kilowatthours'],\n",
       "       ['ELETPUS', '201713', '4034270.522', '13',\n",
       "        'Electricity Net Generation Total (including from sources not shown), All Sectors',\n",
       "        'Million Kilowatthours'],\n",
       "       ['ELETPUS', '201813', '4174397.655', '13',\n",
       "        'Electricity Net Generation Total (including from sources not shown), All Sectors',\n",
       "        'Million Kilowatthours']], dtype='<U80')"
      ]
     },
     "execution_count": 50,
     "metadata": {},
     "output_type": "execute_result"
    }
   ],
   "source": [
    "energy"
   ]
  },
  {
   "cell_type": "code",
   "execution_count": 52,
   "id": "69466776",
   "metadata": {},
   "outputs": [
    {
     "data": {
      "text/plain": [
       "array(['Description', 'Electricity Net Generation From Coal, All Sectors',\n",
       "       'Electricity Net Generation From Conventional Hydroelectric Power, All Sectors',\n",
       "       'Electricity Net Generation From Geothermal, All Sectors',\n",
       "       'Electricity Net Generation From Hydroelectric Pumped Storage, All Sectors',\n",
       "       'Electricity Net Generation From Natural Gas, All Sectors',\n",
       "       'Electricity Net Generation From Nuclear Electric Power, All Sectors',\n",
       "       'Electricity Net Generation From Other Gases, All Sectors',\n",
       "       'Electricity Net Generation From Petroleum, All Sectors',\n",
       "       'Electricity Net Generation From Solar, All Sectors',\n",
       "       'Electricity Net Generation From Waste, All Sectors',\n",
       "       'Electricity Net Generation From Wind, All Sectors',\n",
       "       'Electricity Net Generation From Wood, All Sectors',\n",
       "       'Electricity Net Generation Total (including from sources not shown), All Sectors'],\n",
       "      dtype='<U80')"
      ]
     },
     "execution_count": 52,
     "metadata": {},
     "output_type": "execute_result"
    }
   ],
   "source": [
    "np.unique(data[:,4])"
   ]
  },
  {
   "cell_type": "code",
   "execution_count": 55,
   "id": "58a9ae7e",
   "metadata": {},
   "outputs": [],
   "source": [
    "cond_1 = energy[:,1].astype(int) <=199013"
   ]
  },
  {
   "cell_type": "code",
   "execution_count": 58,
   "id": "3cda2fc9",
   "metadata": {},
   "outputs": [],
   "source": [
    "e1 = energy[cond_1]"
   ]
  },
  {
   "cell_type": "code",
   "execution_count": 59,
   "id": "704708f7",
   "metadata": {},
   "outputs": [],
   "source": [
    "cond_2 = e1[:,4] =='Electricity Net Generation From Coal, All Sectors'"
   ]
  },
  {
   "cell_type": "code",
   "execution_count": 60,
   "id": "1ae2ef5a",
   "metadata": {},
   "outputs": [],
   "source": [
    "e2 = e1[cond_2]"
   ]
  },
  {
   "cell_type": "code",
   "execution_count": 61,
   "id": "1f394a4d",
   "metadata": {},
   "outputs": [],
   "source": [
    "cond_3 = e1[:,4]=='Electricity Net Generation From Nuclear Electric Power, All Sectors'"
   ]
  },
  {
   "cell_type": "code",
   "execution_count": 62,
   "id": "590138c8",
   "metadata": {},
   "outputs": [],
   "source": [
    "e3 = e1[cond_3]"
   ]
  },
  {
   "cell_type": "code",
   "execution_count": 63,
   "id": "d198e3da",
   "metadata": {},
   "outputs": [],
   "source": [
    "final_energy = np.vstack((e2,e3))"
   ]
  },
  {
   "cell_type": "code",
   "execution_count": 64,
   "id": "f7f5316a",
   "metadata": {},
   "outputs": [
    {
     "data": {
      "text/plain": [
       "array([['CLETPUS', '194913', '135451.32', '1',\n",
       "        'Electricity Net Generation From Coal, All Sectors',\n",
       "        'Million Kilowatthours'],\n",
       "       ['CLETPUS', '195013', '154519.994', '1',\n",
       "        'Electricity Net Generation From Coal, All Sectors',\n",
       "        'Million Kilowatthours'],\n",
       "       ['CLETPUS', '195113', '185203.657', '1',\n",
       "        'Electricity Net Generation From Coal, All Sectors',\n",
       "        'Million Kilowatthours'],\n",
       "       ['CLETPUS', '195213', '195436.666', '1',\n",
       "        'Electricity Net Generation From Coal, All Sectors',\n",
       "        'Million Kilowatthours'],\n",
       "       ['CLETPUS', '195313', '218846.325', '1',\n",
       "        'Electricity Net Generation From Coal, All Sectors',\n",
       "        'Million Kilowatthours'],\n",
       "       ['CLETPUS', '195413', '239145.966', '1',\n",
       "        'Electricity Net Generation From Coal, All Sectors',\n",
       "        'Million Kilowatthours'],\n",
       "       ['CLETPUS', '195513', '301362.698', '1',\n",
       "        'Electricity Net Generation From Coal, All Sectors',\n",
       "        'Million Kilowatthours'],\n",
       "       ['CLETPUS', '195613', '338503.484', '1',\n",
       "        'Electricity Net Generation From Coal, All Sectors',\n",
       "        'Million Kilowatthours'],\n",
       "       ['CLETPUS', '195713', '346386.207', '1',\n",
       "        'Electricity Net Generation From Coal, All Sectors',\n",
       "        'Million Kilowatthours'],\n",
       "       ['CLETPUS', '195813', '344365.781', '1',\n",
       "        'Electricity Net Generation From Coal, All Sectors',\n",
       "        'Million Kilowatthours'],\n",
       "       ['CLETPUS', '195913', '378424.21', '1',\n",
       "        'Electricity Net Generation From Coal, All Sectors',\n",
       "        'Million Kilowatthours'],\n",
       "       ['CLETPUS', '196013', '403067.357', '1',\n",
       "        'Electricity Net Generation From Coal, All Sectors',\n",
       "        'Million Kilowatthours'],\n",
       "       ['CLETPUS', '196113', '421870.669', '1',\n",
       "        'Electricity Net Generation From Coal, All Sectors',\n",
       "        'Million Kilowatthours'],\n",
       "       ['CLETPUS', '196213', '450249.238', '1',\n",
       "        'Electricity Net Generation From Coal, All Sectors',\n",
       "        'Million Kilowatthours'],\n",
       "       ['CLETPUS', '196313', '493926.719', '1',\n",
       "        'Electricity Net Generation From Coal, All Sectors',\n",
       "        'Million Kilowatthours'],\n",
       "       ['CLETPUS', '196413', '526230.019', '1',\n",
       "        'Electricity Net Generation From Coal, All Sectors',\n",
       "        'Million Kilowatthours'],\n",
       "       ['CLETPUS', '196513', '570925.951', '1',\n",
       "        'Electricity Net Generation From Coal, All Sectors',\n",
       "        'Million Kilowatthours'],\n",
       "       ['CLETPUS', '196613', '613474.8', '1',\n",
       "        'Electricity Net Generation From Coal, All Sectors',\n",
       "        'Million Kilowatthours'],\n",
       "       ['CLETPUS', '196713', '630483.363', '1',\n",
       "        'Electricity Net Generation From Coal, All Sectors',\n",
       "        'Million Kilowatthours'],\n",
       "       ['CLETPUS', '196813', '684904.58', '1',\n",
       "        'Electricity Net Generation From Coal, All Sectors',\n",
       "        'Million Kilowatthours'],\n",
       "       ['CLETPUS', '196913', '706001.24', '1',\n",
       "        'Electricity Net Generation From Coal, All Sectors',\n",
       "        'Million Kilowatthours'],\n",
       "       ['CLETPUS', '197013', '704394.479', '1',\n",
       "        'Electricity Net Generation From Coal, All Sectors',\n",
       "        'Million Kilowatthours'],\n",
       "       ['CLETPUS', '197113', '713102.454', '1',\n",
       "        'Electricity Net Generation From Coal, All Sectors',\n",
       "        'Million Kilowatthours'],\n",
       "       ['CLETPUS', '197213', '771131.265', '1',\n",
       "        'Electricity Net Generation From Coal, All Sectors',\n",
       "        'Million Kilowatthours'],\n",
       "       ['CLETPUS', '197313', '847651.47', '1',\n",
       "        'Electricity Net Generation From Coal, All Sectors',\n",
       "        'Million Kilowatthours'],\n",
       "       ['CLETPUS', '197413', '828432.921', '1',\n",
       "        'Electricity Net Generation From Coal, All Sectors',\n",
       "        'Million Kilowatthours'],\n",
       "       ['CLETPUS', '197513', '852786.222', '1',\n",
       "        'Electricity Net Generation From Coal, All Sectors',\n",
       "        'Million Kilowatthours'],\n",
       "       ['CLETPUS', '197613', '944390.993', '1',\n",
       "        'Electricity Net Generation From Coal, All Sectors',\n",
       "        'Million Kilowatthours'],\n",
       "       ['CLETPUS', '197713', '985218.596', '1',\n",
       "        'Electricity Net Generation From Coal, All Sectors',\n",
       "        'Million Kilowatthours'],\n",
       "       ['CLETPUS', '197813', '975742.083', '1',\n",
       "        'Electricity Net Generation From Coal, All Sectors',\n",
       "        'Million Kilowatthours'],\n",
       "       ['CLETPUS', '197913', '1075037.091', '1',\n",
       "        'Electricity Net Generation From Coal, All Sectors',\n",
       "        'Million Kilowatthours'],\n",
       "       ['CLETPUS', '198013', '1161562.368', '1',\n",
       "        'Electricity Net Generation From Coal, All Sectors',\n",
       "        'Million Kilowatthours'],\n",
       "       ['CLETPUS', '198113', '1203203.232', '1',\n",
       "        'Electricity Net Generation From Coal, All Sectors',\n",
       "        'Million Kilowatthours'],\n",
       "       ['CLETPUS', '198213', '1192004.204', '1',\n",
       "        'Electricity Net Generation From Coal, All Sectors',\n",
       "        'Million Kilowatthours'],\n",
       "       ['CLETPUS', '198313', '1259424.279', '1',\n",
       "        'Electricity Net Generation From Coal, All Sectors',\n",
       "        'Million Kilowatthours'],\n",
       "       ['CLETPUS', '198413', '1341680.752', '1',\n",
       "        'Electricity Net Generation From Coal, All Sectors',\n",
       "        'Million Kilowatthours'],\n",
       "       ['CLETPUS', '198513', '1402128.125', '1',\n",
       "        'Electricity Net Generation From Coal, All Sectors',\n",
       "        'Million Kilowatthours'],\n",
       "       ['CLETPUS', '198613', '1385831.452', '1',\n",
       "        'Electricity Net Generation From Coal, All Sectors',\n",
       "        'Million Kilowatthours'],\n",
       "       ['CLETPUS', '198713', '1463781.289', '1',\n",
       "        'Electricity Net Generation From Coal, All Sectors',\n",
       "        'Million Kilowatthours'],\n",
       "       ['CLETPUS', '198813', '1540652.774', '1',\n",
       "        'Electricity Net Generation From Coal, All Sectors',\n",
       "        'Million Kilowatthours'],\n",
       "       ['CLETPUS', '198913', '1583779.139', '1',\n",
       "        'Electricity Net Generation From Coal, All Sectors',\n",
       "        'Million Kilowatthours'],\n",
       "       ['CLETPUS', '199013', '1594011.479', '1',\n",
       "        'Electricity Net Generation From Coal, All Sectors',\n",
       "        'Million Kilowatthours'],\n",
       "       ['NUETPUS', '194913', '0', '5',\n",
       "        'Electricity Net Generation From Nuclear Electric Power, All Sectors',\n",
       "        'Million Kilowatthours'],\n",
       "       ['NUETPUS', '195013', '0', '5',\n",
       "        'Electricity Net Generation From Nuclear Electric Power, All Sectors',\n",
       "        'Million Kilowatthours'],\n",
       "       ['NUETPUS', '195113', '0', '5',\n",
       "        'Electricity Net Generation From Nuclear Electric Power, All Sectors',\n",
       "        'Million Kilowatthours'],\n",
       "       ['NUETPUS', '195213', '0', '5',\n",
       "        'Electricity Net Generation From Nuclear Electric Power, All Sectors',\n",
       "        'Million Kilowatthours'],\n",
       "       ['NUETPUS', '195313', '0', '5',\n",
       "        'Electricity Net Generation From Nuclear Electric Power, All Sectors',\n",
       "        'Million Kilowatthours'],\n",
       "       ['NUETPUS', '195413', '0', '5',\n",
       "        'Electricity Net Generation From Nuclear Electric Power, All Sectors',\n",
       "        'Million Kilowatthours'],\n",
       "       ['NUETPUS', '195513', '0', '5',\n",
       "        'Electricity Net Generation From Nuclear Electric Power, All Sectors',\n",
       "        'Million Kilowatthours'],\n",
       "       ['NUETPUS', '195613', '0', '5',\n",
       "        'Electricity Net Generation From Nuclear Electric Power, All Sectors',\n",
       "        'Million Kilowatthours'],\n",
       "       ['NUETPUS', '195713', '9.67', '5',\n",
       "        'Electricity Net Generation From Nuclear Electric Power, All Sectors',\n",
       "        'Million Kilowatthours'],\n",
       "       ['NUETPUS', '195813', '164.691', '5',\n",
       "        'Electricity Net Generation From Nuclear Electric Power, All Sectors',\n",
       "        'Million Kilowatthours'],\n",
       "       ['NUETPUS', '195913', '188.101', '5',\n",
       "        'Electricity Net Generation From Nuclear Electric Power, All Sectors',\n",
       "        'Million Kilowatthours'],\n",
       "       ['NUETPUS', '196013', '518.182', '5',\n",
       "        'Electricity Net Generation From Nuclear Electric Power, All Sectors',\n",
       "        'Million Kilowatthours'],\n",
       "       ['NUETPUS', '196113', '1692.149', '5',\n",
       "        'Electricity Net Generation From Nuclear Electric Power, All Sectors',\n",
       "        'Million Kilowatthours'],\n",
       "       ['NUETPUS', '196213', '2269.685', '5',\n",
       "        'Electricity Net Generation From Nuclear Electric Power, All Sectors',\n",
       "        'Million Kilowatthours'],\n",
       "       ['NUETPUS', '196313', '3211.836', '5',\n",
       "        'Electricity Net Generation From Nuclear Electric Power, All Sectors',\n",
       "        'Million Kilowatthours'],\n",
       "       ['NUETPUS', '196413', '3342.743', '5',\n",
       "        'Electricity Net Generation From Nuclear Electric Power, All Sectors',\n",
       "        'Million Kilowatthours'],\n",
       "       ['NUETPUS', '196513', '3656.699', '5',\n",
       "        'Electricity Net Generation From Nuclear Electric Power, All Sectors',\n",
       "        'Million Kilowatthours'],\n",
       "       ['NUETPUS', '196613', '5519.909', '5',\n",
       "        'Electricity Net Generation From Nuclear Electric Power, All Sectors',\n",
       "        'Million Kilowatthours'],\n",
       "       ['NUETPUS', '196713', '7655.214', '5',\n",
       "        'Electricity Net Generation From Nuclear Electric Power, All Sectors',\n",
       "        'Million Kilowatthours'],\n",
       "       ['NUETPUS', '196813', '12528.419', '5',\n",
       "        'Electricity Net Generation From Nuclear Electric Power, All Sectors',\n",
       "        'Million Kilowatthours'],\n",
       "       ['NUETPUS', '196913', '13927.839', '5',\n",
       "        'Electricity Net Generation From Nuclear Electric Power, All Sectors',\n",
       "        'Million Kilowatthours'],\n",
       "       ['NUETPUS', '197013', '21804.448', '5',\n",
       "        'Electricity Net Generation From Nuclear Electric Power, All Sectors',\n",
       "        'Million Kilowatthours'],\n",
       "       ['NUETPUS', '197113', '38104.545', '5',\n",
       "        'Electricity Net Generation From Nuclear Electric Power, All Sectors',\n",
       "        'Million Kilowatthours'],\n",
       "       ['NUETPUS', '197213', '54091.135', '5',\n",
       "        'Electricity Net Generation From Nuclear Electric Power, All Sectors',\n",
       "        'Million Kilowatthours'],\n",
       "       ['NUETPUS', '197313', '83479.463', '5',\n",
       "        'Electricity Net Generation From Nuclear Electric Power, All Sectors',\n",
       "        'Million Kilowatthours'],\n",
       "       ['NUETPUS', '197413', '113975.74', '5',\n",
       "        'Electricity Net Generation From Nuclear Electric Power, All Sectors',\n",
       "        'Million Kilowatthours'],\n",
       "       ['NUETPUS', '197513', '172505.075', '5',\n",
       "        'Electricity Net Generation From Nuclear Electric Power, All Sectors',\n",
       "        'Million Kilowatthours'],\n",
       "       ['NUETPUS', '197613', '191103.531', '5',\n",
       "        'Electricity Net Generation From Nuclear Electric Power, All Sectors',\n",
       "        'Million Kilowatthours'],\n",
       "       ['NUETPUS', '197713', '250883.283', '5',\n",
       "        'Electricity Net Generation From Nuclear Electric Power, All Sectors',\n",
       "        'Million Kilowatthours'],\n",
       "       ['NUETPUS', '197813', '276403.07', '5',\n",
       "        'Electricity Net Generation From Nuclear Electric Power, All Sectors',\n",
       "        'Million Kilowatthours'],\n",
       "       ['NUETPUS', '197913', '255154.623', '5',\n",
       "        'Electricity Net Generation From Nuclear Electric Power, All Sectors',\n",
       "        'Million Kilowatthours'],\n",
       "       ['NUETPUS', '198013', '251115.575', '5',\n",
       "        'Electricity Net Generation From Nuclear Electric Power, All Sectors',\n",
       "        'Million Kilowatthours'],\n",
       "       ['NUETPUS', '198113', '272673.503', '5',\n",
       "        'Electricity Net Generation From Nuclear Electric Power, All Sectors',\n",
       "        'Million Kilowatthours'],\n",
       "       ['NUETPUS', '198213', '282773.248', '5',\n",
       "        'Electricity Net Generation From Nuclear Electric Power, All Sectors',\n",
       "        'Million Kilowatthours'],\n",
       "       ['NUETPUS', '198313', '293677.119', '5',\n",
       "        'Electricity Net Generation From Nuclear Electric Power, All Sectors',\n",
       "        'Million Kilowatthours'],\n",
       "       ['NUETPUS', '198413', '327633.549', '5',\n",
       "        'Electricity Net Generation From Nuclear Electric Power, All Sectors',\n",
       "        'Million Kilowatthours'],\n",
       "       ['NUETPUS', '198513', '383690.727', '5',\n",
       "        'Electricity Net Generation From Nuclear Electric Power, All Sectors',\n",
       "        'Million Kilowatthours'],\n",
       "       ['NUETPUS', '198613', '414038.063', '5',\n",
       "        'Electricity Net Generation From Nuclear Electric Power, All Sectors',\n",
       "        'Million Kilowatthours'],\n",
       "       ['NUETPUS', '198713', '455270.382', '5',\n",
       "        'Electricity Net Generation From Nuclear Electric Power, All Sectors',\n",
       "        'Million Kilowatthours'],\n",
       "       ['NUETPUS', '198813', '526973.047', '5',\n",
       "        'Electricity Net Generation From Nuclear Electric Power, All Sectors',\n",
       "        'Million Kilowatthours'],\n",
       "       ['NUETPUS', '198913', '529354.717', '5',\n",
       "        'Electricity Net Generation From Nuclear Electric Power, All Sectors',\n",
       "        'Million Kilowatthours'],\n",
       "       ['NUETPUS', '199013', '576861.678', '5',\n",
       "        'Electricity Net Generation From Nuclear Electric Power, All Sectors',\n",
       "        'Million Kilowatthours']], dtype='<U80')"
      ]
     },
     "execution_count": 64,
     "metadata": {},
     "output_type": "execute_result"
    }
   ],
   "source": [
    "final_energy"
   ]
  },
  {
   "cell_type": "code",
   "execution_count": 66,
   "id": "28a2e8d3",
   "metadata": {},
   "outputs": [],
   "source": [
    "elct = final_energy[:,2]"
   ]
  },
  {
   "cell_type": "code",
   "execution_count": 69,
   "id": "4f56f909",
   "metadata": {},
   "outputs": [
    {
     "data": {
      "text/plain": [
       "array(['0', '0', '0', '0', '0', '0', '0', '0', '1075037.091', '113975.74',\n",
       "       '1161562.368', '1192004.204', '1203203.232', '12528.419',\n",
       "       '1259424.279', '1341680.752', '135451.32', '1385831.452',\n",
       "       '13927.839', '1402128.125', '1463781.289', '1540652.774',\n",
       "       '154519.994', '1583779.139', '1594011.479', '164.691', '1692.149',\n",
       "       '172505.075', '185203.657', '188.101', '191103.531', '195436.666',\n",
       "       '21804.448', '218846.325', '2269.685', '239145.966', '250883.283',\n",
       "       '251115.575', '255154.623', '272673.503', '276403.07',\n",
       "       '282773.248', '293677.119', '301362.698', '3211.836', '327633.549',\n",
       "       '3342.743', '338503.484', '344365.781', '346386.207', '3656.699',\n",
       "       '378424.21', '38104.545', '383690.727', '403067.357', '414038.063',\n",
       "       '421870.669', '450249.238', '455270.382', '493926.719', '518.182',\n",
       "       '526230.019', '526973.047', '529354.717', '54091.135', '5519.909',\n",
       "       '570925.951', '576861.678', '613474.8', '630483.363', '684904.58',\n",
       "       '704394.479', '706001.24', '713102.454', '7655.214', '771131.265',\n",
       "       '828432.921', '83479.463', '847651.47', '852786.222', '9.67',\n",
       "       '944390.993', '975742.083', '985218.596'], dtype='<U80')"
      ]
     },
     "execution_count": 69,
     "metadata": {},
     "output_type": "execute_result"
    }
   ],
   "source": [
    "np.sort(elct)"
   ]
  },
  {
   "cell_type": "code",
   "execution_count": 71,
   "id": "efd2b264",
   "metadata": {},
   "outputs": [
    {
     "data": {
      "text/plain": [
       "37990978.569000006"
      ]
     },
     "execution_count": 71,
     "metadata": {},
     "output_type": "execute_result"
    }
   ],
   "source": [
    "#net electricity generated by coal and neuclear power in 1949 to 1990\n",
    "np.sum(elct.astype(float))"
   ]
  },
  {
   "cell_type": "markdown",
   "id": "02030224",
   "metadata": {},
   "source": [
    "# 8. Print all the unique sources of Energy generation present in the dataset.\n"
   ]
  },
  {
   "cell_type": "code",
   "execution_count": 72,
   "id": "4f35e417",
   "metadata": {},
   "outputs": [
    {
     "data": {
      "text/plain": [
       "array(['Description', 'Electricity Net Generation From Coal, All Sectors',\n",
       "       'Electricity Net Generation From Conventional Hydroelectric Power, All Sectors',\n",
       "       'Electricity Net Generation From Geothermal, All Sectors',\n",
       "       'Electricity Net Generation From Hydroelectric Pumped Storage, All Sectors',\n",
       "       'Electricity Net Generation From Natural Gas, All Sectors',\n",
       "       'Electricity Net Generation From Nuclear Electric Power, All Sectors',\n",
       "       'Electricity Net Generation From Other Gases, All Sectors',\n",
       "       'Electricity Net Generation From Petroleum, All Sectors',\n",
       "       'Electricity Net Generation From Solar, All Sectors',\n",
       "       'Electricity Net Generation From Waste, All Sectors',\n",
       "       'Electricity Net Generation From Wind, All Sectors',\n",
       "       'Electricity Net Generation From Wood, All Sectors',\n",
       "       'Electricity Net Generation Total (including from sources not shown), All Sectors'],\n",
       "      dtype='<U80')"
      ]
     },
     "execution_count": 72,
     "metadata": {},
     "output_type": "execute_result"
    }
   ],
   "source": [
    "np.unique(data[:,4])"
   ]
  },
  {
   "cell_type": "markdown",
   "id": "c075473f",
   "metadata": {},
   "source": [
    "# 9. Print all the details(annual) where the energy source is Wind Energy. Use the concept of masking to filter the data."
   ]
  },
  {
   "cell_type": "code",
   "execution_count": 74,
   "id": "750093e5",
   "metadata": {},
   "outputs": [
    {
     "data": {
      "text/plain": [
       "array([['CLETPUS', '194913', '135451.32', '1',\n",
       "        'Electricity Net Generation From Coal, All Sectors',\n",
       "        'Million Kilowatthours'],\n",
       "       ['CLETPUS', '195013', '154519.994', '1',\n",
       "        'Electricity Net Generation From Coal, All Sectors',\n",
       "        'Million Kilowatthours'],\n",
       "       ['CLETPUS', '195113', '185203.657', '1',\n",
       "        'Electricity Net Generation From Coal, All Sectors',\n",
       "        'Million Kilowatthours'],\n",
       "       ...,\n",
       "       ['ELETPUS', '201613', '4076674.984', '13',\n",
       "        'Electricity Net Generation Total (including from sources not shown), All Sectors',\n",
       "        'Million Kilowatthours'],\n",
       "       ['ELETPUS', '201713', '4034270.522', '13',\n",
       "        'Electricity Net Generation Total (including from sources not shown), All Sectors',\n",
       "        'Million Kilowatthours'],\n",
       "       ['ELETPUS', '201813', '4174397.655', '13',\n",
       "        'Electricity Net Generation Total (including from sources not shown), All Sectors',\n",
       "        'Million Kilowatthours']], dtype='<U80')"
      ]
     },
     "execution_count": 74,
     "metadata": {},
     "output_type": "execute_result"
    }
   ],
   "source": [
    "energy"
   ]
  },
  {
   "cell_type": "code",
   "execution_count": 75,
   "id": "b6684ded",
   "metadata": {},
   "outputs": [],
   "source": [
    "cond_4 = energy[:,4] == 'Electricity Net Generation From Wind, All Sectors'"
   ]
  },
  {
   "cell_type": "code",
   "execution_count": 76,
   "id": "d9bd40c3",
   "metadata": {},
   "outputs": [],
   "source": [
    "wind_energy = energy[cond_4]"
   ]
  },
  {
   "cell_type": "code",
   "execution_count": 78,
   "id": "19e9ff14",
   "metadata": {},
   "outputs": [],
   "source": [
    "cond_5 = wind_energy[:,2] != 'Not Available'"
   ]
  },
  {
   "cell_type": "code",
   "execution_count": 79,
   "id": "521f5c39",
   "metadata": {},
   "outputs": [],
   "source": [
    "wind_energy = wind_energy[cond_5]"
   ]
  },
  {
   "cell_type": "code",
   "execution_count": 80,
   "id": "26cb53dc",
   "metadata": {},
   "outputs": [
    {
     "data": {
      "text/plain": [
       "1940339.685"
      ]
     },
     "execution_count": 80,
     "metadata": {},
     "output_type": "execute_result"
    }
   ],
   "source": [
    "np.sum(wind_energy[:,2].astype(float))"
   ]
  },
  {
   "cell_type": "markdown",
   "id": "c3acec2e",
   "metadata": {},
   "source": [
    "# 10. Print the Total Energy generated in the USA till date."
   ]
  },
  {
   "cell_type": "code",
   "execution_count": 81,
   "id": "eb2b1d62",
   "metadata": {},
   "outputs": [
    {
     "data": {
      "text/plain": [
       "642969289.517"
      ]
     },
     "execution_count": 81,
     "metadata": {},
     "output_type": "execute_result"
    }
   ],
   "source": [
    "np.sum(val)"
   ]
  },
  {
   "cell_type": "markdown",
   "id": "92139360",
   "metadata": {},
   "source": [
    "# 11. Print the average annual energy generated from wind in the USA and also the standard deviation present in the energy generation.\n"
   ]
  },
  {
   "cell_type": "code",
   "execution_count": 82,
   "id": "39cddddd",
   "metadata": {},
   "outputs": [
    {
     "data": {
      "text/plain": [
       "array([['WYETPUS', '198313', '2.668', '12',\n",
       "        'Electricity Net Generation From Wind, All Sectors',\n",
       "        'Million Kilowatthours'],\n",
       "       ['WYETPUS', '198413', '6.49', '12',\n",
       "        'Electricity Net Generation From Wind, All Sectors',\n",
       "        'Million Kilowatthours'],\n",
       "       ['WYETPUS', '198513', '5.762', '12',\n",
       "        'Electricity Net Generation From Wind, All Sectors',\n",
       "        'Million Kilowatthours'],\n",
       "       ['WYETPUS', '198613', '4.189', '12',\n",
       "        'Electricity Net Generation From Wind, All Sectors',\n",
       "        'Million Kilowatthours'],\n",
       "       ['WYETPUS', '198713', '3.541', '12',\n",
       "        'Electricity Net Generation From Wind, All Sectors',\n",
       "        'Million Kilowatthours'],\n",
       "       ['WYETPUS', '198813', '0.871', '12',\n",
       "        'Electricity Net Generation From Wind, All Sectors',\n",
       "        'Million Kilowatthours'],\n",
       "       ['WYETPUS', '198913', '2112.043', '12',\n",
       "        'Electricity Net Generation From Wind, All Sectors',\n",
       "        'Million Kilowatthours'],\n",
       "       ['WYETPUS', '199013', '2788.6', '12',\n",
       "        'Electricity Net Generation From Wind, All Sectors',\n",
       "        'Million Kilowatthours'],\n",
       "       ['WYETPUS', '199113', '2950.951', '12',\n",
       "        'Electricity Net Generation From Wind, All Sectors',\n",
       "        'Million Kilowatthours'],\n",
       "       ['WYETPUS', '199213', '2887.523', '12',\n",
       "        'Electricity Net Generation From Wind, All Sectors',\n",
       "        'Million Kilowatthours'],\n",
       "       ['WYETPUS', '199313', '3005.827', '12',\n",
       "        'Electricity Net Generation From Wind, All Sectors',\n",
       "        'Million Kilowatthours'],\n",
       "       ['WYETPUS', '199413', '3447.109', '12',\n",
       "        'Electricity Net Generation From Wind, All Sectors',\n",
       "        'Million Kilowatthours'],\n",
       "       ['WYETPUS', '199513', '3164.253', '12',\n",
       "        'Electricity Net Generation From Wind, All Sectors',\n",
       "        'Million Kilowatthours'],\n",
       "       ['WYETPUS', '199613', '3234.069', '12',\n",
       "        'Electricity Net Generation From Wind, All Sectors',\n",
       "        'Million Kilowatthours'],\n",
       "       ['WYETPUS', '199713', '3288.035', '12',\n",
       "        'Electricity Net Generation From Wind, All Sectors',\n",
       "        'Million Kilowatthours'],\n",
       "       ['WYETPUS', '199813', '3025.696', '12',\n",
       "        'Electricity Net Generation From Wind, All Sectors',\n",
       "        'Million Kilowatthours'],\n",
       "       ['WYETPUS', '199913', '4487.998', '12',\n",
       "        'Electricity Net Generation From Wind, All Sectors',\n",
       "        'Million Kilowatthours'],\n",
       "       ['WYETPUS', '200013', '5593.261', '12',\n",
       "        'Electricity Net Generation From Wind, All Sectors',\n",
       "        'Million Kilowatthours'],\n",
       "       ['WYETPUS', '200113', '6737.331', '12',\n",
       "        'Electricity Net Generation From Wind, All Sectors',\n",
       "        'Million Kilowatthours'],\n",
       "       ['WYETPUS', '200213', '10354.28', '12',\n",
       "        'Electricity Net Generation From Wind, All Sectors',\n",
       "        'Million Kilowatthours'],\n",
       "       ['WYETPUS', '200313', '11187.466', '12',\n",
       "        'Electricity Net Generation From Wind, All Sectors',\n",
       "        'Million Kilowatthours'],\n",
       "       ['WYETPUS', '200413', '14143.741', '12',\n",
       "        'Electricity Net Generation From Wind, All Sectors',\n",
       "        'Million Kilowatthours'],\n",
       "       ['WYETPUS', '200513', '17810.549', '12',\n",
       "        'Electricity Net Generation From Wind, All Sectors',\n",
       "        'Million Kilowatthours'],\n",
       "       ['WYETPUS', '200613', '26589.137', '12',\n",
       "        'Electricity Net Generation From Wind, All Sectors',\n",
       "        'Million Kilowatthours'],\n",
       "       ['WYETPUS', '200713', '34449.927', '12',\n",
       "        'Electricity Net Generation From Wind, All Sectors',\n",
       "        'Million Kilowatthours'],\n",
       "       ['WYETPUS', '200813', '55363.1', '12',\n",
       "        'Electricity Net Generation From Wind, All Sectors',\n",
       "        'Million Kilowatthours'],\n",
       "       ['WYETPUS', '200913', '73886.132', '12',\n",
       "        'Electricity Net Generation From Wind, All Sectors',\n",
       "        'Million Kilowatthours'],\n",
       "       ['WYETPUS', '201013', '94652.246', '12',\n",
       "        'Electricity Net Generation From Wind, All Sectors',\n",
       "        'Million Kilowatthours'],\n",
       "       ['WYETPUS', '201113', '120176.599', '12',\n",
       "        'Electricity Net Generation From Wind, All Sectors',\n",
       "        'Million Kilowatthours'],\n",
       "       ['WYETPUS', '201213', '140821.703', '12',\n",
       "        'Electricity Net Generation From Wind, All Sectors',\n",
       "        'Million Kilowatthours'],\n",
       "       ['WYETPUS', '201313', '167839.745', '12',\n",
       "        'Electricity Net Generation From Wind, All Sectors',\n",
       "        'Million Kilowatthours'],\n",
       "       ['WYETPUS', '201413', '181655.282', '12',\n",
       "        'Electricity Net Generation From Wind, All Sectors',\n",
       "        'Million Kilowatthours'],\n",
       "       ['WYETPUS', '201513', '190718.548', '12',\n",
       "        'Electricity Net Generation From Wind, All Sectors',\n",
       "        'Million Kilowatthours'],\n",
       "       ['WYETPUS', '201613', '226992.562', '12',\n",
       "        'Electricity Net Generation From Wind, All Sectors',\n",
       "        'Million Kilowatthours'],\n",
       "       ['WYETPUS', '201713', '254302.662', '12',\n",
       "        'Electricity Net Generation From Wind, All Sectors',\n",
       "        'Million Kilowatthours'],\n",
       "       ['WYETPUS', '201813', '272649.789', '12',\n",
       "        'Electricity Net Generation From Wind, All Sectors',\n",
       "        'Million Kilowatthours']], dtype='<U80')"
      ]
     },
     "execution_count": 82,
     "metadata": {},
     "output_type": "execute_result"
    }
   ],
   "source": [
    "wind_energy"
   ]
  },
  {
   "cell_type": "code",
   "execution_count": 83,
   "id": "c61862d9",
   "metadata": {},
   "outputs": [],
   "source": [
    "w = wind_energy[:,2].astype(float)"
   ]
  },
  {
   "cell_type": "code",
   "execution_count": 84,
   "id": "8e5c38d6",
   "metadata": {},
   "outputs": [
    {
     "data": {
      "text/plain": [
       "53898.324583333335"
      ]
     },
     "execution_count": 84,
     "metadata": {},
     "output_type": "execute_result"
    }
   ],
   "source": [
    "#average\n",
    "np.mean(w)"
   ]
  },
  {
   "cell_type": "code",
   "execution_count": 85,
   "id": "cb92f169",
   "metadata": {},
   "outputs": [
    {
     "data": {
      "text/plain": [
       "81322.74833843806"
      ]
     },
     "execution_count": 85,
     "metadata": {},
     "output_type": "execute_result"
    }
   ],
   "source": [
    "#standard deviation\n",
    "np.std(w)"
   ]
  },
  {
   "cell_type": "markdown",
   "id": "8e5b6bfc",
   "metadata": {},
   "source": [
    "# 12. What and when was the maximum annual energy generated?\n"
   ]
  },
  {
   "cell_type": "code",
   "execution_count": 86,
   "id": "a0bb0e32",
   "metadata": {},
   "outputs": [],
   "source": [
    "e1 = data[1:]"
   ]
  },
  {
   "cell_type": "code",
   "execution_count": 87,
   "id": "66aed017",
   "metadata": {},
   "outputs": [],
   "source": [
    "cond_6 = e1[:,2] !='Not Available'"
   ]
  },
  {
   "cell_type": "code",
   "execution_count": 88,
   "id": "d277999e",
   "metadata": {},
   "outputs": [],
   "source": [
    "e2 = e1[cond_6]"
   ]
  },
  {
   "cell_type": "code",
   "execution_count": 89,
   "id": "5b71296e",
   "metadata": {},
   "outputs": [],
   "source": [
    "max_energy = np.max(e2[:,2].astype(float))"
   ]
  },
  {
   "cell_type": "code",
   "execution_count": 90,
   "id": "e061a49c",
   "metadata": {},
   "outputs": [
    {
     "data": {
      "text/plain": [
       "4174397.655"
      ]
     },
     "execution_count": 90,
     "metadata": {},
     "output_type": "execute_result"
    }
   ],
   "source": [
    "max_energy"
   ]
  },
  {
   "cell_type": "code",
   "execution_count": 91,
   "id": "200e9cfc",
   "metadata": {},
   "outputs": [],
   "source": [
    "cond_7 = np.argmax(e2[:,2].astype(float))"
   ]
  },
  {
   "cell_type": "code",
   "execution_count": 93,
   "id": "2083e31a",
   "metadata": {},
   "outputs": [
    {
     "data": {
      "text/plain": [
       "'201813'"
      ]
     },
     "execution_count": 93,
     "metadata": {},
     "output_type": "execute_result"
    }
   ],
   "source": [
    "e2[cond_7][1]"
   ]
  },
  {
   "cell_type": "code",
   "execution_count": null,
   "id": "68e6722c",
   "metadata": {},
   "outputs": [],
   "source": []
  }
 ],
 "metadata": {
  "kernelspec": {
   "display_name": "Python 3 (ipykernel)",
   "language": "python",
   "name": "python3"
  },
  "language_info": {
   "codemirror_mode": {
    "name": "ipython",
    "version": 3
   },
   "file_extension": ".py",
   "mimetype": "text/x-python",
   "name": "python",
   "nbconvert_exporter": "python",
   "pygments_lexer": "ipython3",
   "version": "3.9.12"
  }
 },
 "nbformat": 4,
 "nbformat_minor": 5
}
