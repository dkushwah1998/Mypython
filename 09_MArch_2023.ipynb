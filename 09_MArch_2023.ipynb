{
 "cells": [
  {
   "cell_type": "code",
   "execution_count": 7,
   "id": "6e136fa0",
   "metadata": {},
   "outputs": [
    {
     "data": {
      "text/plain": [
       "0"
      ]
     },
     "execution_count": 7,
     "metadata": {},
     "output_type": "execute_result"
    }
   ],
   "source": [
    "l = [2,5,6,8]\n",
    "l.index(2)"
   ]
  },
  {
   "cell_type": "markdown",
   "id": "acc9e6cd",
   "metadata": {},
   "source": [
    "# 1.  Write a Python program to find the indexes of numbers in a given list below a given threshold."
   ]
  },
  {
   "cell_type": "code",
   "execution_count": 11,
   "id": "b4bb97bd",
   "metadata": {},
   "outputs": [
    {
     "data": {
      "text/plain": [
       "[0, 1, 2, 3, 4, 2, 8, 2]"
      ]
     },
     "execution_count": 11,
     "metadata": {},
     "output_type": "execute_result"
    }
   ],
   "source": [
    "def check(l, thrs):\n",
    "    ind = []\n",
    "    for i in l:\n",
    "        if i<thrs:\n",
    "            ind.append(l.index(i))\n",
    "            \n",
    "        else:\n",
    "            continue\n",
    "    return ind\n",
    "check([2,5,6,47,8,6,100,245,24,6,2545],75)"
   ]
  },
  {
   "cell_type": "markdown",
   "id": "a644fcb3",
   "metadata": {},
   "source": [
    "# 2. Write a Python program to check whether the given strings are palindromes or not. Return True otherwise False"
   ]
  },
  {
   "cell_type": "code",
   "execution_count": 16,
   "id": "a01e6892",
   "metadata": {},
   "outputs": [
    {
     "name": "stdout",
     "output_type": "stream",
     "text": [
      "True\n",
      "False\n",
      "True\n",
      "False\n"
     ]
    }
   ],
   "source": [
    "def check_pal(strs):\n",
    "    for i in strs:\n",
    "        if i==i[::-1]:\n",
    "             print(True)\n",
    "        else:\n",
    "            print(False)\n",
    "check_pal(['malayalam','Dharmendra','pop','Secret'])"
   ]
  },
  {
   "cell_type": "markdown",
   "id": "0b000d3f",
   "metadata": {},
   "source": [
    "# 3.  Write a Python program to find strings in a given list starting with a given prefix"
   ]
  },
  {
   "cell_type": "code",
   "execution_count": 19,
   "id": "2120c359",
   "metadata": {},
   "outputs": [
    {
     "data": {
      "text/plain": [
       "['cat', 'category', 'cattle']"
      ]
     },
     "execution_count": 19,
     "metadata": {},
     "output_type": "execute_result"
    }
   ],
   "source": [
    "def check_pre(strs,pre):\n",
    "    str1 = []\n",
    "    for i in strs:\n",
    "        if i.startswith(pre):\n",
    "            str1.append(i)\n",
    "        else:\n",
    "            continue\n",
    "    return str1\n",
    "check_pre(['cat','category','bewtween','section','cattle'],'ca')"
   ]
  },
  {
   "cell_type": "markdown",
   "id": "e7e4c209",
   "metadata": {},
   "source": [
    "# 4. Write a Python program to find the length of a given list of non-empty strings."
   ]
  },
  {
   "cell_type": "code",
   "execution_count": 20,
   "id": "e7b7cc76",
   "metadata": {},
   "outputs": [
    {
     "data": {
      "text/plain": [
       "[10, 7, 8, 14]"
      ]
     },
     "execution_count": 20,
     "metadata": {},
     "output_type": "execute_result"
    }
   ],
   "source": [
    "def length(strs):\n",
    "    l = []\n",
    "    for i in strs:\n",
    "        l.append(len(i))\n",
    "    return l\n",
    "length(['Dharmendra','Kushwah','Engineer','Data Scientist'])"
   ]
  },
  {
   "cell_type": "markdown",
   "id": "0a7c9416",
   "metadata": {},
   "source": [
    "# 5. Write a Python program to find the longest string in a given list of strings."
   ]
  },
  {
   "cell_type": "code",
   "execution_count": 42,
   "id": "f2147959",
   "metadata": {},
   "outputs": [],
   "source": [
    "l = ['Dharmendra','Kushwah','Engineer','Data Scientist']\n",
    "m = []\n",
    "for i in l:\n",
    "    m.append(len(i))\n",
    "   "
   ]
  },
  {
   "cell_type": "code",
   "execution_count": 43,
   "id": "fd6f3811",
   "metadata": {},
   "outputs": [
    {
     "data": {
      "text/plain": [
       "[10, 7, 8, 14]"
      ]
     },
     "execution_count": 43,
     "metadata": {},
     "output_type": "execute_result"
    }
   ],
   "source": [
    "m"
   ]
  },
  {
   "cell_type": "code",
   "execution_count": 47,
   "id": "f84f2fa0",
   "metadata": {},
   "outputs": [
    {
     "data": {
      "text/plain": [
       "'Data Scientist'"
      ]
     },
     "execution_count": 47,
     "metadata": {},
     "output_type": "execute_result"
    }
   ],
   "source": [
    "l[m.index(max(m))]\n",
    "    "
   ]
  },
  {
   "cell_type": "code",
   "execution_count": null,
   "id": "a1ce849f",
   "metadata": {},
   "outputs": [],
   "source": []
  }
 ],
 "metadata": {
  "kernelspec": {
   "display_name": "Python 3 (ipykernel)",
   "language": "python",
   "name": "python3"
  },
  "language_info": {
   "codemirror_mode": {
    "name": "ipython",
    "version": 3
   },
   "file_extension": ".py",
   "mimetype": "text/x-python",
   "name": "python",
   "nbconvert_exporter": "python",
   "pygments_lexer": "ipython3",
   "version": "3.9.13"
  }
 },
 "nbformat": 4,
 "nbformat_minor": 5
}
