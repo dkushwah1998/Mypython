{
 "cells": [
  {
   "cell_type": "markdown",
   "id": "1832a738",
   "metadata": {},
   "source": [
    "#  1. We are making n stone piles! The first pile has n stones. If n is even, then all piles have an even number of stones. If n is odd, all piles have an odd number of stones. Each pile must more stones than the previous pile but as few as possible. Write a Python program to find the number of stones in each pile."
   ]
  },
  {
   "cell_type": "code",
   "execution_count": 12,
   "id": "1b58c71a",
   "metadata": {},
   "outputs": [
    {
     "name": "stdout",
     "output_type": "stream",
     "text": [
      "[5, 7, 9, 11, 13]\n"
     ]
    },
    {
     "data": {
      "text/plain": [
       "5"
      ]
     },
     "execution_count": 12,
     "metadata": {},
     "output_type": "execute_result"
    }
   ],
   "source": [
    "\n",
    "def stone_piles(n):\n",
    "    l = []\n",
    "    \n",
    "    for i in range(n):\n",
    "        l.append(n+2*i)\n",
    "    print(l)\n",
    "    return n\n",
    "\n",
    "stone_piles(5)    "
   ]
  },
  {
   "cell_type": "code",
   "execution_count": 13,
   "id": "aabac021",
   "metadata": {},
   "outputs": [
    {
     "name": "stdout",
     "output_type": "stream",
     "text": [
      "[10, 12, 14, 16, 18, 20, 22, 24, 26, 28]\n"
     ]
    },
    {
     "data": {
      "text/plain": [
       "10"
      ]
     },
     "execution_count": 13,
     "metadata": {},
     "output_type": "execute_result"
    }
   ],
   "source": [
    "stone_piles(10)"
   ]
  },
  {
   "cell_type": "code",
   "execution_count": 14,
   "id": "54a297b1",
   "metadata": {},
   "outputs": [
    {
     "name": "stdout",
     "output_type": "stream",
     "text": [
      "[4, 6, 8, 10]\n"
     ]
    },
    {
     "data": {
      "text/plain": [
       "4"
      ]
     },
     "execution_count": 14,
     "metadata": {},
     "output_type": "execute_result"
    }
   ],
   "source": [
    "stone_piles(4)"
   ]
  },
  {
   "cell_type": "markdown",
   "id": "cb038893",
   "metadata": {},
   "source": [
    "# 2. Write a Python program to test a list of one hundred integers between 0 and 999, which all differ by ten from one another. Return True otherwise False."
   ]
  },
  {
   "cell_type": "code",
   "execution_count": 107,
   "id": "9bea687e",
   "metadata": {},
   "outputs": [
    {
     "data": {
      "text/plain": [
       "False"
      ]
     },
     "execution_count": 107,
     "metadata": {},
     "output_type": "execute_result"
    }
   ],
   "source": [
    "def check(lst):\n",
    "    for i in lst:\n",
    "        for j in lst:\n",
    "            if abs(i-j) >=10 and len(lst)==100:\n",
    "                return True\n",
    "            else:\n",
    "                return False\n",
    "    return lst\n",
    "check(list(range(0,999,10)))"
   ]
  },
  {
   "cell_type": "code",
   "execution_count": 108,
   "id": "33d32ece",
   "metadata": {},
   "outputs": [
    {
     "data": {
      "text/plain": [
       "False"
      ]
     },
     "execution_count": 108,
     "metadata": {},
     "output_type": "execute_result"
    }
   ],
   "source": [
    "check(list(range(0,1000,20)))"
   ]
  },
  {
   "cell_type": "markdown",
   "id": "1928146e",
   "metadata": {},
   "source": [
    "# 3. Write a Python program to check a given list of integers where the sum of the first i integers is i."
   ]
  },
  {
   "cell_type": "code",
   "execution_count": 92,
   "id": "fab49700",
   "metadata": {},
   "outputs": [],
   "source": [
    "def sum_(l,n):\n",
    "    \n",
    "    if n == sum(l[0:n]):\n",
    "        print(True)\n",
    "    else:\n",
    "        print(False)\n",
    "    return l"
   ]
  },
  {
   "cell_type": "code",
   "execution_count": 93,
   "id": "5b7faeee",
   "metadata": {},
   "outputs": [
    {
     "name": "stdout",
     "output_type": "stream",
     "text": [
      "True\n"
     ]
    },
    {
     "data": {
      "text/plain": [
       "[0, 1, 2, 3, 4, 5]"
      ]
     },
     "execution_count": 93,
     "metadata": {},
     "output_type": "execute_result"
    }
   ],
   "source": [
    "sum_([0,1,2,3,4,5],3)"
   ]
  },
  {
   "cell_type": "code",
   "execution_count": 94,
   "id": "fb7d9036",
   "metadata": {},
   "outputs": [
    {
     "name": "stdout",
     "output_type": "stream",
     "text": [
      "False\n"
     ]
    },
    {
     "data": {
      "text/plain": [
       "[2, 4, 5, 6, 0, 4, 5]"
      ]
     },
     "execution_count": 94,
     "metadata": {},
     "output_type": "execute_result"
    }
   ],
   "source": [
    "sum_([2,4,5,6,0,4,5],5)"
   ]
  },
  {
   "cell_type": "markdown",
   "id": "1871e46f",
   "metadata": {},
   "source": [
    "# 4. Write a Python program to find a list of integers containing exactly four distinct values, such that no integer repeats twice consecutively among the first twenty entries."
   ]
  },
  {
   "cell_type": "code",
   "execution_count": 95,
   "id": "512072c3",
   "metadata": {},
   "outputs": [
    {
     "name": "stdout",
     "output_type": "stream",
     "text": [
      "False\n"
     ]
    },
    {
     "data": {
      "text/plain": [
       "True"
      ]
     },
     "execution_count": 95,
     "metadata": {},
     "output_type": "execute_result"
    }
   ],
   "source": [
    "def check(l):\n",
    "    for i in range(len(l)-1):\n",
    "        if l[i]!=l[i+1] and len(set(l))==4:\n",
    "            return True\n",
    "        \n",
    "        else:\n",
    "            return False\n",
    "    return l\n",
    "   \n",
    "print(check([4,4,5,8,5,2,5]))\n",
    "check([2,5,6,3,2,5,6,3])"
   ]
  },
  {
   "cell_type": "code",
   "execution_count": null,
   "id": "1ea9b97d",
   "metadata": {},
   "outputs": [],
   "source": []
  }
 ],
 "metadata": {
  "kernelspec": {
   "display_name": "Python 3 (ipykernel)",
   "language": "python",
   "name": "python3"
  },
  "language_info": {
   "codemirror_mode": {
    "name": "ipython",
    "version": 3
   },
   "file_extension": ".py",
   "mimetype": "text/x-python",
   "name": "python",
   "nbconvert_exporter": "python",
   "pygments_lexer": "ipython3",
   "version": "3.9.13"
  }
 },
 "nbformat": 4,
 "nbformat_minor": 5
}
