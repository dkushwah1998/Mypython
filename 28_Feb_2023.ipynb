{
 "cells": [
  {
   "cell_type": "markdown",
   "id": "41c52ac3",
   "metadata": {},
   "source": [
    "# 1) Write a program to iterate the first 10 numbers and in each iteration, print the sum of the current and previous number."
   ]
  },
  {
   "cell_type": "code",
   "execution_count": 1,
   "id": "6cd979bb",
   "metadata": {},
   "outputs": [
    {
     "name": "stdout",
     "output_type": "stream",
     "text": [
      "sum of current number 0 and previous number 0 is:  0\n",
      "sum of current number 1 and previous number 0 is:  1\n",
      "sum of current number 2 and previous number 1 is:  3\n",
      "sum of current number 3 and previous number 2 is:  5\n",
      "sum of current number 4 and previous number 3 is:  7\n",
      "sum of current number 5 and previous number 4 is:  9\n",
      "sum of current number 6 and previous number 5 is:  11\n",
      "sum of current number 7 and previous number 6 is:  13\n",
      "sum of current number 8 and previous number 7 is:  15\n",
      "sum of current number 9 and previous number 8 is:  17\n"
     ]
    }
   ],
   "source": [
    "prev_num = 0\n",
    "for i in range(0,10):\n",
    "    sum_2 = prev_num + i\n",
    "    print(f\"sum of current number {i} and previous number {prev_num} is: \",sum_2)\n",
    "    prev_num = i"
   ]
  },
  {
   "cell_type": "markdown",
   "id": "b1255b19",
   "metadata": {},
   "source": [
    "# 2) Write a program to find how many times substring “Emma” appears in the given string."
   ]
  },
  {
   "cell_type": "code",
   "execution_count": 2,
   "id": "7fbcc508",
   "metadata": {},
   "outputs": [
    {
     "name": "stdout",
     "output_type": "stream",
     "text": [
      "Emma appeared 2 times\n"
     ]
    }
   ],
   "source": [
    "str_x = \"Emma is good developer. Emma is a writer\"\n",
    "n = str_x.count('Emma')\n",
    "print(f'Emma appeared {n} times')"
   ]
  },
  {
   "cell_type": "markdown",
   "id": "4b5c0256",
   "metadata": {},
   "source": [
    "# 3) Create a new list from a two list using the following condition\n",
    "Given a two list of numbers, write a program to create a new list such that the\n",
    "new list should contain odd numbers from the first list and even numbers\n",
    "from the second list.\n",
    "Given:\n",
    "list1 = [10, 20, 25, 30, 35]\n",
    "list2 = [40, 45, 60, 75, 90]\n"
   ]
  },
  {
   "cell_type": "code",
   "execution_count": 4,
   "id": "39d88297",
   "metadata": {},
   "outputs": [
    {
     "name": "stdout",
     "output_type": "stream",
     "text": [
      "[25, 35, 40, 60, 90]\n"
     ]
    }
   ],
   "source": [
    "list1 = [10, 20, 25, 30, 35] \n",
    "list2 = [40, 45, 60, 75, 90]\n",
    "new_list = []\n",
    "for i in list1:\n",
    "    if i%2 != 0:\n",
    "        new_list.append(i)\n",
    "for n in list2:\n",
    "    if n%2==0:\n",
    "        new_list.append(n)\n",
    "print(new_list)"
   ]
  },
  {
   "cell_type": "markdown",
   "id": "c5ef92a1",
   "metadata": {},
   "source": [
    "# 4) Print downward Half-Pyramid Pattern with Star (asterisk)"
   ]
  },
  {
   "cell_type": "code",
   "execution_count": 6,
   "id": "6e22aab1",
   "metadata": {},
   "outputs": [
    {
     "name": "stdout",
     "output_type": "stream",
     "text": [
      "*****\n",
      "****\n",
      "***\n",
      "**\n",
      "*\n",
      "\n"
     ]
    }
   ],
   "source": [
    "n = 6\n",
    "for i in range(n, 0, -1):\n",
    "    for j in range(0, i-1):\n",
    "        print('*', end = '')\n",
    "    print('')"
   ]
  },
  {
   "cell_type": "code",
   "execution_count": 7,
   "id": "8de62d18",
   "metadata": {},
   "outputs": [
    {
     "name": "stdout",
     "output_type": "stream",
     "text": [
      "\n",
      "\n",
      "*\n",
      "**\n",
      "***\n",
      "****\n"
     ]
    }
   ],
   "source": [
    "n = 6\n",
    "for i in range(0, n):\n",
    "    for j in range(0, i-1):\n",
    "        print('*', end = '')\n",
    "    print('')"
   ]
  },
  {
   "cell_type": "code",
   "execution_count": 8,
   "id": "9aafaa03",
   "metadata": {},
   "outputs": [
    {
     "name": "stdout",
     "output_type": "stream",
     "text": [
      "\n",
      "\n",
      "*\n",
      "**\n",
      "***\n",
      "****\n",
      "*****\n",
      "****\n",
      "***\n",
      "**\n",
      "*\n",
      "\n"
     ]
    }
   ],
   "source": [
    "n = 6\n",
    "for i in range(0, n):\n",
    "    for j in range(0, i-1):\n",
    "        print('*', end = '')\n",
    "    print('')\n",
    "n = 6\n",
    "for i in range(n, 0, -1):\n",
    "    for j in range(0, i-1):\n",
    "        print('*', end = '')\n",
    "    print('')"
   ]
  },
  {
   "cell_type": "markdown",
   "id": "47252893",
   "metadata": {},
   "source": [
    "# 5) Write a function called exponent(base, exp) that returns an int value of base raises to the power of exp.\n"
   ]
  },
  {
   "cell_type": "code",
   "execution_count": 10,
   "id": "2c2bc46b",
   "metadata": {},
   "outputs": [
    {
     "name": "stdout",
     "output_type": "stream",
     "text": [
      "enetr a number: 2\n",
      "Enter another number: 5\n",
      "2 raise to power of 5 is:  32\n"
     ]
    }
   ],
   "source": [
    "base = int(input(\"enetr a number: \"))\n",
    "power = int(input('Enter another number: '))\n",
    "b_p = base**power\n",
    "print(f'{base} raise to power of {power} is: ',b_p)"
   ]
  },
  {
   "cell_type": "markdown",
   "id": "b9b8db4d",
   "metadata": {},
   "source": [
    "# 6) Write a NumPy program to test whether none of the elements of a given array is zero."
   ]
  },
  {
   "cell_type": "code",
   "execution_count": 18,
   "id": "56381695",
   "metadata": {},
   "outputs": [
    {
     "data": {
      "text/plain": [
       "array([False, False, False, False, False])"
      ]
     },
     "execution_count": 18,
     "metadata": {},
     "output_type": "execute_result"
    }
   ],
   "source": [
    "import numpy as np\n",
    "arr = np.array([2,5,4,8,7])\n",
    "arr ==0"
   ]
  },
  {
   "cell_type": "markdown",
   "id": "9d55c692",
   "metadata": {},
   "source": [
    "# 7) . Write a NumPy program to create an array of 10 zeros,10 ones, 10 fives."
   ]
  },
  {
   "cell_type": "code",
   "execution_count": 21,
   "id": "03bed4d8",
   "metadata": {},
   "outputs": [
    {
     "data": {
      "text/plain": [
       "array([0., 0., 0., 0., 0., 0., 0., 0., 0., 0., 1., 1., 1., 1., 1., 1., 1.,\n",
       "       1., 1., 1., 5., 5., 5., 5., 5., 5., 5., 5., 5.])"
      ]
     },
     "execution_count": 21,
     "metadata": {},
     "output_type": "execute_result"
    }
   ],
   "source": [
    "arr1 = np.zeros(10)\n",
    "arr2 = np.ones(10)\n",
    "arr3 = np.array([5,5,5,5,5,5,5,5,5])\n",
    "arr = np.hstack(((arr1,arr2,arr3)))\n",
    "arr"
   ]
  },
  {
   "cell_type": "markdown",
   "id": "265f3a45",
   "metadata": {},
   "source": [
    "# 8) Write a NumPy program to create an array of all the even integers from 30 to70."
   ]
  },
  {
   "cell_type": "code",
   "execution_count": 22,
   "id": "7381d4df",
   "metadata": {},
   "outputs": [
    {
     "data": {
      "text/plain": [
       "array([30, 32, 34, 36, 38, 40, 42, 44, 46, 48, 50, 52, 54, 56, 58, 60, 62,\n",
       "       64, 66, 68, 70])"
      ]
     },
     "execution_count": 22,
     "metadata": {},
     "output_type": "execute_result"
    }
   ],
   "source": [
    "a = []\n",
    "for n in range(30,71):\n",
    "        if n%2==0:\n",
    "            a.append(n)\n",
    "        else:\n",
    "            continue\n",
    "arr = np.array(a)\n",
    "arr"
   ]
  },
  {
   "cell_type": "markdown",
   "id": "0a0fed43",
   "metadata": {},
   "source": [
    "# 9) Write a NumPy program to compute sum of all elements, sum of each column and sum of each row of a given array."
   ]
  },
  {
   "cell_type": "code",
   "execution_count": 23,
   "id": "49969997",
   "metadata": {},
   "outputs": [
    {
     "data": {
      "text/plain": [
       "array([[11, 15, 13, 19, 18],\n",
       "       [22, 12, 16, 24, 19],\n",
       "       [16, 20, 23, 19, 11]])"
      ]
     },
     "execution_count": 23,
     "metadata": {},
     "output_type": "execute_result"
    }
   ],
   "source": [
    "arr = np.random.randint(10,25,15).reshape(3,5)\n",
    "arr"
   ]
  },
  {
   "cell_type": "code",
   "execution_count": 24,
   "id": "ffcdb33a",
   "metadata": {},
   "outputs": [
    {
     "data": {
      "text/plain": [
       "258"
      ]
     },
     "execution_count": 24,
     "metadata": {},
     "output_type": "execute_result"
    }
   ],
   "source": [
    "#sum of all elements\n",
    "np.sum(arr)"
   ]
  },
  {
   "cell_type": "code",
   "execution_count": 26,
   "id": "a34ef317",
   "metadata": {},
   "outputs": [
    {
     "data": {
      "text/plain": [
       "array([49, 47, 52, 62, 48])"
      ]
     },
     "execution_count": 26,
     "metadata": {},
     "output_type": "execute_result"
    }
   ],
   "source": [
    "#sum of each column\n",
    "np.sum(arr,axis = 0)"
   ]
  },
  {
   "cell_type": "code",
   "execution_count": 27,
   "id": "738367a5",
   "metadata": {},
   "outputs": [
    {
     "data": {
      "text/plain": [
       "array([76, 93, 89])"
      ]
     },
     "execution_count": 27,
     "metadata": {},
     "output_type": "execute_result"
    }
   ],
   "source": [
    "#sum of each row\n",
    "np.sum(arr, axis = 1)"
   ]
  },
  {
   "cell_type": "markdown",
   "id": "734e6883",
   "metadata": {},
   "source": [
    "# 10) Write a NumPy program to create a 5x5 zero matrix with elements on the main diagonal equal to 1, 2, 3, 4, 5."
   ]
  },
  {
   "cell_type": "code",
   "execution_count": 29,
   "id": "92f893c9",
   "metadata": {},
   "outputs": [
    {
     "data": {
      "text/plain": [
       "array([[1, 0, 0, 0, 0],\n",
       "       [0, 2, 0, 0, 0],\n",
       "       [0, 0, 3, 0, 0],\n",
       "       [0, 0, 0, 4, 0],\n",
       "       [0, 0, 0, 0, 5]])"
      ]
     },
     "execution_count": 29,
     "metadata": {},
     "output_type": "execute_result"
    }
   ],
   "source": [
    "arr = np.diag([1,2,3,4,5])\n",
    "arr"
   ]
  },
  {
   "cell_type": "code",
   "execution_count": null,
   "id": "00681ffd",
   "metadata": {},
   "outputs": [],
   "source": []
  }
 ],
 "metadata": {
  "kernelspec": {
   "display_name": "Python 3 (ipykernel)",
   "language": "python",
   "name": "python3"
  },
  "language_info": {
   "codemirror_mode": {
    "name": "ipython",
    "version": 3
   },
   "file_extension": ".py",
   "mimetype": "text/x-python",
   "name": "python",
   "nbconvert_exporter": "python",
   "pygments_lexer": "ipython3",
   "version": "3.9.12"
  }
 },
 "nbformat": 4,
 "nbformat_minor": 5
}
