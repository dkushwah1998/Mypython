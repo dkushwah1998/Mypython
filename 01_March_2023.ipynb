{
 "cells": [
  {
   "cell_type": "markdown",
   "id": "1b92321c",
   "metadata": {},
   "source": [
    "# 1. Write a NumPy program to sort a given array by row and column in ascending order."
   ]
  },
  {
   "cell_type": "code",
   "execution_count": 1,
   "id": "5ae3ef2c",
   "metadata": {},
   "outputs": [],
   "source": [
    "import numpy as np"
   ]
  },
  {
   "cell_type": "code",
   "execution_count": 2,
   "id": "3d6b1f7b",
   "metadata": {},
   "outputs": [],
   "source": [
    "arr = np.random.randint(10,25,16).reshape(4,4)"
   ]
  },
  {
   "cell_type": "code",
   "execution_count": 3,
   "id": "0e460cd2",
   "metadata": {},
   "outputs": [
    {
     "data": {
      "text/plain": [
       "array([[22, 20, 10, 23],\n",
       "       [10, 24, 13, 18],\n",
       "       [18, 24, 19, 16],\n",
       "       [23, 15, 23, 13]])"
      ]
     },
     "execution_count": 3,
     "metadata": {},
     "output_type": "execute_result"
    }
   ],
   "source": [
    "arr"
   ]
  },
  {
   "cell_type": "code",
   "execution_count": 4,
   "id": "4409df4c",
   "metadata": {},
   "outputs": [
    {
     "data": {
      "text/plain": [
       "array([[10, 15, 10, 13],\n",
       "       [18, 20, 13, 16],\n",
       "       [22, 24, 19, 18],\n",
       "       [23, 24, 23, 23]])"
      ]
     },
     "execution_count": 4,
     "metadata": {},
     "output_type": "execute_result"
    }
   ],
   "source": [
    "#column ascending order\n",
    "np.sort(arr,axis = 0)"
   ]
  },
  {
   "cell_type": "code",
   "execution_count": 5,
   "id": "f1c1e4a9",
   "metadata": {},
   "outputs": [
    {
     "data": {
      "text/plain": [
       "array([[10, 20, 22, 23],\n",
       "       [10, 13, 18, 24],\n",
       "       [16, 18, 19, 24],\n",
       "       [13, 15, 23, 23]])"
      ]
     },
     "execution_count": 5,
     "metadata": {},
     "output_type": "execute_result"
    }
   ],
   "source": [
    "#row ascending order\n",
    "np.sort(arr,axis=1)"
   ]
  },
  {
   "cell_type": "markdown",
   "id": "ef8a2d82",
   "metadata": {},
   "source": [
    "# 2. Write a NumPy program to create a three-dimension array with shape (3,5,4) and set to a variable."
   ]
  },
  {
   "cell_type": "code",
   "execution_count": 9,
   "id": "a19b4675",
   "metadata": {},
   "outputs": [],
   "source": [
    "arr_3d = np.random.randint(0,100,3*5*4).reshape(3,5,4)"
   ]
  },
  {
   "cell_type": "code",
   "execution_count": 10,
   "id": "ccbde4c2",
   "metadata": {},
   "outputs": [
    {
     "data": {
      "text/plain": [
       "array([[[75, 59, 17, 20],\n",
       "        [ 7, 46, 82, 38],\n",
       "        [31,  5, 56, 35],\n",
       "        [65, 68,  6, 80],\n",
       "        [ 2, 42, 36,  4]],\n",
       "\n",
       "       [[40, 44, 27, 49],\n",
       "        [38, 95, 96, 49],\n",
       "        [90, 47, 22,  3],\n",
       "        [ 3, 31, 86, 98],\n",
       "        [17, 81, 49, 26]],\n",
       "\n",
       "       [[78, 39, 92, 71],\n",
       "        [79,  3, 97, 13],\n",
       "        [33, 91,  8, 34],\n",
       "        [88, 72, 28, 94],\n",
       "        [86, 96, 44, 35]]])"
      ]
     },
     "execution_count": 10,
     "metadata": {},
     "output_type": "execute_result"
    }
   ],
   "source": [
    "arr_3d"
   ]
  },
  {
   "cell_type": "code",
   "execution_count": 11,
   "id": "12cb4953",
   "metadata": {},
   "outputs": [
    {
     "data": {
      "text/plain": [
       "(3, 5, 4)"
      ]
     },
     "execution_count": 11,
     "metadata": {},
     "output_type": "execute_result"
    }
   ],
   "source": [
    "arr_3d.shape"
   ]
  },
  {
   "cell_type": "markdown",
   "id": "1f5b9e18",
   "metadata": {},
   "source": [
    "# 3.  Write a NumPy program to swap rows and columns of a given array in reverse order.Write a NumPy program to multiply two given arrays of same size element-by-element."
   ]
  },
  {
   "cell_type": "code",
   "execution_count": 13,
   "id": "fd0b5e80",
   "metadata": {},
   "outputs": [],
   "source": [
    "arr_1 = np.random.randint(10,100,20).reshape(4,5)\n",
    "arr_2 = np.random.randint(20,80,20).reshape(4,5)"
   ]
  },
  {
   "cell_type": "code",
   "execution_count": 14,
   "id": "405c4b96",
   "metadata": {},
   "outputs": [
    {
     "data": {
      "text/plain": [
       "array([[30, 72, 85, 79, 12],\n",
       "       [31, 72, 80, 35, 31],\n",
       "       [17, 51, 61, 11, 79],\n",
       "       [65, 48, 32, 20, 21]])"
      ]
     },
     "execution_count": 14,
     "metadata": {},
     "output_type": "execute_result"
    }
   ],
   "source": [
    "arr_1"
   ]
  },
  {
   "cell_type": "code",
   "execution_count": 15,
   "id": "b3e9b821",
   "metadata": {},
   "outputs": [
    {
     "data": {
      "text/plain": [
       "array([[30, 31, 17, 65],\n",
       "       [72, 72, 51, 48],\n",
       "       [85, 80, 61, 32],\n",
       "       [79, 35, 11, 20],\n",
       "       [12, 31, 79, 21]])"
      ]
     },
     "execution_count": 15,
     "metadata": {},
     "output_type": "execute_result"
    }
   ],
   "source": [
    "#swapping\n",
    "np.transpose(arr_1)"
   ]
  },
  {
   "cell_type": "code",
   "execution_count": 16,
   "id": "8c3ff901",
   "metadata": {},
   "outputs": [
    {
     "data": {
      "text/plain": [
       "array([[ 600, 3312, 5865, 4661,  372],\n",
       "       [ 620, 5472, 1760, 1995, 1209],\n",
       "       [ 714, 4029, 4636,  858, 2607],\n",
       "       [2015, 2976,  864, 1340,  504]])"
      ]
     },
     "execution_count": 16,
     "metadata": {},
     "output_type": "execute_result"
    }
   ],
   "source": [
    "#multiplication element by element\n",
    "arr_1*arr_2"
   ]
  },
  {
   "cell_type": "markdown",
   "id": "fcfe6942",
   "metadata": {},
   "source": [
    "# 4. Write a NumPy program to print the NumPy version in your system."
   ]
  },
  {
   "cell_type": "code",
   "execution_count": 17,
   "id": "219a3ece",
   "metadata": {},
   "outputs": [
    {
     "data": {
      "text/plain": [
       "'1.21.5'"
      ]
     },
     "execution_count": 17,
     "metadata": {},
     "output_type": "execute_result"
    }
   ],
   "source": [
    "np.__version__"
   ]
  },
  {
   "cell_type": "markdown",
   "id": "edb4aec2",
   "metadata": {},
   "source": [
    "# 5. Print max from axis 0 and min from axis 1 from the following 2-D array.\n",
    "sampleArray =\n",
    "numpy.array([[34,43,73],[82,22,12],[53,94,66]])"
   ]
  },
  {
   "cell_type": "code",
   "execution_count": 18,
   "id": "a2834dae",
   "metadata": {},
   "outputs": [],
   "source": [
    "sampleArray = np.array([[34,43,73],[82,22,12],[53,94,66]])"
   ]
  },
  {
   "cell_type": "code",
   "execution_count": 19,
   "id": "e4d32f6e",
   "metadata": {},
   "outputs": [
    {
     "data": {
      "text/plain": [
       "array([[34, 43, 73],\n",
       "       [82, 22, 12],\n",
       "       [53, 94, 66]])"
      ]
     },
     "execution_count": 19,
     "metadata": {},
     "output_type": "execute_result"
    }
   ],
   "source": [
    "sampleArray"
   ]
  },
  {
   "cell_type": "code",
   "execution_count": 20,
   "id": "e84dc306",
   "metadata": {},
   "outputs": [
    {
     "data": {
      "text/plain": [
       "array([82, 94, 73])"
      ]
     },
     "execution_count": 20,
     "metadata": {},
     "output_type": "execute_result"
    }
   ],
   "source": [
    "np.max(sampleArray,axis=0)"
   ]
  },
  {
   "cell_type": "code",
   "execution_count": 21,
   "id": "c6206e14",
   "metadata": {},
   "outputs": [
    {
     "data": {
      "text/plain": [
       "array([34, 12, 53])"
      ]
     },
     "execution_count": 21,
     "metadata": {},
     "output_type": "execute_result"
    }
   ],
   "source": [
    "np.min(sampleArray,axis=1)"
   ]
  },
  {
   "cell_type": "markdown",
   "id": "621d0730",
   "metadata": {},
   "source": [
    "# 6. Delete the second column from a given array and insert the following new column in its place.\n",
    "sampleArray =\n",
    "numpy.array([[34,43,73],[82,22,12],[53,94,66]])\n",
    "newColumn = numpy.array([[10,10,10]])"
   ]
  },
  {
   "cell_type": "code",
   "execution_count": 23,
   "id": "f4df5824",
   "metadata": {},
   "outputs": [],
   "source": [
    "sampleArray = np.array([[34,43,73],[82,22,12],[53,94,66]])\n",
    "newColumn = np.array([[10,10,10]])"
   ]
  },
  {
   "cell_type": "code",
   "execution_count": 30,
   "id": "9a4be268",
   "metadata": {},
   "outputs": [],
   "source": [
    "new_arr = np.delete(sampleArray, 1,axis = 1)"
   ]
  },
  {
   "cell_type": "code",
   "execution_count": 38,
   "id": "981eb5a3",
   "metadata": {},
   "outputs": [
    {
     "data": {
      "text/plain": [
       "array([[34, 73],\n",
       "       [82, 12],\n",
       "       [53, 66]])"
      ]
     },
     "execution_count": 38,
     "metadata": {},
     "output_type": "execute_result"
    }
   ],
   "source": [
    "new_arr"
   ]
  },
  {
   "cell_type": "code",
   "execution_count": 37,
   "id": "7979afb7",
   "metadata": {},
   "outputs": [
    {
     "data": {
      "text/plain": [
       "array([[34, 10, 73],\n",
       "       [82, 10, 12],\n",
       "       [53, 10, 66]])"
      ]
     },
     "execution_count": 37,
     "metadata": {},
     "output_type": "execute_result"
    }
   ],
   "source": [
    "np.insert(new_arr, 1, newColumn,  axis = 1)"
   ]
  },
  {
   "cell_type": "markdown",
   "id": "65079a37",
   "metadata": {},
   "source": [
    "# 7. Sort following NumPy array\n",
    "● Case 1: Sort array by the second row\n",
    "\n",
    "● Case 2: Sort the array by the second column\n",
    "\n",
    "sampleArray =\n",
    "numpy.array([[34,43,73],[82,22,12],[53,94,66]])\n"
   ]
  },
  {
   "cell_type": "code",
   "execution_count": 40,
   "id": "fa8e0b0d",
   "metadata": {},
   "outputs": [],
   "source": [
    "sampleArray = np.array([[34,43,73],[82,22,12],[53,94,66]])"
   ]
  },
  {
   "cell_type": "code",
   "execution_count": 41,
   "id": "50accee0",
   "metadata": {},
   "outputs": [
    {
     "data": {
      "text/plain": [
       "array([[34, 43, 73],\n",
       "       [82, 22, 12],\n",
       "       [53, 94, 66]])"
      ]
     },
     "execution_count": 41,
     "metadata": {},
     "output_type": "execute_result"
    }
   ],
   "source": [
    "sampleArray"
   ]
  },
  {
   "cell_type": "code",
   "execution_count": 56,
   "id": "d05ab15f",
   "metadata": {},
   "outputs": [
    {
     "data": {
      "text/plain": [
       "array([2, 1, 0], dtype=int64)"
      ]
     },
     "execution_count": 56,
     "metadata": {},
     "output_type": "execute_result"
    }
   ],
   "source": [
    "#case 1\n",
    "c = sampleArray[1,:].argsort()\n",
    "c"
   ]
  },
  {
   "cell_type": "code",
   "execution_count": 58,
   "id": "6526525f",
   "metadata": {},
   "outputs": [
    {
     "data": {
      "text/plain": [
       "array([[73, 43, 34],\n",
       "       [12, 22, 82],\n",
       "       [66, 94, 53]])"
      ]
     },
     "execution_count": 58,
     "metadata": {},
     "output_type": "execute_result"
    }
   ],
   "source": [
    "sampleArray[:,c]"
   ]
  },
  {
   "cell_type": "code",
   "execution_count": 54,
   "id": "35a058cc",
   "metadata": {},
   "outputs": [
    {
     "data": {
      "text/plain": [
       "array([1, 0, 2], dtype=int64)"
      ]
     },
     "execution_count": 54,
     "metadata": {},
     "output_type": "execute_result"
    }
   ],
   "source": [
    "#case 2\n",
    "c1 = sampleArray[:,1].argsort()\n",
    "c1"
   ]
  },
  {
   "cell_type": "code",
   "execution_count": 55,
   "id": "25c05154",
   "metadata": {},
   "outputs": [
    {
     "data": {
      "text/plain": [
       "array([[82, 22, 12],\n",
       "       [34, 43, 73],\n",
       "       [53, 94, 66]])"
      ]
     },
     "execution_count": 55,
     "metadata": {},
     "output_type": "execute_result"
    }
   ],
   "source": [
    "sampleArray[c1]"
   ]
  },
  {
   "cell_type": "markdown",
   "id": "c691f23f",
   "metadata": {},
   "source": [
    "# 8. Create a result array by adding the following two NumPy arrays. Next, modify the result array by calculating the square of each element\n",
    "\n",
    "arrayOne = numpy.array([[5, 6, 9], [21 ,18, 27]])\n",
    "\n",
    "arrayTwo = numpy.array([[15 ,33, 24], [4 ,7, 1]])"
   ]
  },
  {
   "cell_type": "code",
   "execution_count": 59,
   "id": "59bca634",
   "metadata": {},
   "outputs": [],
   "source": [
    "arr_1 = np.array([[5, 6, 9], [21 ,18, 27]])\n",
    "arr_2 = np.array([[15 ,33, 24], [4 ,7, 1]])"
   ]
  },
  {
   "cell_type": "code",
   "execution_count": 60,
   "id": "dc2285e9",
   "metadata": {},
   "outputs": [],
   "source": [
    "sum_arr = arr_1 + arr_2"
   ]
  },
  {
   "cell_type": "code",
   "execution_count": 61,
   "id": "0640cfc9",
   "metadata": {},
   "outputs": [
    {
     "data": {
      "text/plain": [
       "array([[20, 39, 33],\n",
       "       [25, 25, 28]])"
      ]
     },
     "execution_count": 61,
     "metadata": {},
     "output_type": "execute_result"
    }
   ],
   "source": [
    "sum_arr"
   ]
  },
  {
   "cell_type": "code",
   "execution_count": 63,
   "id": "940b9522",
   "metadata": {},
   "outputs": [
    {
     "data": {
      "text/plain": [
       "array([[ 400, 1521, 1089],\n",
       "       [ 625,  625,  784]], dtype=int32)"
      ]
     },
     "execution_count": 63,
     "metadata": {},
     "output_type": "execute_result"
    }
   ],
   "source": [
    "##square of each element\n",
    "np.square(sum_arr)"
   ]
  },
  {
   "cell_type": "markdown",
   "id": "7a876fa5",
   "metadata": {},
   "source": [
    "# 9. Write a NumPy program to compute the multiplication of two given matrixes.\n"
   ]
  },
  {
   "cell_type": "code",
   "execution_count": 65,
   "id": "20f05c63",
   "metadata": {},
   "outputs": [],
   "source": [
    "arr1 = np.random.randint(0,25,6).reshape(2,3)\n",
    "arr2 = np.random.randint(0,25,6).reshape(2,3)"
   ]
  },
  {
   "cell_type": "code",
   "execution_count": 66,
   "id": "0988eb73",
   "metadata": {},
   "outputs": [
    {
     "data": {
      "text/plain": [
       "array([[16, 13, 18],\n",
       "       [ 9,  1,  9]])"
      ]
     },
     "execution_count": 66,
     "metadata": {},
     "output_type": "execute_result"
    }
   ],
   "source": [
    "arr1"
   ]
  },
  {
   "cell_type": "code",
   "execution_count": 67,
   "id": "932f87f0",
   "metadata": {},
   "outputs": [
    {
     "data": {
      "text/plain": [
       "array([[13,  1, 21],\n",
       "       [10, 20,  4]])"
      ]
     },
     "execution_count": 67,
     "metadata": {},
     "output_type": "execute_result"
    }
   ],
   "source": [
    "arr2 "
   ]
  },
  {
   "cell_type": "code",
   "execution_count": 69,
   "id": "65e271cd",
   "metadata": {},
   "outputs": [
    {
     "data": {
      "text/plain": [
       "array([[599, 492],\n",
       "       [307, 146]])"
      ]
     },
     "execution_count": 69,
     "metadata": {},
     "output_type": "execute_result"
    }
   ],
   "source": [
    "np.dot(arr1,arr2.T)"
   ]
  },
  {
   "cell_type": "markdown",
   "id": "84e883f4",
   "metadata": {},
   "source": [
    "# 10. Write a NumPy program to find a matrix or vector norm.\n"
   ]
  },
  {
   "cell_type": "code",
   "execution_count": 70,
   "id": "4e81f610",
   "metadata": {},
   "outputs": [],
   "source": [
    "arr = np.random.randint(4,25,9).reshape(3,3)"
   ]
  },
  {
   "cell_type": "code",
   "execution_count": 71,
   "id": "7e1f7362",
   "metadata": {},
   "outputs": [
    {
     "data": {
      "text/plain": [
       "array([[22, 24, 20],\n",
       "       [19,  4, 15],\n",
       "       [15, 10, 13]])"
      ]
     },
     "execution_count": 71,
     "metadata": {},
     "output_type": "execute_result"
    }
   ],
   "source": [
    "arr"
   ]
  },
  {
   "cell_type": "code",
   "execution_count": 72,
   "id": "2edf4565",
   "metadata": {},
   "outputs": [
    {
     "data": {
      "text/plain": [
       "50.556898639058154"
      ]
     },
     "execution_count": 72,
     "metadata": {},
     "output_type": "execute_result"
    }
   ],
   "source": [
    "np.linalg.norm(arr)"
   ]
  },
  {
   "cell_type": "code",
   "execution_count": null,
   "id": "21062211",
   "metadata": {},
   "outputs": [],
   "source": []
  }
 ],
 "metadata": {
  "kernelspec": {
   "display_name": "Python 3 (ipykernel)",
   "language": "python",
   "name": "python3"
  },
  "language_info": {
   "codemirror_mode": {
    "name": "ipython",
    "version": 3
   },
   "file_extension": ".py",
   "mimetype": "text/x-python",
   "name": "python",
   "nbconvert_exporter": "python",
   "pygments_lexer": "ipython3",
   "version": "3.9.12"
  }
 },
 "nbformat": 4,
 "nbformat_minor": 5
}
