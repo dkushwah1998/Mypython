{
 "cells": [
  {
   "cell_type": "code",
   "execution_count": 1,
   "id": "23e9630c",
   "metadata": {},
   "outputs": [],
   "source": [
    "import numpy as np"
   ]
  },
  {
   "cell_type": "markdown",
   "id": "8e8b936c",
   "metadata": {},
   "source": [
    "# 1. Write a NumPy program to compute the condition number of a given matrix.\n"
   ]
  },
  {
   "cell_type": "code",
   "execution_count": 2,
   "id": "610aed8b",
   "metadata": {},
   "outputs": [],
   "source": [
    "arr = np.random.randint(10,30,15).reshape(3,5)"
   ]
  },
  {
   "cell_type": "code",
   "execution_count": 3,
   "id": "44b467da",
   "metadata": {},
   "outputs": [
    {
     "data": {
      "text/plain": [
       "array([[21, 19, 11, 26, 23],\n",
       "       [18, 23, 26, 11, 13],\n",
       "       [23, 18, 26, 10, 23]])"
      ]
     },
     "execution_count": 3,
     "metadata": {},
     "output_type": "execute_result"
    }
   ],
   "source": [
    "arr"
   ]
  },
  {
   "cell_type": "code",
   "execution_count": 4,
   "id": "f7852ce4",
   "metadata": {},
   "outputs": [
    {
     "data": {
      "text/plain": [
       "9.443172072768514"
      ]
     },
     "execution_count": 4,
     "metadata": {},
     "output_type": "execute_result"
    }
   ],
   "source": [
    "np.linalg.cond(arr)"
   ]
  },
  {
   "cell_type": "markdown",
   "id": "7089cae6",
   "metadata": {},
   "source": [
    "# 2. Write a NumPy program to add, subtract, multiply, divide arguments element-wise."
   ]
  },
  {
   "cell_type": "code",
   "execution_count": 5,
   "id": "7c468262",
   "metadata": {},
   "outputs": [],
   "source": [
    "arr1 = np.random.randint(0,100,25).reshape(5,5)\n",
    "arr2 = np.random.randint(0,100,25).reshape(5,5)"
   ]
  },
  {
   "cell_type": "code",
   "execution_count": 6,
   "id": "474d11d1",
   "metadata": {},
   "outputs": [
    {
     "data": {
      "text/plain": [
       "array([[60, 58, 72, 29, 80],\n",
       "       [80, 94, 50, 86, 77],\n",
       "       [63, 90, 20, 39, 67],\n",
       "       [ 2, 81,  4, 24, 71],\n",
       "       [93, 59, 47, 82, 55]])"
      ]
     },
     "execution_count": 6,
     "metadata": {},
     "output_type": "execute_result"
    }
   ],
   "source": [
    "arr1"
   ]
  },
  {
   "cell_type": "code",
   "execution_count": 7,
   "id": "d956f8ce",
   "metadata": {},
   "outputs": [
    {
     "data": {
      "text/plain": [
       "array([[47,  8, 83, 74, 99],\n",
       "       [ 7, 56, 37, 90,  3],\n",
       "       [85, 41, 90, 16, 24],\n",
       "       [24, 67, 91, 77, 54],\n",
       "       [30, 75, 17, 24, 83]])"
      ]
     },
     "execution_count": 7,
     "metadata": {},
     "output_type": "execute_result"
    }
   ],
   "source": [
    "arr2"
   ]
  },
  {
   "cell_type": "code",
   "execution_count": 8,
   "id": "2ebb3bcb",
   "metadata": {},
   "outputs": [
    {
     "data": {
      "text/plain": [
       "array([[107,  66, 155, 103, 179],\n",
       "       [ 87, 150,  87, 176,  80],\n",
       "       [148, 131, 110,  55,  91],\n",
       "       [ 26, 148,  95, 101, 125],\n",
       "       [123, 134,  64, 106, 138]])"
      ]
     },
     "execution_count": 8,
     "metadata": {},
     "output_type": "execute_result"
    }
   ],
   "source": [
    "#addition\n",
    "arr1+arr2"
   ]
  },
  {
   "cell_type": "code",
   "execution_count": 9,
   "id": "6d8e02f0",
   "metadata": {},
   "outputs": [
    {
     "data": {
      "text/plain": [
       "array([[ 13,  50, -11, -45, -19],\n",
       "       [ 73,  38,  13,  -4,  74],\n",
       "       [-22,  49, -70,  23,  43],\n",
       "       [-22,  14, -87, -53,  17],\n",
       "       [ 63, -16,  30,  58, -28]])"
      ]
     },
     "execution_count": 9,
     "metadata": {},
     "output_type": "execute_result"
    }
   ],
   "source": [
    "#subtraction\n",
    "arr1-arr2"
   ]
  },
  {
   "cell_type": "code",
   "execution_count": 10,
   "id": "9b8e52b9",
   "metadata": {},
   "outputs": [
    {
     "data": {
      "text/plain": [
       "array([[2820,  464, 5976, 2146, 7920],\n",
       "       [ 560, 5264, 1850, 7740,  231],\n",
       "       [5355, 3690, 1800,  624, 1608],\n",
       "       [  48, 5427,  364, 1848, 3834],\n",
       "       [2790, 4425,  799, 1968, 4565]])"
      ]
     },
     "execution_count": 10,
     "metadata": {},
     "output_type": "execute_result"
    }
   ],
   "source": [
    "#multiplication\n",
    "arr1*arr2"
   ]
  },
  {
   "cell_type": "code",
   "execution_count": 15,
   "id": "5bd861c7",
   "metadata": {},
   "outputs": [
    {
     "data": {
      "text/plain": [
       "array([[ 1.277,  7.25 ,  0.867,  0.392,  0.808],\n",
       "       [11.429,  1.679,  1.351,  0.956, 25.667],\n",
       "       [ 0.741,  2.195,  0.222,  2.438,  2.792],\n",
       "       [ 0.083,  1.209,  0.044,  0.312,  1.315],\n",
       "       [ 3.1  ,  0.787,  2.765,  3.417,  0.663]])"
      ]
     },
     "execution_count": 15,
     "metadata": {},
     "output_type": "execute_result"
    }
   ],
   "source": [
    "#division\n",
    "np.round(arr1/arr2,3)"
   ]
  },
  {
   "cell_type": "markdown",
   "id": "d76ce7d8",
   "metadata": {},
   "source": [
    "# 3.  Write a NumPy program to get the largest integer smaller or equal to the division of the inputs."
   ]
  },
  {
   "cell_type": "code",
   "execution_count": 16,
   "id": "4fb9b216",
   "metadata": {},
   "outputs": [],
   "source": [
    "arr = np.random.randint(20,50,12).reshape(4,3)"
   ]
  },
  {
   "cell_type": "code",
   "execution_count": 17,
   "id": "3b3dd5db",
   "metadata": {},
   "outputs": [
    {
     "data": {
      "text/plain": [
       "array([[24, 31, 22],\n",
       "       [31, 31, 47],\n",
       "       [25, 29, 40],\n",
       "       [39, 24, 48]])"
      ]
     },
     "execution_count": 17,
     "metadata": {},
     "output_type": "execute_result"
    }
   ],
   "source": [
    "arr"
   ]
  },
  {
   "cell_type": "code",
   "execution_count": 18,
   "id": "c07e6e45",
   "metadata": {},
   "outputs": [
    {
     "data": {
      "text/plain": [
       "array([[2, 3, 2],\n",
       "       [3, 3, 4],\n",
       "       [2, 2, 4],\n",
       "       [3, 2, 4]], dtype=int32)"
      ]
     },
     "execution_count": 18,
     "metadata": {},
     "output_type": "execute_result"
    }
   ],
   "source": [
    "np.floor_divide(arr, 10)"
   ]
  },
  {
   "cell_type": "markdown",
   "id": "9ce03e59",
   "metadata": {},
   "source": [
    "# 4. Write a NumPy program to get the powers of an array values element-wise.\n",
    "Note: First array elements raised to powers from second array\n"
   ]
  },
  {
   "cell_type": "code",
   "execution_count": 19,
   "id": "ef8a184a",
   "metadata": {},
   "outputs": [],
   "source": [
    "arr1 = np.array([0,1,2,3,4,5])\n",
    "arr2 = np.array([3,3,3,3,3,3])"
   ]
  },
  {
   "cell_type": "code",
   "execution_count": 20,
   "id": "4b2e5280",
   "metadata": {},
   "outputs": [
    {
     "data": {
      "text/plain": [
       "array([0, 1, 2, 3, 4, 5])"
      ]
     },
     "execution_count": 20,
     "metadata": {},
     "output_type": "execute_result"
    }
   ],
   "source": [
    "arr1"
   ]
  },
  {
   "cell_type": "code",
   "execution_count": 21,
   "id": "e38b4f49",
   "metadata": {},
   "outputs": [
    {
     "data": {
      "text/plain": [
       "array([  0,   1,   8,  27,  64, 125], dtype=int32)"
      ]
     },
     "execution_count": 21,
     "metadata": {},
     "output_type": "execute_result"
    }
   ],
   "source": [
    "arr1**arr2"
   ]
  },
  {
   "cell_type": "markdown",
   "id": "58198d7b",
   "metadata": {},
   "source": [
    "# 5. Write a NumPy program to round array elements to the given number of decimals.\n"
   ]
  },
  {
   "cell_type": "code",
   "execution_count": 22,
   "id": "4da87818",
   "metadata": {},
   "outputs": [
    {
     "data": {
      "text/plain": [
       "array([0.94967189, 0.44704199, 0.15257671, 0.66790867, 0.56152798,\n",
       "       0.8917925 , 0.95087648, 0.94795159, 0.76473808, 0.41326256,\n",
       "       0.65072946, 0.15986799, 0.74439776, 0.84420717, 0.44644357])"
      ]
     },
     "execution_count": 22,
     "metadata": {},
     "output_type": "execute_result"
    }
   ],
   "source": [
    "arr = np.random.random(15)\n",
    "arr"
   ]
  },
  {
   "cell_type": "code",
   "execution_count": 24,
   "id": "20ee11df",
   "metadata": {},
   "outputs": [
    {
     "data": {
      "text/plain": [
       "array([0.95 , 0.447, 0.153, 0.668, 0.562, 0.892, 0.951, 0.948, 0.765,\n",
       "       0.413, 0.651, 0.16 , 0.744, 0.844, 0.446])"
      ]
     },
     "execution_count": 24,
     "metadata": {},
     "output_type": "execute_result"
    }
   ],
   "source": [
    "#round the value till to 3 decimal places\n",
    "np.round(arr,3)"
   ]
  },
  {
   "cell_type": "markdown",
   "id": "a97ce14d",
   "metadata": {},
   "source": [
    "# 6. Write a NumPy program to multiply a 5x3 matrix by a 3x2 matrix and create a real matrix product.\n"
   ]
  },
  {
   "cell_type": "code",
   "execution_count": 26,
   "id": "46ef5641",
   "metadata": {},
   "outputs": [
    {
     "data": {
      "text/plain": [
       "array([[28, 24, 52],\n",
       "       [94, 84, 76],\n",
       "       [49, 38,  7],\n",
       "       [51, 12, 12],\n",
       "       [10, 33, 40]])"
      ]
     },
     "execution_count": 26,
     "metadata": {},
     "output_type": "execute_result"
    }
   ],
   "source": [
    "arr1 = np.random.randint(0,100,15).reshape(5,3)\n",
    "arr1"
   ]
  },
  {
   "cell_type": "code",
   "execution_count": 27,
   "id": "8f58ca63",
   "metadata": {},
   "outputs": [
    {
     "data": {
      "text/plain": [
       "array([[73, 47],\n",
       "       [69, 20],\n",
       "       [67, 69]])"
      ]
     },
     "execution_count": 27,
     "metadata": {},
     "output_type": "execute_result"
    }
   ],
   "source": [
    "arr2 = np.random.randint(0,100,6).reshape(3,2)\n",
    "arr2"
   ]
  },
  {
   "cell_type": "code",
   "execution_count": 28,
   "id": "679669d2",
   "metadata": {},
   "outputs": [
    {
     "data": {
      "text/plain": [
       "array([[ 7184,  5384],\n",
       "       [17750, 11342],\n",
       "       [ 6668,  3546],\n",
       "       [ 5355,  3465],\n",
       "       [ 5687,  3890]])"
      ]
     },
     "execution_count": 28,
     "metadata": {},
     "output_type": "execute_result"
    }
   ],
   "source": [
    "np.dot(arr1,arr2)"
   ]
  },
  {
   "cell_type": "markdown",
   "id": "ee5dff65",
   "metadata": {},
   "source": [
    "# 7. Write a NumPy program to sort a given array of shape 2 along the first axis, last axis and on flattened array."
   ]
  },
  {
   "cell_type": "code",
   "execution_count": 29,
   "id": "75cc8f12",
   "metadata": {},
   "outputs": [
    {
     "data": {
      "text/plain": [
       "array([[48, 47, 28, 42, 48],\n",
       "       [27, 27, 31, 30, 26],\n",
       "       [26, 26, 42, 31, 33]])"
      ]
     },
     "execution_count": 29,
     "metadata": {},
     "output_type": "execute_result"
    }
   ],
   "source": [
    "arr = np.random.randint(25,50,15).reshape(3,5)\n",
    "arr"
   ]
  },
  {
   "cell_type": "code",
   "execution_count": 30,
   "id": "6bc9e7cd",
   "metadata": {},
   "outputs": [
    {
     "data": {
      "text/plain": [
       "array([[26, 26, 28, 30, 26],\n",
       "       [27, 27, 31, 31, 33],\n",
       "       [48, 47, 42, 42, 48]])"
      ]
     },
     "execution_count": 30,
     "metadata": {},
     "output_type": "execute_result"
    }
   ],
   "source": [
    "np.sort(arr,axis=0)"
   ]
  },
  {
   "cell_type": "code",
   "execution_count": 31,
   "id": "3bc33dc6",
   "metadata": {},
   "outputs": [
    {
     "data": {
      "text/plain": [
       "array([[28, 42, 47, 48, 48],\n",
       "       [26, 27, 27, 30, 31],\n",
       "       [26, 26, 31, 33, 42]])"
      ]
     },
     "execution_count": 31,
     "metadata": {},
     "output_type": "execute_result"
    }
   ],
   "source": [
    "np.sort(arr,axis=1)"
   ]
  },
  {
   "cell_type": "code",
   "execution_count": 32,
   "id": "0fad5eec",
   "metadata": {},
   "outputs": [
    {
     "data": {
      "text/plain": [
       "array([26, 26, 26, 27, 27, 28, 30, 31, 31, 33, 42, 42, 47, 48, 48])"
      ]
     },
     "execution_count": 32,
     "metadata": {},
     "output_type": "execute_result"
    }
   ],
   "source": [
    "np.sort(arr,axis=None)\n"
   ]
  },
  {
   "cell_type": "markdown",
   "id": "6e2527d4",
   "metadata": {},
   "source": [
    "# 8. Write a NumPy program to create a structured array from given student name, height, class and their data types. Now sort by class, then height if class are equal."
   ]
  },
  {
   "cell_type": "code",
   "execution_count": 40,
   "id": "c265b2b3",
   "metadata": {},
   "outputs": [],
   "source": [
    "data_type = [('name', 'S15'), ('class', int), ('height', float)]"
   ]
  },
  {
   "cell_type": "code",
   "execution_count": 42,
   "id": "4ac29f41",
   "metadata": {},
   "outputs": [],
   "source": [
    "std_det = [('James', 5, 48.5 ), ('Nail', 6, 52.5 ), ('Paul', 5, 42.1 ), ('Pit', 5,\n",
    "40.11)]"
   ]
  },
  {
   "cell_type": "code",
   "execution_count": 43,
   "id": "f36a9915",
   "metadata": {},
   "outputs": [],
   "source": [
    "arr = np.array(std_det, dtype = data_type)"
   ]
  },
  {
   "cell_type": "code",
   "execution_count": 44,
   "id": "27610546",
   "metadata": {},
   "outputs": [
    {
     "data": {
      "text/plain": [
       "array([(b'James', 5, 48.5 ), (b'Nail', 6, 52.5 ), (b'Paul', 5, 42.1 ),\n",
       "       (b'Pit', 5, 40.11)],\n",
       "      dtype=[('name', 'S15'), ('class', '<i4'), ('height', '<f8')])"
      ]
     },
     "execution_count": 44,
     "metadata": {},
     "output_type": "execute_result"
    }
   ],
   "source": [
    "arr"
   ]
  },
  {
   "cell_type": "code",
   "execution_count": 47,
   "id": "af8e7cb1",
   "metadata": {},
   "outputs": [
    {
     "data": {
      "text/plain": [
       "array([(b'Pit', 5, 40.11), (b'Paul', 5, 42.1 ), (b'James', 5, 48.5 ),\n",
       "       (b'Nail', 6, 52.5 )],\n",
       "      dtype=[('name', 'S15'), ('class', '<i4'), ('height', '<f8')])"
      ]
     },
     "execution_count": 47,
     "metadata": {},
     "output_type": "execute_result"
    }
   ],
   "source": [
    "np.sort(arr,order = 'height')"
   ]
  },
  {
   "cell_type": "markdown",
   "id": "225207fa",
   "metadata": {},
   "source": [
    "# 9. Write a NumPy program to sort an given array by the nth column.\n"
   ]
  },
  {
   "cell_type": "code",
   "execution_count": 49,
   "id": "01acccb1",
   "metadata": {},
   "outputs": [
    {
     "data": {
      "text/plain": [
       "array([[1, 5, 0],\n",
       "       [3, 2, 5],\n",
       "       [8, 7, 6]])"
      ]
     },
     "execution_count": 49,
     "metadata": {},
     "output_type": "execute_result"
    }
   ],
   "source": [
    "arr = np.array([[1, 5, 0],[3, 2, 5],[8, 7, 6]])\n",
    "arr"
   ]
  },
  {
   "cell_type": "code",
   "execution_count": 55,
   "id": "80de23bb",
   "metadata": {},
   "outputs": [
    {
     "data": {
      "text/plain": [
       "array([[1, 2, 0],\n",
       "       [3, 5, 5],\n",
       "       [8, 7, 6]])"
      ]
     },
     "execution_count": 55,
     "metadata": {},
     "output_type": "execute_result"
    }
   ],
   "source": [
    "arr[arr[:,1].argsort()]"
   ]
  },
  {
   "cell_type": "markdown",
   "id": "295681be",
   "metadata": {},
   "source": [
    "# 10. Write a NumPy program to sort the specified number of elements from beginning of a given array"
   ]
  },
  {
   "cell_type": "code",
   "execution_count": 56,
   "id": "14a476ec",
   "metadata": {},
   "outputs": [
    {
     "data": {
      "text/plain": [
       "array([0.15507126, 0.30259236, 0.67940196, 0.4806076 , 0.48255157,\n",
       "       0.45941534, 0.02856099, 0.50750464, 0.97231319, 0.42512278,\n",
       "       0.25538898, 0.99417012, 0.07504536, 0.04260192, 0.70718997,\n",
       "       0.60535966, 0.04351114, 0.2835624 , 0.82148151, 0.5837811 ])"
      ]
     },
     "execution_count": 56,
     "metadata": {},
     "output_type": "execute_result"
    }
   ],
   "source": [
    "arr = np.random.random(20)\n",
    "arr"
   ]
  },
  {
   "cell_type": "markdown",
   "id": "509db004",
   "metadata": {},
   "source": [
    "sort for first 6 elements"
   ]
  },
  {
   "cell_type": "code",
   "execution_count": 60,
   "id": "0e5327ef",
   "metadata": {},
   "outputs": [
    {
     "data": {
      "text/plain": [
       "array([0.15507126, 0.30259236, 0.67940196, 0.4806076 , 0.48255157,\n",
       "       0.45941534])"
      ]
     },
     "execution_count": 60,
     "metadata": {},
     "output_type": "execute_result"
    }
   ],
   "source": [
    "arr_1 = arr[:6]\n",
    "arr_1"
   ]
  },
  {
   "cell_type": "code",
   "execution_count": 61,
   "id": "56311035",
   "metadata": {},
   "outputs": [],
   "source": [
    "arr_1 = np.sort(arr_1)"
   ]
  },
  {
   "cell_type": "code",
   "execution_count": 62,
   "id": "19cadf63",
   "metadata": {},
   "outputs": [
    {
     "data": {
      "text/plain": [
       "array([0.15507126, 0.30259236, 0.45941534, 0.4806076 , 0.48255157,\n",
       "       0.67940196])"
      ]
     },
     "execution_count": 62,
     "metadata": {},
     "output_type": "execute_result"
    }
   ],
   "source": [
    "arr_1"
   ]
  },
  {
   "cell_type": "code",
   "execution_count": 65,
   "id": "ffdea704",
   "metadata": {},
   "outputs": [
    {
     "data": {
      "text/plain": [
       "array([0.15507126, 0.30259236, 0.45941534, 0.4806076 , 0.48255157,\n",
       "       0.67940196, 0.02856099, 0.50750464, 0.97231319, 0.42512278,\n",
       "       0.25538898, 0.99417012, 0.07504536, 0.04260192, 0.70718997,\n",
       "       0.60535966, 0.04351114, 0.2835624 , 0.82148151, 0.5837811 ])"
      ]
     },
     "execution_count": 65,
     "metadata": {},
     "output_type": "execute_result"
    }
   ],
   "source": [
    "np.concatenate((arr_1,arr[6:]))"
   ]
  },
  {
   "cell_type": "code",
   "execution_count": null,
   "id": "c8b43be8",
   "metadata": {},
   "outputs": [],
   "source": []
  }
 ],
 "metadata": {
  "kernelspec": {
   "display_name": "Python 3 (ipykernel)",
   "language": "python",
   "name": "python3"
  },
  "language_info": {
   "codemirror_mode": {
    "name": "ipython",
    "version": 3
   },
   "file_extension": ".py",
   "mimetype": "text/x-python",
   "name": "python",
   "nbconvert_exporter": "python",
   "pygments_lexer": "ipython3",
   "version": "3.9.12"
  }
 },
 "nbformat": 4,
 "nbformat_minor": 5
}
